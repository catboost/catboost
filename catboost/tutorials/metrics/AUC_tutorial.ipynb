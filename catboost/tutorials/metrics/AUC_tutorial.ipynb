{
  "nbformat": 4,
  "nbformat_minor": 0,
  "metadata": {
    "colab": {
      "name": "AUC_tutorial.ipynb",
      "provenance": [],
      "collapsed_sections": [],
      "toc_visible": true
    },
    "kernelspec": {
      "name": "python3",
      "display_name": "Python 3"
    }
  },
  "cells": [
    {
      "cell_type": "markdown",
      "metadata": {
        "id": "dOWsiMm5YDb7",
        "colab_type": "text"
      },
      "source": [
        "## AUC in CatBoost"
      ]
    },
    {
      "cell_type": "markdown",
      "metadata": {
        "id": "Rezl56dveu0A",
        "colab_type": "text"
      },
      "source": [
        "[![Open In Colab](https://colab.research.google.com/assets/colab-badge.svg)](https://colab.research.google.com/github/catboost/catboost/tree/master/catboost/tutorial/metrics/AUC_tutorial.ipynb)"
      ]
    },
    {
      "cell_type": "markdown",
      "metadata": {
        "id": "-YOfI2AtQKQy",
        "colab_type": "text"
      },
      "source": [
        "The tutorial is dedicated to The Area Under the Receiver Operating Characteristic (ROC) Curve (AUC) and it's implementations in CatBoost for binary classification, multiclass classification and ranking problems.\n",
        "\n"
      ]
    },
    {
      "cell_type": "markdown",
      "metadata": {
        "id": "xLYUxiIw2-Ka",
        "colab_type": "text"
      },
      "source": [
        "### Library installation"
      ]
    },
    {
      "cell_type": "code",
      "metadata": {
        "id": "5xv97zZ-ZzfX",
        "colab_type": "code",
        "outputId": "087bb2ba-bd80-4c10-ec7d-b0a682cf07b7",
        "colab": {
          "base_uri": "https://localhost:8080/",
          "height": 1000
        }
      },
      "source": [
        "!pip install --upgrade catboost\n",
        "!pip install --upgrade ipywidgets\n",
        "!pip install shap\n",
        "!pip install --upgrade sklearn\n",
        "# !pip install --upgrade numpy\n",
        "!jupyter nbextension enable --py widgetsnbextension"
      ],
      "execution_count": 0,
      "outputs": [
        {
          "output_type": "stream",
          "text": [
            "Collecting catboost\n",
            "\u001b[?25l  Downloading https://files.pythonhosted.org/packages/94/ec/12b9a42b2ea7dfe5b602f235692ab2b61ee1334ff34334a15902272869e8/catboost-0.22-cp36-none-manylinux1_x86_64.whl (64.4MB)\n",
            "\u001b[K     |████████████████████████████████| 64.4MB 61kB/s \n",
            "\u001b[?25hRequirement already satisfied, skipping upgrade: matplotlib in /usr/local/lib/python3.6/dist-packages (from catboost) (3.2.1)\n",
            "Requirement already satisfied, skipping upgrade: pandas>=0.24.0 in /usr/local/lib/python3.6/dist-packages (from catboost) (1.0.3)\n",
            "Requirement already satisfied, skipping upgrade: scipy in /usr/local/lib/python3.6/dist-packages (from catboost) (1.4.1)\n",
            "Requirement already satisfied, skipping upgrade: graphviz in /usr/local/lib/python3.6/dist-packages (from catboost) (0.10.1)\n",
            "Requirement already satisfied, skipping upgrade: numpy>=1.16.0 in /usr/local/lib/python3.6/dist-packages (from catboost) (1.18.2)\n",
            "Requirement already satisfied, skipping upgrade: plotly in /usr/local/lib/python3.6/dist-packages (from catboost) (4.4.1)\n",
            "Requirement already satisfied, skipping upgrade: six in /usr/local/lib/python3.6/dist-packages (from catboost) (1.12.0)\n",
            "Requirement already satisfied, skipping upgrade: cycler>=0.10 in /usr/local/lib/python3.6/dist-packages (from matplotlib->catboost) (0.10.0)\n",
            "Requirement already satisfied, skipping upgrade: python-dateutil>=2.1 in /usr/local/lib/python3.6/dist-packages (from matplotlib->catboost) (2.8.1)\n",
            "Requirement already satisfied, skipping upgrade: pyparsing!=2.0.4,!=2.1.2,!=2.1.6,>=2.0.1 in /usr/local/lib/python3.6/dist-packages (from matplotlib->catboost) (2.4.6)\n",
            "Requirement already satisfied, skipping upgrade: kiwisolver>=1.0.1 in /usr/local/lib/python3.6/dist-packages (from matplotlib->catboost) (1.1.0)\n",
            "Requirement already satisfied, skipping upgrade: pytz>=2017.2 in /usr/local/lib/python3.6/dist-packages (from pandas>=0.24.0->catboost) (2018.9)\n",
            "Requirement already satisfied, skipping upgrade: retrying>=1.3.3 in /usr/local/lib/python3.6/dist-packages (from plotly->catboost) (1.3.3)\n",
            "Requirement already satisfied, skipping upgrade: setuptools in /usr/local/lib/python3.6/dist-packages (from kiwisolver>=1.0.1->matplotlib->catboost) (46.0.0)\n",
            "Installing collected packages: catboost\n",
            "Successfully installed catboost-0.22\n",
            "Requirement already up-to-date: ipywidgets in /usr/local/lib/python3.6/dist-packages (7.5.1)\n",
            "Requirement already satisfied, skipping upgrade: nbformat>=4.2.0 in /usr/local/lib/python3.6/dist-packages (from ipywidgets) (5.0.5)\n",
            "Requirement already satisfied, skipping upgrade: traitlets>=4.3.1 in /usr/local/lib/python3.6/dist-packages (from ipywidgets) (4.3.3)\n",
            "Requirement already satisfied, skipping upgrade: ipython>=4.0.0; python_version >= \"3.3\" in /usr/local/lib/python3.6/dist-packages (from ipywidgets) (5.5.0)\n",
            "Requirement already satisfied, skipping upgrade: ipykernel>=4.5.1 in /usr/local/lib/python3.6/dist-packages (from ipywidgets) (4.6.1)\n",
            "Requirement already satisfied, skipping upgrade: widgetsnbextension~=3.5.0 in /usr/local/lib/python3.6/dist-packages (from ipywidgets) (3.5.1)\n",
            "Requirement already satisfied, skipping upgrade: jupyter-core in /usr/local/lib/python3.6/dist-packages (from nbformat>=4.2.0->ipywidgets) (4.6.3)\n",
            "Requirement already satisfied, skipping upgrade: jsonschema!=2.5.0,>=2.4 in /usr/local/lib/python3.6/dist-packages (from nbformat>=4.2.0->ipywidgets) (2.6.0)\n",
            "Requirement already satisfied, skipping upgrade: ipython-genutils in /usr/local/lib/python3.6/dist-packages (from nbformat>=4.2.0->ipywidgets) (0.2.0)\n",
            "Requirement already satisfied, skipping upgrade: decorator in /usr/local/lib/python3.6/dist-packages (from traitlets>=4.3.1->ipywidgets) (4.4.2)\n",
            "Requirement already satisfied, skipping upgrade: six in /usr/local/lib/python3.6/dist-packages (from traitlets>=4.3.1->ipywidgets) (1.12.0)\n",
            "Requirement already satisfied, skipping upgrade: setuptools>=18.5 in /usr/local/lib/python3.6/dist-packages (from ipython>=4.0.0; python_version >= \"3.3\"->ipywidgets) (46.0.0)\n",
            "Requirement already satisfied, skipping upgrade: pickleshare in /usr/local/lib/python3.6/dist-packages (from ipython>=4.0.0; python_version >= \"3.3\"->ipywidgets) (0.7.5)\n",
            "Requirement already satisfied, skipping upgrade: simplegeneric>0.8 in /usr/local/lib/python3.6/dist-packages (from ipython>=4.0.0; python_version >= \"3.3\"->ipywidgets) (0.8.1)\n",
            "Requirement already satisfied, skipping upgrade: pygments in /usr/local/lib/python3.6/dist-packages (from ipython>=4.0.0; python_version >= \"3.3\"->ipywidgets) (2.1.3)\n",
            "Requirement already satisfied, skipping upgrade: pexpect; sys_platform != \"win32\" in /usr/local/lib/python3.6/dist-packages (from ipython>=4.0.0; python_version >= \"3.3\"->ipywidgets) (4.8.0)\n",
            "Requirement already satisfied, skipping upgrade: prompt-toolkit<2.0.0,>=1.0.4 in /usr/local/lib/python3.6/dist-packages (from ipython>=4.0.0; python_version >= \"3.3\"->ipywidgets) (1.0.18)\n",
            "Requirement already satisfied, skipping upgrade: tornado>=4.0 in /usr/local/lib/python3.6/dist-packages (from ipykernel>=4.5.1->ipywidgets) (4.5.3)\n",
            "Requirement already satisfied, skipping upgrade: jupyter-client in /usr/local/lib/python3.6/dist-packages (from ipykernel>=4.5.1->ipywidgets) (5.3.4)\n",
            "Requirement already satisfied, skipping upgrade: notebook>=4.4.1 in /usr/local/lib/python3.6/dist-packages (from widgetsnbextension~=3.5.0->ipywidgets) (5.2.2)\n",
            "Requirement already satisfied, skipping upgrade: ptyprocess>=0.5 in /usr/local/lib/python3.6/dist-packages (from pexpect; sys_platform != \"win32\"->ipython>=4.0.0; python_version >= \"3.3\"->ipywidgets) (0.6.0)\n",
            "Requirement already satisfied, skipping upgrade: wcwidth in /usr/local/lib/python3.6/dist-packages (from prompt-toolkit<2.0.0,>=1.0.4->ipython>=4.0.0; python_version >= \"3.3\"->ipywidgets) (0.1.9)\n",
            "Requirement already satisfied, skipping upgrade: pyzmq>=13 in /usr/local/lib/python3.6/dist-packages (from jupyter-client->ipykernel>=4.5.1->ipywidgets) (17.0.0)\n",
            "Requirement already satisfied, skipping upgrade: python-dateutil>=2.1 in /usr/local/lib/python3.6/dist-packages (from jupyter-client->ipykernel>=4.5.1->ipywidgets) (2.8.1)\n",
            "Requirement already satisfied, skipping upgrade: jinja2 in /usr/local/lib/python3.6/dist-packages (from notebook>=4.4.1->widgetsnbextension~=3.5.0->ipywidgets) (2.11.1)\n",
            "Requirement already satisfied, skipping upgrade: nbconvert in /usr/local/lib/python3.6/dist-packages (from notebook>=4.4.1->widgetsnbextension~=3.5.0->ipywidgets) (5.6.1)\n",
            "Requirement already satisfied, skipping upgrade: terminado>=0.3.3; sys_platform != \"win32\" in /usr/local/lib/python3.6/dist-packages (from notebook>=4.4.1->widgetsnbextension~=3.5.0->ipywidgets) (0.8.3)\n",
            "Requirement already satisfied, skipping upgrade: MarkupSafe>=0.23 in /usr/local/lib/python3.6/dist-packages (from jinja2->notebook>=4.4.1->widgetsnbextension~=3.5.0->ipywidgets) (1.1.1)\n",
            "Requirement already satisfied, skipping upgrade: testpath in /usr/local/lib/python3.6/dist-packages (from nbconvert->notebook>=4.4.1->widgetsnbextension~=3.5.0->ipywidgets) (0.4.4)\n",
            "Requirement already satisfied, skipping upgrade: mistune<2,>=0.8.1 in /usr/local/lib/python3.6/dist-packages (from nbconvert->notebook>=4.4.1->widgetsnbextension~=3.5.0->ipywidgets) (0.8.4)\n",
            "Requirement already satisfied, skipping upgrade: bleach in /usr/local/lib/python3.6/dist-packages (from nbconvert->notebook>=4.4.1->widgetsnbextension~=3.5.0->ipywidgets) (3.1.4)\n",
            "Requirement already satisfied, skipping upgrade: entrypoints>=0.2.2 in /usr/local/lib/python3.6/dist-packages (from nbconvert->notebook>=4.4.1->widgetsnbextension~=3.5.0->ipywidgets) (0.3)\n",
            "Requirement already satisfied, skipping upgrade: defusedxml in /usr/local/lib/python3.6/dist-packages (from nbconvert->notebook>=4.4.1->widgetsnbextension~=3.5.0->ipywidgets) (0.6.0)\n",
            "Requirement already satisfied, skipping upgrade: pandocfilters>=1.4.1 in /usr/local/lib/python3.6/dist-packages (from nbconvert->notebook>=4.4.1->widgetsnbextension~=3.5.0->ipywidgets) (1.4.2)\n",
            "Requirement already satisfied, skipping upgrade: webencodings in /usr/local/lib/python3.6/dist-packages (from bleach->nbconvert->notebook>=4.4.1->widgetsnbextension~=3.5.0->ipywidgets) (0.5.1)\n",
            "Collecting shap\n",
            "\u001b[?25l  Downloading https://files.pythonhosted.org/packages/a8/77/b504e43e21a2ba543a1ac4696718beb500cfa708af2fb57cb54ce299045c/shap-0.35.0.tar.gz (273kB)\n",
            "\u001b[K     |████████████████████████████████| 276kB 4.7MB/s \n",
            "\u001b[?25hRequirement already satisfied: numpy in /usr/local/lib/python3.6/dist-packages (from shap) (1.18.2)\n",
            "Requirement already satisfied: scipy in /usr/local/lib/python3.6/dist-packages (from shap) (1.4.1)\n",
            "Requirement already satisfied: scikit-learn in /usr/local/lib/python3.6/dist-packages (from shap) (0.22.2.post1)\n",
            "Requirement already satisfied: pandas in /usr/local/lib/python3.6/dist-packages (from shap) (1.0.3)\n",
            "Requirement already satisfied: tqdm>4.25.0 in /usr/local/lib/python3.6/dist-packages (from shap) (4.38.0)\n",
            "Requirement already satisfied: joblib>=0.11 in /usr/local/lib/python3.6/dist-packages (from scikit-learn->shap) (0.14.1)\n",
            "Requirement already satisfied: python-dateutil>=2.6.1 in /usr/local/lib/python3.6/dist-packages (from pandas->shap) (2.8.1)\n",
            "Requirement already satisfied: pytz>=2017.2 in /usr/local/lib/python3.6/dist-packages (from pandas->shap) (2018.9)\n",
            "Requirement already satisfied: six>=1.5 in /usr/local/lib/python3.6/dist-packages (from python-dateutil>=2.6.1->pandas->shap) (1.12.0)\n",
            "Building wheels for collected packages: shap\n",
            "  Building wheel for shap (setup.py) ... \u001b[?25l\u001b[?25hdone\n",
            "  Created wheel for shap: filename=shap-0.35.0-cp36-cp36m-linux_x86_64.whl size=394119 sha256=0cd54ff093f3fa7c422ebaf179c32d05af3053176ca4d30684814e6c332f8d6f\n",
            "  Stored in directory: /root/.cache/pip/wheels/e7/f7/0f/b57055080cf8894906b3bd3616d2fc2bfd0b12d5161bcb24ac\n",
            "Successfully built shap\n",
            "Installing collected packages: shap\n",
            "Successfully installed shap-0.35.0\n",
            "Requirement already up-to-date: sklearn in /usr/local/lib/python3.6/dist-packages (0.0)\n",
            "Requirement already satisfied, skipping upgrade: scikit-learn in /usr/local/lib/python3.6/dist-packages (from sklearn) (0.22.2.post1)\n",
            "Requirement already satisfied, skipping upgrade: joblib>=0.11 in /usr/local/lib/python3.6/dist-packages (from scikit-learn->sklearn) (0.14.1)\n",
            "Requirement already satisfied, skipping upgrade: scipy>=0.17.0 in /usr/local/lib/python3.6/dist-packages (from scikit-learn->sklearn) (1.4.1)\n",
            "Requirement already satisfied, skipping upgrade: numpy>=1.11.0 in /usr/local/lib/python3.6/dist-packages (from scikit-learn->sklearn) (1.18.2)\n",
            "Enabling notebook extension jupyter-js-widgets/extension...\n",
            "      - Validating: \u001b[32mOK\u001b[0m\n"
          ],
          "name": "stdout"
        }
      ]
    },
    {
      "cell_type": "code",
      "metadata": {
        "id": "owmddxjvZznU",
        "colab_type": "code",
        "outputId": "8042c57e-c6ee-4bff-f40e-0db7ad5f050f",
        "colab": {
          "base_uri": "https://localhost:8080/",
          "height": 50
        }
      },
      "source": [
        "import catboost\n",
        "print(catboost.__version__)\n",
        "!python --version"
      ],
      "execution_count": 0,
      "outputs": [
        {
          "output_type": "stream",
          "text": [
            "0.22\n",
            "Python 3.6.9\n"
          ],
          "name": "stdout"
        }
      ]
    },
    {
      "cell_type": "code",
      "metadata": {
        "id": "KjtUdeB_mQ2x",
        "colab_type": "code",
        "colab": {}
      },
      "source": [
        "import pandas as pd\n",
        "import os\n",
        "import numpy as np\n",
        "np.set_printoptions(precision=4)\n",
        "import catboost\n",
        "import sklearn\n",
        "import matplotlib.pyplot as plt\n",
        "\n",
        "from catboost import datasets, Pool\n",
        "from catboost.utils import get_roc_curve, eval_metric\n",
        "from sklearn import metrics\n",
        "from sklearn.model_selection import train_test_split"
      ],
      "execution_count": 0,
      "outputs": []
    },
    {
      "cell_type": "markdown",
      "metadata": {
        "id": "61BiLiK_3JRg",
        "colab_type": "text"
      },
      "source": [
        "### About AUC\n",
        "\n",
        "The **ROC curve** shows the *model's ability to distinguishing between classes*. \n",
        "\n",
        "The model which randomly assigns a class to object is a 'bad' classifier and has a diagonal ROC curve. The better is the classifier, the higher is the ROC curve. The ROC curve is plotted with TPR, [True Positive Rate](https://en.wikipedia.org/wiki/Receiver_operating_characteristic#Basic_concept), on the y-axis against the FPR, [False Positive Rate](https://en.wikipedia.org/wiki/Receiver_operating_characteristic#Basic_concept), on the x-axis. The curve also could be interpreted in terms of [Sensitivity and Specificity](https://en.wikipedia.org/wiki/Sensitivity_and_specificity) of the model with Sensitivity on the y-axis and (1-Specificity) on the x-axis.\n",
        "\n",
        "Building and visualizing the ROC curve could be used *to measure classification algorithm performance with different probability boundaries* and *select the probability boundary* required to achieve the specified false-positive or false-negative rate.\n",
        "\n",
        "**AUC** is the Area Under the ROC Curve. The best AUC = 1 for a model that ranks all the objects right (all objects with class 1 are assigned higher probabilities then objects of class 0). AUC for the 'bad' classifier is equal to 0.5.\n",
        "\n",
        "AUC is used for binary classification, multiclass classification, and ranking problems. *AUC measures the proportion of correctly ordered objects and the capability of the model to distinguish between the classes*.\n",
        "\n",
        "The AUC has an important statistical property: the *AUC of a classifier is equivalent to the probability that the classifier will rank a randomly chosen positive instance higher than a randomly chosen negative instance*.\n",
        "\n",
        "\n",
        "### CatBoost implementation \n",
        "\n",
        "CatBoost implements AUC for [binary classification](https://catboost.ai/docs/concepts/loss-functions-classification.html), [multiclassification](https://catboost.ai/docs/concepts/loss-functions-multiclassification.html) and [ranking](https://catboost.ai/docs/concepts/loss-functions-ranking.html) problems. AUC is used during training to detect overfitting and select the best model. AUC is also used as a metric for predictions evaluation and comparison with [utils.eval_metric](https://https://catboost.ai/docs/concepts/python-reference_utils_eval_metric.html). See examples of models fitting and AUC calculation with CatBoost in the section [How to use AUC in Catboost on real datasets?](#scrollTo=BP1nOBpvFzPV)\n",
        "\n",
        "\n",
        "### Useful links\n",
        "* Read more about ROC on [Wikipedia](https://en.wikipedia.org/wiki/Receiver_operating_characteristic).\n",
        "\n",
        "* To get an understanding of the ROC curve building from scratch see [the article](https://people.inf.elte.hu/kiss/11dwhdm/roc.pdf).\n",
        "\n",
        "* To get an understanding of AUC$\\mu$ for multiclass classification see [the article](http://proceedings.mlr.press/v97/kleiman19a/kleiman19a.pdf)."
      ]
    },
    {
      "cell_type": "markdown",
      "metadata": {
        "id": "k9UPSEWu4spg",
        "colab_type": "text"
      },
      "source": [
        "# Binary classification\n"
      ]
    },
    {
      "cell_type": "markdown",
      "metadata": {
        "id": "4RbdSB4EMBZs",
        "colab_type": "text"
      },
      "source": [
        "## Calculation rules for binary classification "
      ]
    },
    {
      "cell_type": "markdown",
      "metadata": {
        "id": "wC1rAq58lKGm",
        "colab_type": "text"
      },
      "source": [
        "AUC for binary classification is calculated according to the following formula:\n",
        "\n",
        "$$\n",
        "AUC = \\frac{\\sum_{t_i = 0, t_j = 1} I(a_i, a_j) w_i w_j}{\\sum_{t_i = 0, t_j = 1}{w_i w_j}},\n",
        "$$\n",
        "\n",
        "where $a_i, a_j$ - predictions (probabilities) of objects to belong to the class 1 given by the algorithm.\n",
        "\n",
        "The sum is calculated on all pairs of objects $i, j$ such that:\n",
        "$t_i = 0, t_j = 1$ where $t$ is true true class label.\n",
        "\n",
        "$I$ is an indicator function equal to 1 if objects $i, j$ are ordered correctly:\n",
        "\n",
        "$$\n",
        "I(a_i, a_j) =\n",
        "  \\begin{cases}\n",
        "    1    & \\quad \\text{if } a_i < a_j\\\\\n",
        "    0.5  & \\quad \\text{if } a_i = a_j\\\\\n",
        "    0    & \\quad \\text{if } a_i > a_j\\\\\n",
        "  \\end{cases}\n",
        "$$\n",
        "\n",
        "A user could assign weights to each object to specify the importance of each object in metric calculation. \n",
        "\n"
      ]
    },
    {
      "cell_type": "markdown",
      "metadata": {
        "id": "FuXWPlXD8Qev",
        "colab_type": "text"
      },
      "source": [
        "## Simple example of AUC calculation for binary classification "
      ]
    },
    {
      "cell_type": "markdown",
      "metadata": {
        "id": "IG8t5GWy4xwB",
        "colab_type": "text"
      },
      "source": [
        "Let's look at a simple example of ROC curve building and AUC calculation:\n",
        "\n",
        "We have a sample of 10 objects, 4 from class 1 and 6 from class 0 ('class' column). All objects are equally important (weights = 1).\n",
        "Assume we predicted probabilities of objects to come from class 1 ('prediction' column).\n"
      ]
    },
    {
      "cell_type": "code",
      "metadata": {
        "id": "iu-f6jIACyV9",
        "colab_type": "code",
        "colab": {}
      },
      "source": [
        "toy_example = pd.DataFrame({'class': [1, 1, 1, 1, 0, 0, 0, 0, 0, 0], 'prediction': [0.9, 0.4, 0.6, 0.2, 0.8, 0.25, 0.15, 0.4, 0.3, 0.1]})"
      ],
      "execution_count": 0,
      "outputs": []
    },
    {
      "cell_type": "markdown",
      "metadata": {
        "id": "TXnHw2KB646y",
        "colab_type": "text"
      },
      "source": [
        "To build the ROC curve we need to sort the dataset in descending order of predicted probabilities."
      ]
    },
    {
      "cell_type": "code",
      "metadata": {
        "id": "CegWTbQVD0u0",
        "colab_type": "code",
        "outputId": "3fcc7112-7bb6-4ce1-a881-62475e467085",
        "colab": {
          "base_uri": "https://localhost:8080/",
          "height": 343
        }
      },
      "source": [
        "toy_example.sort_values(by='prediction', ascending=False, inplace=True)\n",
        "toy_example"
      ],
      "execution_count": 0,
      "outputs": [
        {
          "output_type": "execute_result",
          "data": {
            "text/html": [
              "<div>\n",
              "<style scoped>\n",
              "    .dataframe tbody tr th:only-of-type {\n",
              "        vertical-align: middle;\n",
              "    }\n",
              "\n",
              "    .dataframe tbody tr th {\n",
              "        vertical-align: top;\n",
              "    }\n",
              "\n",
              "    .dataframe thead th {\n",
              "        text-align: right;\n",
              "    }\n",
              "</style>\n",
              "<table border=\"1\" class=\"dataframe\">\n",
              "  <thead>\n",
              "    <tr style=\"text-align: right;\">\n",
              "      <th></th>\n",
              "      <th>class</th>\n",
              "      <th>prediction</th>\n",
              "    </tr>\n",
              "  </thead>\n",
              "  <tbody>\n",
              "    <tr>\n",
              "      <th>0</th>\n",
              "      <td>1</td>\n",
              "      <td>0.90</td>\n",
              "    </tr>\n",
              "    <tr>\n",
              "      <th>4</th>\n",
              "      <td>0</td>\n",
              "      <td>0.80</td>\n",
              "    </tr>\n",
              "    <tr>\n",
              "      <th>2</th>\n",
              "      <td>1</td>\n",
              "      <td>0.60</td>\n",
              "    </tr>\n",
              "    <tr>\n",
              "      <th>1</th>\n",
              "      <td>1</td>\n",
              "      <td>0.40</td>\n",
              "    </tr>\n",
              "    <tr>\n",
              "      <th>7</th>\n",
              "      <td>0</td>\n",
              "      <td>0.40</td>\n",
              "    </tr>\n",
              "    <tr>\n",
              "      <th>8</th>\n",
              "      <td>0</td>\n",
              "      <td>0.30</td>\n",
              "    </tr>\n",
              "    <tr>\n",
              "      <th>5</th>\n",
              "      <td>0</td>\n",
              "      <td>0.25</td>\n",
              "    </tr>\n",
              "    <tr>\n",
              "      <th>3</th>\n",
              "      <td>1</td>\n",
              "      <td>0.20</td>\n",
              "    </tr>\n",
              "    <tr>\n",
              "      <th>6</th>\n",
              "      <td>0</td>\n",
              "      <td>0.15</td>\n",
              "    </tr>\n",
              "    <tr>\n",
              "      <th>9</th>\n",
              "      <td>0</td>\n",
              "      <td>0.10</td>\n",
              "    </tr>\n",
              "  </tbody>\n",
              "</table>\n",
              "</div>"
            ],
            "text/plain": [
              "   class  prediction\n",
              "0      1        0.90\n",
              "4      0        0.80\n",
              "2      1        0.60\n",
              "1      1        0.40\n",
              "7      0        0.40\n",
              "8      0        0.30\n",
              "5      0        0.25\n",
              "3      1        0.20\n",
              "6      0        0.15\n",
              "9      0        0.10"
            ]
          },
          "metadata": {
            "tags": []
          },
          "execution_count": 5
        }
      ]
    },
    {
      "cell_type": "markdown",
      "metadata": {
        "id": "wd6NRb0XHnpG",
        "colab_type": "text"
      },
      "source": [
        "The denominator $\\sum_{t_i = 0, t_j = 1}{w_i w_j}$ is equal to the number of pairs of objects $i, j$ such that true class $t_i = 0, t_j = 1$. As there are 4 objects from class 1 and 6 objects from class 0, the denominator is equal to 24.\n",
        "\n",
        "For each object from class 1 count the number of objects from class 0, which are below (has less probability) in the sorted dataset.\n",
        "\n",
        "We add +1 of objects ordered correctly (e.g. objects with IDs 0 and 4) and +0.5 if probabilities are equal (e.g. objects with IDs 1 and 7).\n",
        "\n"
      ]
    },
    {
      "cell_type": "markdown",
      "metadata": {
        "id": "i0v7Rp6ib-b5",
        "colab_type": "text"
      },
      "source": [
        "For example, the object with ID = 1 adds +4.5 to AUC numerator as correctly ordered with objects with IDs: 8, 3, 6, 9 and has equal prediction with object 7:\n",
        "\n",
        "![Binary AUC calculation visualization](https://habrastorage.org/webt/9m/hp/y5/9mhpy5d28dzxyvaeh_tby9ls2yo.jpeg)\n"
      ]
    },
    {
      "cell_type": "code",
      "metadata": {
        "id": "SUFRrQQmJM-S",
        "colab_type": "code",
        "outputId": "ceb93199-9e89-4280-affd-e4fd3b19a08d",
        "colab": {
          "base_uri": "https://localhost:8080/",
          "height": 34
        }
      },
      "source": [
        "denominator = sum(toy_example['class'] == 1) * sum(toy_example['class'] == 0)\n",
        "numerator = (6 + 5 + 4.5 + 2)\n",
        "manually_calculated_auc = numerator / denominator\n",
        "print('Example of manually calculated ROC AUC = {0:.4f}'.format(manually_calculated_auc))"
      ],
      "execution_count": 0,
      "outputs": [
        {
          "output_type": "stream",
          "text": [
            "Example of manually calculated ROC AUC = 0.7292\n"
          ],
          "name": "stdout"
        }
      ]
    },
    {
      "cell_type": "markdown",
      "metadata": {
        "id": "jbVJ9lBO_6C7",
        "colab_type": "text"
      },
      "source": [
        "Let's calculate the same metric with Catboost and ensure everything is right: "
      ]
    },
    {
      "cell_type": "code",
      "metadata": {
        "id": "6Y0gpIShE6fB",
        "colab_type": "code",
        "outputId": "7c19aaa6-ece3-4e02-8351-406454b39855",
        "colab": {
          "base_uri": "https://localhost:8080/",
          "height": 34
        }
      },
      "source": [
        "catboost_auc = eval_metric(toy_example['class'], toy_example['prediction'], 'AUC')[0]\n",
        "print('Example of ROC AUC calculated with CatBoost = {0:.4f}'.format(catboost_auc))"
      ],
      "execution_count": 0,
      "outputs": [
        {
          "output_type": "stream",
          "text": [
            "Example of ROC AUC calculated with CatBoost = 0.7292\n"
          ],
          "name": "stdout"
        }
      ]
    },
    {
      "cell_type": "markdown",
      "metadata": {
        "id": "iQ8bzVckL4ej",
        "colab_type": "text"
      },
      "source": [
        "## ROC curve"
      ]
    },
    {
      "cell_type": "markdown",
      "metadata": {
        "id": "4e6oS_H5EFU4",
        "colab_type": "text"
      },
      "source": [
        "To build a ROC curve put the number of objects of class 1 ($n_1$) in the square with side 1 along the $ y $-axis, and the number of objects of class 0 ($n_0$) along the $ x $-axis.\n",
        "\n",
        "Going by the list of target labels sorted by model predictions in descending order will add $\\frac{1}{n_1}$ along the $y$-axis encountering an object of class 1 and $\\frac{1}{n_0}$ along the $x$-axis encountering an object of class 0.\n",
        "\n",
        "Let's get FPR, TPR with sklearn and visualize the curve. "
      ]
    },
    {
      "cell_type": "code",
      "metadata": {
        "id": "dUEdCfrkH7cH",
        "colab_type": "code",
        "outputId": "c6866e41-66ae-47ed-e174-2b0c29ddc32c",
        "colab": {
          "base_uri": "https://localhost:8080/",
          "height": 343
        }
      },
      "source": [
        "toy_example"
      ],
      "execution_count": 0,
      "outputs": [
        {
          "output_type": "execute_result",
          "data": {
            "text/html": [
              "<div>\n",
              "<style scoped>\n",
              "    .dataframe tbody tr th:only-of-type {\n",
              "        vertical-align: middle;\n",
              "    }\n",
              "\n",
              "    .dataframe tbody tr th {\n",
              "        vertical-align: top;\n",
              "    }\n",
              "\n",
              "    .dataframe thead th {\n",
              "        text-align: right;\n",
              "    }\n",
              "</style>\n",
              "<table border=\"1\" class=\"dataframe\">\n",
              "  <thead>\n",
              "    <tr style=\"text-align: right;\">\n",
              "      <th></th>\n",
              "      <th>class</th>\n",
              "      <th>prediction</th>\n",
              "    </tr>\n",
              "  </thead>\n",
              "  <tbody>\n",
              "    <tr>\n",
              "      <th>0</th>\n",
              "      <td>1</td>\n",
              "      <td>0.90</td>\n",
              "    </tr>\n",
              "    <tr>\n",
              "      <th>4</th>\n",
              "      <td>0</td>\n",
              "      <td>0.80</td>\n",
              "    </tr>\n",
              "    <tr>\n",
              "      <th>2</th>\n",
              "      <td>1</td>\n",
              "      <td>0.60</td>\n",
              "    </tr>\n",
              "    <tr>\n",
              "      <th>1</th>\n",
              "      <td>1</td>\n",
              "      <td>0.40</td>\n",
              "    </tr>\n",
              "    <tr>\n",
              "      <th>7</th>\n",
              "      <td>0</td>\n",
              "      <td>0.40</td>\n",
              "    </tr>\n",
              "    <tr>\n",
              "      <th>8</th>\n",
              "      <td>0</td>\n",
              "      <td>0.30</td>\n",
              "    </tr>\n",
              "    <tr>\n",
              "      <th>5</th>\n",
              "      <td>0</td>\n",
              "      <td>0.25</td>\n",
              "    </tr>\n",
              "    <tr>\n",
              "      <th>3</th>\n",
              "      <td>1</td>\n",
              "      <td>0.20</td>\n",
              "    </tr>\n",
              "    <tr>\n",
              "      <th>6</th>\n",
              "      <td>0</td>\n",
              "      <td>0.15</td>\n",
              "    </tr>\n",
              "    <tr>\n",
              "      <th>9</th>\n",
              "      <td>0</td>\n",
              "      <td>0.10</td>\n",
              "    </tr>\n",
              "  </tbody>\n",
              "</table>\n",
              "</div>"
            ],
            "text/plain": [
              "   class  prediction\n",
              "0      1        0.90\n",
              "4      0        0.80\n",
              "2      1        0.60\n",
              "1      1        0.40\n",
              "7      0        0.40\n",
              "8      0        0.30\n",
              "5      0        0.25\n",
              "3      1        0.20\n",
              "6      0        0.15\n",
              "9      0        0.10"
            ]
          },
          "metadata": {
            "tags": []
          },
          "execution_count": 8
        }
      ]
    },
    {
      "cell_type": "markdown",
      "metadata": {
        "id": "WDrsmhWBIP80",
        "colab_type": "text"
      },
      "source": [
        "Going from top to bottom by the 'class' column we go up on the plot if the class is 1 or right if the class is 0. When we meet objects with equal prediction add the number of 1 along y and the number of 0 along x and go by the diagonal of the rectangle. "
      ]
    },
    {
      "cell_type": "code",
      "metadata": {
        "id": "GgQjuWvtGMnp",
        "colab_type": "code",
        "outputId": "bfc0b10b-3db2-4be8-b6b6-d8cdeb28b537",
        "colab": {
          "base_uri": "https://localhost:8080/",
          "height": 295
        }
      },
      "source": [
        "fpr, tpr, _ = sklearn.metrics.roc_curve(toy_example['class'], toy_example['prediction'])\n",
        "\n",
        "plt.figure()\n",
        "lw = 2\n",
        "plt.plot(fpr, tpr, color='darkorange',\n",
        "         lw=lw, label='ROC curve')\n",
        "plt.fill_between(fpr, tpr, y2=0, color='darkorange', alpha=0.3, label='Area Under Curve (area = %0.2f)' % catboost_auc)\n",
        "plt.plot([0, 1], [0, 1], color='navy', lw=lw, linestyle='--')\n",
        "plt.xlim([0.0, 1.0])\n",
        "plt.ylim([0.0, 1.05])\n",
        "plt.xlabel('False Positive Rate')\n",
        "plt.ylabel('True Positive Rate')\n",
        "plt.title('Receiver operating characteristic curve example')\n",
        "plt.legend(loc=\"lower right\")\n",
        "plt.show()"
      ],
      "execution_count": 0,
      "outputs": [
        {
          "output_type": "display_data",
          "data": {
            "image/png": "[encoded data removed]",
            "text/plain": [
              "<Figure size 432x288 with 1 Axes>"
            ]
          },
          "metadata": {
            "tags": []
          }
        }
      ]
    },
    {
      "cell_type": "markdown",
      "metadata": {
        "id": "_AUQ7G07eRSQ",
        "colab_type": "text"
      },
      "source": [
        "Let's have a look at the toy_example objects and understand how each object impacted the ROC curve: \n",
        "\n",
        "![Binary AUC plot explained](https://habrastorage.org/webt/zc/jr/vx/zcjrvx5bn5darmm8soa7km5du3a.jpeg)"
      ]
    },
    {
      "cell_type": "markdown",
      "metadata": {
        "id": "yLScgCN0L707",
        "colab_type": "text"
      },
      "source": [
        "## AUC: Calculation with weights"
      ]
    },
    {
      "cell_type": "markdown",
      "metadata": {
        "id": "5T0xVS_-NCSM",
        "colab_type": "text"
      },
      "source": [
        "CatBoost allows us to assign a weight to each object in the dataset for AUC calculation according to [the formula above](#scrollTo=4RbdSB4EMBZs).  If no weights assigned, all weights are equal to 1 and thus AUC is proportional to the number of correctly ordered pairs. If weights assigned this property is changed. \n",
        "\n",
        "Weights are useful for unbalanced datasets. If there is a class or a group of objects with a small number of samples in the train dataset it could be reasonable to increase the weights for corresponding objects. \n",
        "\n",
        "For example if we assign weight 10 to one object it can be understood as adding 9 of the same objects to the dataset.\n",
        "\n",
        "Let's calculate AUC for an example of the wrong and right classification of one important object with weight = 10."
      ]
    },
    {
      "cell_type": "code",
      "metadata": {
        "id": "749r8WnGBrV0",
        "colab_type": "code",
        "colab": {}
      },
      "source": [
        "toy_example['weight'] = 1"
      ],
      "execution_count": 0,
      "outputs": []
    },
    {
      "cell_type": "code",
      "metadata": {
        "id": "RgeUlnDqBscS",
        "colab_type": "code",
        "outputId": "f52d37eb-ce97-4e4c-e625-99cfaea4eeb3",
        "colab": {
          "base_uri": "https://localhost:8080/",
          "height": 34
        }
      },
      "source": [
        "roc_auc = catboost.utils.eval_metric(toy_example['class'], toy_example['prediction'], 'AUC', weight=toy_example['weight'])[0]\n",
        "print('ROC AUC with default weights = {0:.4f}'.format(roc_auc))"
      ],
      "execution_count": 0,
      "outputs": [
        {
          "output_type": "stream",
          "text": [
            "ROC AUC with default weights = 0.7292\n"
          ],
          "name": "stdout"
        }
      ]
    },
    {
      "cell_type": "code",
      "metadata": {
        "id": "LKoZ8EktAOja",
        "colab_type": "code",
        "outputId": "2ba59d08-7c11-4036-b4dc-7404ad542dfe",
        "colab": {
          "base_uri": "https://localhost:8080/",
          "height": 343
        }
      },
      "source": [
        "# seting weight=10 to important object with correct ordering\n",
        "toy_example.iloc[0, 2] = 10\n",
        "toy_example"
      ],
      "execution_count": 0,
      "outputs": [
        {
          "output_type": "execute_result",
          "data": {
            "text/html": [
              "<div>\n",
              "<style scoped>\n",
              "    .dataframe tbody tr th:only-of-type {\n",
              "        vertical-align: middle;\n",
              "    }\n",
              "\n",
              "    .dataframe tbody tr th {\n",
              "        vertical-align: top;\n",
              "    }\n",
              "\n",
              "    .dataframe thead th {\n",
              "        text-align: right;\n",
              "    }\n",
              "</style>\n",
              "<table border=\"1\" class=\"dataframe\">\n",
              "  <thead>\n",
              "    <tr style=\"text-align: right;\">\n",
              "      <th></th>\n",
              "      <th>class</th>\n",
              "      <th>prediction</th>\n",
              "      <th>weight</th>\n",
              "    </tr>\n",
              "  </thead>\n",
              "  <tbody>\n",
              "    <tr>\n",
              "      <th>0</th>\n",
              "      <td>1</td>\n",
              "      <td>0.90</td>\n",
              "      <td>10</td>\n",
              "    </tr>\n",
              "    <tr>\n",
              "      <th>4</th>\n",
              "      <td>0</td>\n",
              "      <td>0.80</td>\n",
              "      <td>1</td>\n",
              "    </tr>\n",
              "    <tr>\n",
              "      <th>2</th>\n",
              "      <td>1</td>\n",
              "      <td>0.60</td>\n",
              "      <td>1</td>\n",
              "    </tr>\n",
              "    <tr>\n",
              "      <th>1</th>\n",
              "      <td>1</td>\n",
              "      <td>0.40</td>\n",
              "      <td>1</td>\n",
              "    </tr>\n",
              "    <tr>\n",
              "      <th>7</th>\n",
              "      <td>0</td>\n",
              "      <td>0.40</td>\n",
              "      <td>1</td>\n",
              "    </tr>\n",
              "    <tr>\n",
              "      <th>8</th>\n",
              "      <td>0</td>\n",
              "      <td>0.30</td>\n",
              "      <td>1</td>\n",
              "    </tr>\n",
              "    <tr>\n",
              "      <th>5</th>\n",
              "      <td>0</td>\n",
              "      <td>0.25</td>\n",
              "      <td>1</td>\n",
              "    </tr>\n",
              "    <tr>\n",
              "      <th>3</th>\n",
              "      <td>1</td>\n",
              "      <td>0.20</td>\n",
              "      <td>1</td>\n",
              "    </tr>\n",
              "    <tr>\n",
              "      <th>6</th>\n",
              "      <td>0</td>\n",
              "      <td>0.15</td>\n",
              "      <td>1</td>\n",
              "    </tr>\n",
              "    <tr>\n",
              "      <th>9</th>\n",
              "      <td>0</td>\n",
              "      <td>0.10</td>\n",
              "      <td>1</td>\n",
              "    </tr>\n",
              "  </tbody>\n",
              "</table>\n",
              "</div>"
            ],
            "text/plain": [
              "   class  prediction  weight\n",
              "0      1        0.90      10\n",
              "4      0        0.80       1\n",
              "2      1        0.60       1\n",
              "1      1        0.40       1\n",
              "7      0        0.40       1\n",
              "8      0        0.30       1\n",
              "5      0        0.25       1\n",
              "3      1        0.20       1\n",
              "6      0        0.15       1\n",
              "9      0        0.10       1"
            ]
          },
          "metadata": {
            "tags": []
          },
          "execution_count": 12
        }
      ]
    },
    {
      "cell_type": "code",
      "metadata": {
        "id": "RY9ni8tZ36u4",
        "colab_type": "code",
        "outputId": "be00933b-da66-4255-b21b-bb1deffe7ae6",
        "colab": {
          "base_uri": "https://localhost:8080/",
          "height": 50
        }
      },
      "source": [
        "roc_auc = catboost.utils.eval_metric(toy_example['class'], toy_example['prediction'], 'AUC', weight=toy_example['weight'])[0]\n",
        "print('AUC: = {0:.4f}'.format(roc_auc))\n",
        "print('Important object is correctly ordered, AUC increases')"
      ],
      "execution_count": 0,
      "outputs": [
        {
          "output_type": "stream",
          "text": [
            "AUC: = 0.9167\n",
            "Important object is correctly ordered, AUC increases\n"
          ],
          "name": "stdout"
        }
      ]
    },
    {
      "cell_type": "code",
      "metadata": {
        "id": "kHKDRsjXAXqa",
        "colab_type": "code",
        "outputId": "dbbe4255-c9fa-4bb4-b5c7-6b6bc85c2ced",
        "colab": {
          "base_uri": "https://localhost:8080/",
          "height": 343
        }
      },
      "source": [
        "# set weight=10 to important object with wrong ordering\n",
        "toy_example['weight'] = 1\n",
        "toy_example.iloc[1, 2] = 10\n",
        "toy_example"
      ],
      "execution_count": 0,
      "outputs": [
        {
          "output_type": "execute_result",
          "data": {
            "text/html": [
              "<div>\n",
              "<style scoped>\n",
              "    .dataframe tbody tr th:only-of-type {\n",
              "        vertical-align: middle;\n",
              "    }\n",
              "\n",
              "    .dataframe tbody tr th {\n",
              "        vertical-align: top;\n",
              "    }\n",
              "\n",
              "    .dataframe thead th {\n",
              "        text-align: right;\n",
              "    }\n",
              "</style>\n",
              "<table border=\"1\" class=\"dataframe\">\n",
              "  <thead>\n",
              "    <tr style=\"text-align: right;\">\n",
              "      <th></th>\n",
              "      <th>class</th>\n",
              "      <th>prediction</th>\n",
              "      <th>weight</th>\n",
              "    </tr>\n",
              "  </thead>\n",
              "  <tbody>\n",
              "    <tr>\n",
              "      <th>0</th>\n",
              "      <td>1</td>\n",
              "      <td>0.90</td>\n",
              "      <td>1</td>\n",
              "    </tr>\n",
              "    <tr>\n",
              "      <th>4</th>\n",
              "      <td>0</td>\n",
              "      <td>0.80</td>\n",
              "      <td>10</td>\n",
              "    </tr>\n",
              "    <tr>\n",
              "      <th>2</th>\n",
              "      <td>1</td>\n",
              "      <td>0.60</td>\n",
              "      <td>1</td>\n",
              "    </tr>\n",
              "    <tr>\n",
              "      <th>1</th>\n",
              "      <td>1</td>\n",
              "      <td>0.40</td>\n",
              "      <td>1</td>\n",
              "    </tr>\n",
              "    <tr>\n",
              "      <th>7</th>\n",
              "      <td>0</td>\n",
              "      <td>0.40</td>\n",
              "      <td>1</td>\n",
              "    </tr>\n",
              "    <tr>\n",
              "      <th>8</th>\n",
              "      <td>0</td>\n",
              "      <td>0.30</td>\n",
              "      <td>1</td>\n",
              "    </tr>\n",
              "    <tr>\n",
              "      <th>5</th>\n",
              "      <td>0</td>\n",
              "      <td>0.25</td>\n",
              "      <td>1</td>\n",
              "    </tr>\n",
              "    <tr>\n",
              "      <th>3</th>\n",
              "      <td>1</td>\n",
              "      <td>0.20</td>\n",
              "      <td>1</td>\n",
              "    </tr>\n",
              "    <tr>\n",
              "      <th>6</th>\n",
              "      <td>0</td>\n",
              "      <td>0.15</td>\n",
              "      <td>1</td>\n",
              "    </tr>\n",
              "    <tr>\n",
              "      <th>9</th>\n",
              "      <td>0</td>\n",
              "      <td>0.10</td>\n",
              "      <td>1</td>\n",
              "    </tr>\n",
              "  </tbody>\n",
              "</table>\n",
              "</div>"
            ],
            "text/plain": [
              "   class  prediction  weight\n",
              "0      1        0.90       1\n",
              "4      0        0.80      10\n",
              "2      1        0.60       1\n",
              "1      1        0.40       1\n",
              "7      0        0.40       1\n",
              "8      0        0.30       1\n",
              "5      0        0.25       1\n",
              "3      1        0.20       1\n",
              "6      0        0.15       1\n",
              "9      0        0.10       1"
            ]
          },
          "metadata": {
            "tags": []
          },
          "execution_count": 14
        }
      ]
    },
    {
      "cell_type": "code",
      "metadata": {
        "id": "8Ikg2zJ7DU6H",
        "colab_type": "code",
        "outputId": "6efbd0f1-6796-4bfa-8af2-0cf4649ddda8",
        "colab": {
          "base_uri": "https://localhost:8080/",
          "height": 50
        }
      },
      "source": [
        "roc_auc = catboost.utils.eval_metric(toy_example['class'], toy_example['prediction'], 'AUC', weight=toy_example['weight'])[0]\n",
        "print('AUC: = {0:.4f}'.format(roc_auc))\n",
        "print('Important object is incorrectly ordered, AUC decreases')"
      ],
      "execution_count": 0,
      "outputs": [
        {
          "output_type": "stream",
          "text": [
            "AUC: = 0.4417\n",
            "Important object is incorrectly ordered, AUC decreases\n"
          ],
          "name": "stdout"
        }
      ]
    },
    {
      "cell_type": "markdown",
      "metadata": {
        "id": "aWMlcwx0oRPA",
        "colab_type": "text"
      },
      "source": [
        "# AUC for multiclass classification"
      ]
    },
    {
      "cell_type": "markdown",
      "metadata": {
        "id": "hvAZzaLFofpj",
        "colab_type": "text"
      },
      "source": [
        "There are two AUC metrics implemented for multiclass classification in Catboost. \n",
        "\n",
        "The first is **OneVsAll**. AUC value is calculated separately for each class according to the binary classification calculation principles. \n",
        "\n",
        "The second is **AUC$\\mu$**, which is designed to meet the following properties:\n",
        "\n",
        "* Property 1. If a model gives the correct label the highest probability \n",
        "on every example, then AUC = 1\n",
        "* Property 2. Random guessing on examples yields AUC = 0.5\n",
        "* Property 3. AUC is insensitive to class skew\n",
        "\n",
        "AUC$\\mu$ could be interpreted as an average of pairwise AUCs between the classes. Details could be found in the [article](http://proceedings.mlr.press/v97/kleiman19a/kleiman19a.pdf). \n"
      ]
    },
    {
      "cell_type": "markdown",
      "metadata": {
        "id": "TEeRCMDBovNt",
        "colab_type": "text"
      },
      "source": [
        "### OneVsAll AUC"
      ]
    },
    {
      "cell_type": "markdown",
      "metadata": {
        "id": "pKHS8StrozyG",
        "colab_type": "text"
      },
      "source": [
        "OneVsAll AUC in Catboost returns $n$ AUC values for $n$-class classification. The value is calculated separately for each class $k$ numbered from $0$ to $K–1$ according [to the binary classification calculation rules](#scrollTo=4RbdSB4EMBZs). The objects of class $k$ are considered positive, while all others are considered negative.\n",
        "\n",
        "Let's create a small example and calculate OneVsAll AUC for 3 classes."
      ]
    },
    {
      "cell_type": "code",
      "metadata": {
        "id": "oD9zGUFQeRGG",
        "colab_type": "code",
        "colab": {}
      },
      "source": [
        "classes = [0, 1, 1, 0, 1, 1, 1, 0, 1, 2]\n",
        "\n",
        "probas =\\\n",
        "np.array([[0.4799, 0.3517, 0.3182, 0.3625, 0.336 , 0.3034, 0.4284, 0.5497, 0.231  , 0.27 ],\n",
        "       [0.2601, 0.3052, 0.3637, 0.3742, 0.3808, 0.3995, 0.3038, 0.2258, 0.264 , 0.4581],\n",
        "       [0.2601, 0.3431, 0.3182, 0.2633, 0.2832, 0.2971, 0.2678, 0.2245,0.506 , 0.271 ]])"
      ],
      "execution_count": 0,
      "outputs": []
    },
    {
      "cell_type": "markdown",
      "metadata": {
        "id": "UsN0QWUf5QgK",
        "colab_type": "text"
      },
      "source": [
        "Let's calculate ROC AUC for each class using binary classification rules:"
      ]
    },
    {
      "cell_type": "code",
      "metadata": {
        "id": "RK9Pchz96ZWf",
        "colab_type": "code",
        "colab": {}
      },
      "source": [
        "one_vs_all_df_example = pd.DataFrame({'class_0': classes, 'class_1': classes, 'class_2': classes, 'probability_of_0': probas[0, :], 'probability_of_1': probas[1, :], 'probability_of_2': probas[2, :]})\n",
        "one_vs_all_df_example.loc[one_vs_all_df_example['class_0'] != 0, 'class_0'] = -1\n",
        "one_vs_all_df_example.loc[one_vs_all_df_example['class_0'] == 0, 'class_0'] = 1\n",
        "one_vs_all_df_example.loc[one_vs_all_df_example['class_0'] == -1, 'class_0'] = 0\n",
        "one_vs_all_df_example.loc[one_vs_all_df_example['class_1'] != 1, 'class_1'] = 0\n",
        "one_vs_all_df_example.loc[one_vs_all_df_example['class_1'] == 1, 'class_1'] = 1\n",
        "one_vs_all_df_example.loc[one_vs_all_df_example['class_2'] != 2, 'class_2'] = 0\n",
        "one_vs_all_df_example.loc[one_vs_all_df_example['class_2'] == 2, 'class_2'] = 1"
      ],
      "execution_count": 0,
      "outputs": []
    },
    {
      "cell_type": "code",
      "metadata": {
        "id": "2cg8rXL-IFh2",
        "colab_type": "code",
        "outputId": "d340d2b1-1be4-4711-e668-f1d3c7171f6c",
        "colab": {
          "base_uri": "https://localhost:8080/",
          "height": 343
        }
      },
      "source": [
        "one_vs_all_df_example"
      ],
      "execution_count": 0,
      "outputs": [
        {
          "output_type": "execute_result",
          "data": {
            "text/html": [
              "<div>\n",
              "<style scoped>\n",
              "    .dataframe tbody tr th:only-of-type {\n",
              "        vertical-align: middle;\n",
              "    }\n",
              "\n",
              "    .dataframe tbody tr th {\n",
              "        vertical-align: top;\n",
              "    }\n",
              "\n",
              "    .dataframe thead th {\n",
              "        text-align: right;\n",
              "    }\n",
              "</style>\n",
              "<table border=\"1\" class=\"dataframe\">\n",
              "  <thead>\n",
              "    <tr style=\"text-align: right;\">\n",
              "      <th></th>\n",
              "      <th>class_0</th>\n",
              "      <th>class_1</th>\n",
              "      <th>class_2</th>\n",
              "      <th>probability_of_0</th>\n",
              "      <th>probability_of_1</th>\n",
              "      <th>probability_of_2</th>\n",
              "    </tr>\n",
              "  </thead>\n",
              "  <tbody>\n",
              "    <tr>\n",
              "      <th>0</th>\n",
              "      <td>1</td>\n",
              "      <td>0</td>\n",
              "      <td>0</td>\n",
              "      <td>0.4799</td>\n",
              "      <td>0.2601</td>\n",
              "      <td>0.2601</td>\n",
              "    </tr>\n",
              "    <tr>\n",
              "      <th>1</th>\n",
              "      <td>0</td>\n",
              "      <td>1</td>\n",
              "      <td>0</td>\n",
              "      <td>0.3517</td>\n",
              "      <td>0.3052</td>\n",
              "      <td>0.3431</td>\n",
              "    </tr>\n",
              "    <tr>\n",
              "      <th>2</th>\n",
              "      <td>0</td>\n",
              "      <td>1</td>\n",
              "      <td>0</td>\n",
              "      <td>0.3182</td>\n",
              "      <td>0.3637</td>\n",
              "      <td>0.3182</td>\n",
              "    </tr>\n",
              "    <tr>\n",
              "      <th>3</th>\n",
              "      <td>1</td>\n",
              "      <td>0</td>\n",
              "      <td>0</td>\n",
              "      <td>0.3625</td>\n",
              "      <td>0.3742</td>\n",
              "      <td>0.2633</td>\n",
              "    </tr>\n",
              "    <tr>\n",
              "      <th>4</th>\n",
              "      <td>0</td>\n",
              "      <td>1</td>\n",
              "      <td>0</td>\n",
              "      <td>0.3360</td>\n",
              "      <td>0.3808</td>\n",
              "      <td>0.2832</td>\n",
              "    </tr>\n",
              "    <tr>\n",
              "      <th>5</th>\n",
              "      <td>0</td>\n",
              "      <td>1</td>\n",
              "      <td>0</td>\n",
              "      <td>0.3034</td>\n",
              "      <td>0.3995</td>\n",
              "      <td>0.2971</td>\n",
              "    </tr>\n",
              "    <tr>\n",
              "      <th>6</th>\n",
              "      <td>0</td>\n",
              "      <td>1</td>\n",
              "      <td>0</td>\n",
              "      <td>0.4284</td>\n",
              "      <td>0.3038</td>\n",
              "      <td>0.2678</td>\n",
              "    </tr>\n",
              "    <tr>\n",
              "      <th>7</th>\n",
              "      <td>1</td>\n",
              "      <td>0</td>\n",
              "      <td>0</td>\n",
              "      <td>0.5497</td>\n",
              "      <td>0.2258</td>\n",
              "      <td>0.2245</td>\n",
              "    </tr>\n",
              "    <tr>\n",
              "      <th>8</th>\n",
              "      <td>0</td>\n",
              "      <td>1</td>\n",
              "      <td>0</td>\n",
              "      <td>0.2310</td>\n",
              "      <td>0.2640</td>\n",
              "      <td>0.5060</td>\n",
              "    </tr>\n",
              "    <tr>\n",
              "      <th>9</th>\n",
              "      <td>0</td>\n",
              "      <td>0</td>\n",
              "      <td>1</td>\n",
              "      <td>0.2700</td>\n",
              "      <td>0.4581</td>\n",
              "      <td>0.2710</td>\n",
              "    </tr>\n",
              "  </tbody>\n",
              "</table>\n",
              "</div>"
            ],
            "text/plain": [
              "   class_0  class_1  ...  probability_of_1  probability_of_2\n",
              "0        1        0  ...            0.2601            0.2601\n",
              "1        0        1  ...            0.3052            0.3431\n",
              "2        0        1  ...            0.3637            0.3182\n",
              "3        1        0  ...            0.3742            0.2633\n",
              "4        0        1  ...            0.3808            0.2832\n",
              "5        0        1  ...            0.3995            0.2971\n",
              "6        0        1  ...            0.3038            0.2678\n",
              "7        1        0  ...            0.2258            0.2245\n",
              "8        0        1  ...            0.2640            0.5060\n",
              "9        0        0  ...            0.4581            0.2710\n",
              "\n",
              "[10 rows x 6 columns]"
            ]
          },
          "metadata": {
            "tags": []
          },
          "execution_count": 18
        }
      ]
    },
    {
      "cell_type": "code",
      "metadata": {
        "id": "hPUaNmVm8Fqt",
        "colab_type": "code",
        "outputId": "c3bf2565-364d-41ae-c518-79176ec4d926",
        "colab": {
          "base_uri": "https://localhost:8080/",
          "height": 67
        }
      },
      "source": [
        "roc_aucs = []\n",
        "for i in range(3):\n",
        "  roc_aucs.append(catboost.utils.eval_metric(one_vs_all_df_example['class_' + str(i)], one_vs_all_df_example['probability_of_' + str(i)], 'AUC')[0])\n",
        "  print('Binary Classification ROC AUC for class {0} = {1:.4f}'.format(i, roc_aucs[-1]))"
      ],
      "execution_count": 0,
      "outputs": [
        {
          "output_type": "stream",
          "text": [
            "Binary Classification ROC AUC for class 0 = 0.9524\n",
            "Binary Classification ROC AUC for class 1 = 0.5833\n",
            "Binary Classification ROC AUC for class 2 = 0.4444\n"
          ],
          "name": "stdout"
        }
      ]
    },
    {
      "cell_type": "markdown",
      "metadata": {
        "id": "mWbWg_jjIVG-",
        "colab_type": "text"
      },
      "source": [
        "Let's calculate the same metric with OneVsAll Catboost AUC and ensure everything is right:"
      ]
    },
    {
      "cell_type": "code",
      "metadata": {
        "id": "MniDXHvMeYFX",
        "colab_type": "code",
        "outputId": "47eceb39-d324-4f74-a8c3-50ebc8c6c186",
        "colab": {
          "base_uri": "https://localhost:8080/",
          "height": 67
        }
      },
      "source": [
        "aucs = eval_metric(classes, probas, 'AUC:type=OneVsAll')\n",
        "for i in range(len(aucs)):\n",
        "  print('OneVsAll ROC AUC for class {0} = {1:.4f}'.format(i, aucs[i]))"
      ],
      "execution_count": 0,
      "outputs": [
        {
          "output_type": "stream",
          "text": [
            "OneVsAll ROC AUC for class 0 = 0.9524\n",
            "OneVsAll ROC AUC for class 1 = 0.5833\n",
            "OneVsAll ROC AUC for class 2 = 0.4444\n"
          ],
          "name": "stdout"
        }
      ]
    },
    {
      "cell_type": "markdown",
      "metadata": {
        "id": "Z8sJVBuKrBBD",
        "colab_type": "text"
      },
      "source": [
        "#### Visualizing ROC curves"
      ]
    },
    {
      "cell_type": "code",
      "metadata": {
        "id": "XLe5Ys7qGyYA",
        "colab_type": "code",
        "outputId": "72a1292e-4e6a-4f98-ca0f-754e39cd5bc1",
        "colab": {
          "base_uri": "https://localhost:8080/",
          "height": 295
        }
      },
      "source": [
        "plt.figure()\n",
        "lw = 2\n",
        "\n",
        "colors = ['r', 'y', 'c']\n",
        "\n",
        "for i in range(3):\n",
        "\n",
        "  fpr, tpr, _ = sklearn.metrics.roc_curve(one_vs_all_df_example['class_' + str(i)], one_vs_all_df_example['probability_of_'  + str(i)])\n",
        "  plt.plot(fpr, tpr, color=colors[i],\n",
        "          lw=lw, label='ROC curve for class {0}, area = {1:.4f}'.format(i, roc_aucs[i]), alpha=0.5)\n",
        "  plt.fill_between(fpr, tpr, y2=0, color=colors[i], alpha=0.1)\n",
        "\n",
        "plt.plot([0, 1], [0, 1], color='navy', lw=lw, linestyle='--')\n",
        "plt.xlim([0.0, 1.0])\n",
        "plt.ylim([0.0, 1.05])\n",
        "plt.xlabel('False Positive Rate')\n",
        "plt.ylabel('True Positive Rate')\n",
        "plt.title('Receiver operating characteristic curve example')\n",
        "plt.legend(loc=\"lower right\")\n",
        "plt.show()"
      ],
      "execution_count": 0,
      "outputs": [
        {
          "output_type": "display_data",
          "data": {
            "image/png": "[encoded data removed]",
            "text/plain": [
              "<Figure size 432x288 with 1 Axes>"
            ]
          },
          "metadata": {
            "tags": []
          }
        }
      ]
    },
    {
      "cell_type": "markdown",
      "metadata": {
        "id": "foxbg-y5Mfv6",
        "colab_type": "text"
      },
      "source": [
        "#### OneVsAll AUC with weights"
      ]
    },
    {
      "cell_type": "code",
      "metadata": {
        "id": "6rpkWFyKMBr4",
        "colab_type": "code",
        "outputId": "f04c5197-8c86-4a33-b51b-312b38dd651e",
        "colab": {
          "base_uri": "https://localhost:8080/",
          "height": 50
        }
      },
      "source": [
        "# setting a big weight to incorrectly classified object of class 1 (misclassified as 2)\n",
        "AUCs = eval_metric(classes, probas, weight=[1, 1, 1, 1, 1, 1, 1, 1, 10, 1], metric='AUC:type=OneVsAll')\n",
        "print('CalBoost OneVsAll AUC with weights:')\n",
        "print('AUC:class=0 = {0:.4f}, AUC:class=1 = {1:.4f}, AUC:class=2 = {2:.4f}'.format(AUCs[0], AUCs[1], AUCs[2]))"
      ],
      "execution_count": 0,
      "outputs": [
        {
          "output_type": "stream",
          "text": [
            "CalBoost OneVsAll AUC with weights:\n",
            "AUC:class=0 = 0.9792, AUC:class=1 = 0.5333, AUC:class=2 = 0.2222\n"
          ],
          "name": "stdout"
        }
      ]
    },
    {
      "cell_type": "code",
      "metadata": {
        "id": "Ck3UOJHzM9Vv",
        "colab_type": "code",
        "outputId": "a1ee6816-2336-4a23-919b-9d9123427b7a",
        "colab": {
          "base_uri": "https://localhost:8080/",
          "height": 50
        }
      },
      "source": [
        "# setting a big weight to correctly classified object of class 0\n",
        "AUCs = eval_metric(classes, probas, weight=[10, 1, 1, 1, 1, 1, 1, 1, 1, 1], metric='AUC:type=OneVsAll')\n",
        "print('CalBoost OneVsAll AUC with weights:')\n",
        "print('AUC:class=0 = {0:.4f}, AUC:class=1 = {1:.4f}, AUC:class=2 = {2:.4f}'.format(AUCs[0], AUCs[1], AUCs[2]))"
      ],
      "execution_count": 0,
      "outputs": [
        {
          "output_type": "stream",
          "text": [
            "CalBoost OneVsAll AUC with weights:\n",
            "AUC:class=0 = 0.9881, AUC:class=1 = 0.8718, AUC:class=2 = 0.7222\n"
          ],
          "name": "stdout"
        }
      ]
    },
    {
      "cell_type": "markdown",
      "metadata": {
        "id": "Cg01NPzHPz7b",
        "colab_type": "text"
      },
      "source": [
        "Weights of the objects would affect AUC values for all classes as all objects of the other classes are used in the calculation as objects of class 0.  "
      ]
    },
    {
      "cell_type": "markdown",
      "metadata": {
        "id": "31Dm_yN_Mzzm",
        "colab_type": "text"
      },
      "source": [
        "OneVsAll AUC measures the ability of the classifier to distinguish objects of one class from another. \n",
        "\n",
        "An advantage of OneVsAll is the ability to monitor performance on different classes separately. "
      ]
    },
    {
      "cell_type": "markdown",
      "metadata": {
        "id": "Ghp4K-7NNk19",
        "colab_type": "text"
      },
      "source": [
        "## AUC$\\mu$"
      ]
    },
    {
      "cell_type": "markdown",
      "metadata": {
        "colab_type": "text",
        "id": "mmQhGMrCToZr"
      },
      "source": [
        "AUC$\\mu$ could be simply used as an evaluation metric to prevent overfitting, while OneVsAll AUC could not as it contains a metric value for each class and AUCs for different classes may vary inconsistently during training. "
      ]
    },
    {
      "cell_type": "markdown",
      "metadata": {
        "id": "d0W3_mPxOJiV",
        "colab_type": "text"
      },
      "source": [
        "Let's have a look at the AUC$\\mu$ formula:\n",
        "\n",
        "$$\n",
        "AUC\\mu = \\frac{2}{K(K - 1)}\\sum_{i<j} S(i, j) \n",
        "$$\n",
        "\n",
        "$K$ is a number of classes, $i < j ≤ K$ are the classes' numbers.\n",
        "\n",
        "$S(i, j)$ is a separability measure between classes $i$ and $j$ defined as:\n",
        "\n",
        "$$\n",
        "S(i, j) = \\frac{1}{n_i n_j}\\sum_{a \\in D_i, b \\in D_j} \\hat{I} \\circ O(y^{(a)}, y^{(b)}, \\hat{p}^{(a)}, \\hat{p}^{(b)}, v_{i, j}),\n",
        "$$\n",
        "\n",
        "where \n",
        "\n",
        "* $\\hat I$ is indicator function applied to results of $O$, which returns 1 if $O$ returns a positive value, 0 if $O$ returns a negative value, and 0.5 if $O$ returns 0.\n",
        "\n",
        "* $O$ is an orientation function indicating if the two instances are ordered correctly, incorrectly, or tied. $O$ returns a positive value if the predictions are ranked correctly, a negative\n",
        "value if they are ranked incorrectly, and 0 if their rank is\n",
        "tied. \n",
        "\n",
        "\n",
        "* $a$,  $b$ are objects from classes $i$, $j$ respectively, \n",
        "* $\\hat{p}^{(a)}$, $\\hat{p}^{(b)}$ are vectors of predicted probabilities of the object to belong to the classes,  \n",
        "* $y^{(a)}$, $y^{(b)}$ are true labels of objects $a$, $b$ (one-hot vectors),\n",
        "* $v_{i, j}$ is a two-class decision hyperplane normal vector.\n",
        "\n"
      ]
    },
    {
      "cell_type": "markdown",
      "metadata": {
        "id": "WbnHenOEoQtu",
        "colab_type": "text"
      },
      "source": [
        "$O$ is caclulates as following:\n",
        "\n",
        "\n",
        "$O(y^{(a)}, y^{(b)}, \\hat{p}^{(a)}, \\hat{p}^{(b)}, v_{i, j}) = v_{i, j} (y^{(a)} - y^{(b)}) v_{i, j} (\\hat{p}^{(a)} - \\hat{p}^{(b)})$\n",
        "\n",
        "Vectors $v_{i, j}$ come from misclassification cost matrix $A$, which is defined manually following the learning task. \n",
        "\n",
        "$v_{i,j} = A_{i,.} - A_{j,.}$\n",
        "\n",
        "$A_{i,j}$ is the cost of classifying an instance as class $i$\n",
        "when its true class is $j$. Then $A$ defines a partition on the\n",
        "$(K − 1)$−simplex and induces decision boundaries between\n",
        "the $K$ classes. \n",
        "\n",
        "Default misclassification cost matrix values are 1 everywhere, except the diagonal where they are 0. It is called the argmax partition\n",
        "matrix as it assigns a class with maximal probability."
      ]
    },
    {
      "cell_type": "markdown",
      "metadata": {
        "id": "O74KRN3ffSbN",
        "colab_type": "text"
      },
      "source": [
        "Here is a partition for a 3-class classification problem with the argmax partition matrix A. For a user-defined partition matrix the boundaries (marked by arrows) are shifted.\n",
        "\n",
        "![argmax partition matrix visualisation](https://habrastorage.org/webt/h_/9y/jh/h_9yjhimj9yidj3y1nritttbhsc.jpeg)\n",
        "\n",
        "\n"
      ]
    },
    {
      "cell_type": "markdown",
      "metadata": {
        "id": "Bm_INN7WtBFZ",
        "colab_type": "text"
      },
      "source": [
        "Follow [the article](http://proceedings.mlr.press/v97/kleiman19a/kleiman19a.pdf) for more details."
      ]
    },
    {
      "cell_type": "markdown",
      "metadata": {
        "id": "4-ZFdL8HoLxc",
        "colab_type": "text"
      },
      "source": [
        "CatBoost allows us to set the misclassification cost matrix $A$ and objects' weights to calculate $AUC\\mu$. \n",
        "\n"
      ]
    },
    {
      "cell_type": "markdown",
      "metadata": {
        "id": "sLMqrPczy_hz",
        "colab_type": "text"
      },
      "source": [
        "Let's calculate $AUC\\mu$ for a very small example with 3 classes and 4 objects:"
      ]
    },
    {
      "cell_type": "code",
      "metadata": {
        "id": "DEuwaCB9zHuW",
        "colab_type": "code",
        "colab": {}
      },
      "source": [
        "classes = np.array([2, 1, 0, 2])\n",
        "\n",
        "y = np.array([[0, 0, 1], [0, 1, 0], [1, 0, 0], [0, 0, 1]])\n",
        "\n",
        "probas = np.array([[0.3, 0.5, 0.2], [0.4, 0.5, 0.1], [0.4, 0.15, 0.45], [0.05, 0.5, 0.45]])\n",
        "\n",
        "K = 3\n",
        "\n",
        "A = np.array([[0, 1, 1], [1, 0, 1], [1, 1, 0]])"
      ],
      "execution_count": 0,
      "outputs": []
    },
    {
      "cell_type": "code",
      "metadata": {
        "id": "l4L1LiZP7UX1",
        "colab_type": "code",
        "colab": {}
      },
      "source": [
        "def get_I(value):\n",
        "  if value > 0:\n",
        "    return 1\n",
        "  elif value == 0:\n",
        "    return 0.5\n",
        "  return 0"
      ],
      "execution_count": 0,
      "outputs": []
    },
    {
      "cell_type": "markdown",
      "metadata": {
        "id": "_GTYVtl8_l59",
        "colab_type": "text"
      },
      "source": [
        "Let's compute $S(i, j)$ for each ordered classes' pair:"
      ]
    },
    {
      "cell_type": "code",
      "metadata": {
        "id": "53mt8CR3zyS6",
        "colab_type": "code",
        "colab": {}
      },
      "source": [
        "# i = 0 (objects: y_2), j = 1 (objects: y_1) \n",
        "v_01 = A[0, :] - A[1, :]\n",
        "s_01 = get_I(v_01.dot(y[2] - y[1]) * v_01.dot(probas[2] - probas[1]))"
      ],
      "execution_count": 0,
      "outputs": []
    },
    {
      "cell_type": "code",
      "metadata": {
        "id": "8NVFcJP36hR2",
        "colab_type": "code",
        "colab": {}
      },
      "source": [
        "# i = 0 (objects: y_2), j = 2 (objects: y_0, y_3) \n",
        "v_02 = A[0, :] - A[2, :]\n",
        "s_02 = 1 / (1 * 2) * (get_I(v_02.dot(y[2] - y[0]) * v_02.dot(probas[2] - probas[0])) + \\\n",
        "       get_I(v_02.dot(y[2] - y[3]) * v_02.dot(probas[2] - probas[3])))"
      ],
      "execution_count": 0,
      "outputs": []
    },
    {
      "cell_type": "code",
      "metadata": {
        "id": "mTFw-BjXz9fe",
        "colab_type": "code",
        "colab": {}
      },
      "source": [
        "# i = 1 (objects: y_1), j = 2 (objects: y_0, y_3) \n",
        "v_12 = A[1, :] - A[2, :]\n",
        "s_12 = 1 / (1 * 2) * (get_I(v_12.dot(y[1] - y[0]) * v_02.dot(probas[1] - probas[0])) + \\\n",
        "       get_I(v_12.dot(y[1] - y[3]) * v_02.dot(probas[1] - probas[3])))"
      ],
      "execution_count": 0,
      "outputs": []
    },
    {
      "cell_type": "code",
      "metadata": {
        "id": "SiKLa0i-8b6q",
        "colab_type": "code",
        "outputId": "9cb48966-9dec-441c-93f2-755fddf0ca1a",
        "colab": {
          "base_uri": "https://localhost:8080/",
          "height": 34
        }
      },
      "source": [
        "AUC_mu = 2 / (K * (K - 1)) * (s_01 + s_02 + s_12)\n",
        "print('AUC_mu = {:.4f}'.format(AUC_mu))"
      ],
      "execution_count": 0,
      "outputs": [
        {
          "output_type": "stream",
          "text": [
            "AUC_mu = 0.8333\n"
          ],
          "name": "stdout"
        }
      ]
    },
    {
      "cell_type": "markdown",
      "metadata": {
        "id": "SE5JUtmLAMcz",
        "colab_type": "text"
      },
      "source": [
        "Let's calculate the same metric with Catboost $AUC\\mu$ and ensure everything is right:"
      ]
    },
    {
      "cell_type": "code",
      "metadata": {
        "id": "YmHfHRL43d_V",
        "colab_type": "code",
        "outputId": "dee115d0-5bff-42fd-de96-90674ae83bf6",
        "colab": {
          "base_uri": "https://localhost:8080/",
          "height": 34
        }
      },
      "source": [
        "print('Catboost AUC_mu = {:.4f}'.format(eval_metric(classes, probas.T, 'AUC:type=Mu')[0]))"
      ],
      "execution_count": 0,
      "outputs": [
        {
          "output_type": "stream",
          "text": [
            "Catboost AUC_mu = 0.8333\n"
          ],
          "name": "stdout"
        }
      ]
    },
    {
      "cell_type": "markdown",
      "metadata": {
        "id": "iC9NFTjNAjhm",
        "colab_type": "text"
      },
      "source": [
        "Let's calculate OneVsAll AUC for the same data:"
      ]
    },
    {
      "cell_type": "code",
      "metadata": {
        "id": "CPO1XKBh9tFW",
        "colab_type": "code",
        "outputId": "67a8821d-9dfb-453f-f2b3-00ff0fab8bbf",
        "colab": {
          "base_uri": "https://localhost:8080/",
          "height": 34
        }
      },
      "source": [
        "AUCs = eval_metric(classes, probas.T, metric='AUC:type=OneVsAll')\n",
        "print('AUC:class=0 = {0:.4f}, AUC:class=1 = {1:.4f}, AUC:class=2 = {2:.4f}'.format(AUCs[0], AUCs[1], AUCs[2]))"
      ],
      "execution_count": 0,
      "outputs": [
        {
          "output_type": "stream",
          "text": [
            "AUC:class=0 = 0.8333, AUC:class=1 = 0.6667, AUC:class=2 = 0.6250\n"
          ],
          "name": "stdout"
        }
      ]
    },
    {
      "cell_type": "markdown",
      "metadata": {
        "id": "bKSa8NcMAwD7",
        "colab_type": "text"
      },
      "source": [
        "As we can see OneVsAll AUC and $AUC\\mu$ are pretty high, but actually algorithm performance is bad, accuracy is 0.25. Thus it is reasonable to evaluate other important metrics during training.\n",
        "\n"
      ]
    },
    {
      "cell_type": "code",
      "metadata": {
        "id": "EfKNeqC23mzf",
        "colab_type": "code",
        "outputId": "1db410d2-ff53-4897-be1f-cb2294a37987",
        "colab": {
          "base_uri": "https://localhost:8080/",
          "height": 34
        }
      },
      "source": [
        "print('Accuracy = {:.4f}'.format(eval_metric(classes, probas.T, metric='Accuracy')[0]))"
      ],
      "execution_count": 0,
      "outputs": [
        {
          "output_type": "stream",
          "text": [
            "Accuracy = 0.2500\n"
          ],
          "name": "stdout"
        }
      ]
    },
    {
      "cell_type": "markdown",
      "metadata": {
        "id": "-ytxYh2NFOl4",
        "colab_type": "text"
      },
      "source": [
        "#### $AUC\\mu$ with misclassification cost matrix and weights"
      ]
    },
    {
      "cell_type": "code",
      "metadata": {
        "id": "jfGlSrtzFRO3",
        "colab_type": "code",
        "colab": {}
      },
      "source": [
        "AUC = eval_metric(classes, probas.T, weight=[1, 10, 1, 1], metric='AUC:type=Mu;misclass_cost_matrix=0/0.5/2/1/0/1/0/0.5/0')"
      ],
      "execution_count": 0,
      "outputs": []
    },
    {
      "cell_type": "code",
      "metadata": {
        "id": "2LLiuZhbFZls",
        "colab_type": "code",
        "outputId": "217fb628-c184-40e8-8c9e-87ae7153d981",
        "colab": {
          "base_uri": "https://localhost:8080/",
          "height": 34
        }
      },
      "source": [
        "print('Catboost AUC_mu with weights = {:.4f}'.format(AUC[0]))"
      ],
      "execution_count": 0,
      "outputs": [
        {
          "output_type": "stream",
          "text": [
            "Catboost AUC_mu with weights = 0.1667\n"
          ],
          "name": "stdout"
        }
      ]
    },
    {
      "cell_type": "markdown",
      "metadata": {
        "id": "PKij1RTBTSlU",
        "colab_type": "text"
      },
      "source": [
        "$AUC\\mu$ is a good generalizing metric to estimate algorithm ability to separate classes in multiclassification problems. See more about different approaches to multiclass AUC calculation and their properties in section 4.3 of [the article](http://proceedings.mlr.press/v97/kleiman19a/kleiman19a.pdf).\n",
        "\n",
        "AUC$\\mu$ could be interpreted as an average of pairwise AUCs between the classes. AUC$\\mu$ is a single value unlike OneVsAll AUC and thus it could be used as an evaluation metric during training for overfitting detection and trees pruning."
      ]
    },
    {
      "cell_type": "markdown",
      "metadata": {
        "id": "jyzEdJbFtbYp",
        "colab_type": "text"
      },
      "source": [
        "# AUC for ranking"
      ]
    },
    {
      "cell_type": "markdown",
      "metadata": {
        "id": "Vo7gnlonxR3H",
        "colab_type": "text"
      },
      "source": [
        "There are two variants of AUC for Ranking in CatBoost."
      ]
    },
    {
      "cell_type": "markdown",
      "metadata": {
        "id": "YF-bFQ8vuCgE",
        "colab_type": "text"
      },
      "source": [
        "### The Classic AUC\n",
        "is used for models with Logloss and CrossEntropy loss functions. It has the same formula as AUC for binary classification:\n",
        "\n",
        "$$\n",
        "\\frac{\\sum I(a_i, a_j) w_i w_j}{\\sum{w_i w_j}} \n",
        "$$\n",
        "\n",
        "$a_i, a_j$ - predicted rank of objects i, j.\n",
        "\n",
        "The sum is calculated on all pairs of objects $i, j$ such that:\n",
        "$t_i = 0, t_j = 1$ where $t$ is relevance.\n",
        "\n",
        "$$\n",
        "I(a_i, a_j) =\n",
        "  \\begin{cases}\n",
        "    1    & \\quad \\text{if } a_i < a_j\\\\\n",
        "    0.5  & \\quad \\text{if } a_i = a_j\\\\\n",
        "    0    & \\quad \\text{if } a_i > a_j\\\\\n",
        "  \\end{cases}\n",
        "$$\n",
        "\n",
        "The formula above suits for simple tasks with target values equal to 1 and 0. What if we have more target values? \n",
        "\n",
        "If the target type is not binary, then every object $i$ with target value $t$ and weight $w$ is replaced with two objects for the metric calculation:\n",
        "\n",
        "* $\\sigma_1$ with weight $wt$ and target value 1\n",
        "* $\\sigma_2$ with weight $w(1 - t)$ and target value 0.\n",
        "\n",
        "Target values must be in the range [0; 1].\n",
        "\n",
        "\n"
      ]
    },
    {
      "cell_type": "markdown",
      "metadata": {
        "id": "wi6LmfLZ_d7x",
        "colab_type": "text"
      },
      "source": [
        "Let's calculate Classic AUC for Ranking for a small example. Assume we have 2 documents, 2 requests, corresponding relevances in the range [1, 5] and predicted relevance in the range [0, 1]:\n"
      ]
    },
    {
      "cell_type": "code",
      "metadata": {
        "id": "x-0sMVYH_17_",
        "colab_type": "code",
        "outputId": "18558f01-1b12-41c8-dfd2-621d3eda17de",
        "colab": {
          "base_uri": "https://localhost:8080/",
          "height": 166
        }
      },
      "source": [
        "rank_df = pd.DataFrame({'request_id': [1, 1, 2, 2], 'doc_id': [1, 2, 1, 2], 'relevance': [2, 5, 4, 1], 'pred':[0.3, 0.7, 0.2, 0.6], 'weight': [1, 1, 1, 1]})\n",
        "#map relevence to [0, 1]\n",
        "rank_df.loc[:, 'relevance'] /= 5\n",
        "rank_df.sort_values(by='pred', axis=0, inplace=True)\n",
        "rank_df"
      ],
      "execution_count": 0,
      "outputs": [
        {
          "output_type": "execute_result",
          "data": {
            "text/html": [
              "<div>\n",
              "<style scoped>\n",
              "    .dataframe tbody tr th:only-of-type {\n",
              "        vertical-align: middle;\n",
              "    }\n",
              "\n",
              "    .dataframe tbody tr th {\n",
              "        vertical-align: top;\n",
              "    }\n",
              "\n",
              "    .dataframe thead th {\n",
              "        text-align: right;\n",
              "    }\n",
              "</style>\n",
              "<table border=\"1\" class=\"dataframe\">\n",
              "  <thead>\n",
              "    <tr style=\"text-align: right;\">\n",
              "      <th></th>\n",
              "      <th>request_id</th>\n",
              "      <th>doc_id</th>\n",
              "      <th>relevance</th>\n",
              "      <th>pred</th>\n",
              "      <th>weight</th>\n",
              "    </tr>\n",
              "  </thead>\n",
              "  <tbody>\n",
              "    <tr>\n",
              "      <th>2</th>\n",
              "      <td>2</td>\n",
              "      <td>1</td>\n",
              "      <td>0.8</td>\n",
              "      <td>0.2</td>\n",
              "      <td>1</td>\n",
              "    </tr>\n",
              "    <tr>\n",
              "      <th>0</th>\n",
              "      <td>1</td>\n",
              "      <td>1</td>\n",
              "      <td>0.4</td>\n",
              "      <td>0.3</td>\n",
              "      <td>1</td>\n",
              "    </tr>\n",
              "    <tr>\n",
              "      <th>3</th>\n",
              "      <td>2</td>\n",
              "      <td>2</td>\n",
              "      <td>0.2</td>\n",
              "      <td>0.6</td>\n",
              "      <td>1</td>\n",
              "    </tr>\n",
              "    <tr>\n",
              "      <th>1</th>\n",
              "      <td>1</td>\n",
              "      <td>2</td>\n",
              "      <td>1.0</td>\n",
              "      <td>0.7</td>\n",
              "      <td>1</td>\n",
              "    </tr>\n",
              "  </tbody>\n",
              "</table>\n",
              "</div>"
            ],
            "text/plain": [
              "   request_id  doc_id  relevance  pred  weight\n",
              "2           2       1        0.8   0.2       1\n",
              "0           1       1        0.4   0.3       1\n",
              "3           2       2        0.2   0.6       1\n",
              "1           1       2        1.0   0.7       1"
            ]
          },
          "metadata": {
            "tags": []
          },
          "execution_count": 62
        }
      ]
    },
    {
      "cell_type": "markdown",
      "metadata": {
        "id": "GdfSC870D79e",
        "colab_type": "text"
      },
      "source": [
        "Let's create objects $\\sigma$ required for calculation and update weights:"
      ]
    },
    {
      "cell_type": "code",
      "metadata": {
        "id": "yiIluHApETFU",
        "colab_type": "code",
        "colab": {}
      },
      "source": [
        "rank_df_sigma = pd.concat([\n",
        "    rank_df,rank_df\n",
        "],ignore_index=True)\n",
        "rank_df_sigma['new_relevance'] = 0\n",
        "rank_df_sigma.loc[:3, 'new_relevance'] = 1\n",
        "rank_df_sigma['new_weight'] = rank_df_sigma['weight']"
      ],
      "execution_count": 0,
      "outputs": []
    },
    {
      "cell_type": "code",
      "metadata": {
        "id": "01Jtfs2pFYqa",
        "colab_type": "code",
        "outputId": "d4247f83-2ae9-493c-f75b-d1e2105c037f",
        "colab": {
          "base_uri": "https://localhost:8080/",
          "height": 284
        }
      },
      "source": [
        "rank_df_sigma.loc[rank_df_sigma['new_relevance'] == 1, 'new_weight'] = rank_df_sigma['relevance'] * rank_df_sigma['weight']\n",
        "rank_df_sigma.loc[rank_df_sigma['new_relevance'] == 0, 'new_weight'] = (1 - rank_df_sigma['relevance']) * rank_df_sigma['weight']\n",
        "rank_df_sigma.sort_values(by='pred', axis=0, ascending=False, inplace=True)\n",
        "rank_df_sigma"
      ],
      "execution_count": 0,
      "outputs": [
        {
          "output_type": "execute_result",
          "data": {
            "text/html": [
              "<div>\n",
              "<style scoped>\n",
              "    .dataframe tbody tr th:only-of-type {\n",
              "        vertical-align: middle;\n",
              "    }\n",
              "\n",
              "    .dataframe tbody tr th {\n",
              "        vertical-align: top;\n",
              "    }\n",
              "\n",
              "    .dataframe thead th {\n",
              "        text-align: right;\n",
              "    }\n",
              "</style>\n",
              "<table border=\"1\" class=\"dataframe\">\n",
              "  <thead>\n",
              "    <tr style=\"text-align: right;\">\n",
              "      <th></th>\n",
              "      <th>request_id</th>\n",
              "      <th>doc_id</th>\n",
              "      <th>relevance</th>\n",
              "      <th>pred</th>\n",
              "      <th>weight</th>\n",
              "      <th>new_relevance</th>\n",
              "      <th>new_weight</th>\n",
              "    </tr>\n",
              "  </thead>\n",
              "  <tbody>\n",
              "    <tr>\n",
              "      <th>3</th>\n",
              "      <td>1</td>\n",
              "      <td>2</td>\n",
              "      <td>1.0</td>\n",
              "      <td>0.7</td>\n",
              "      <td>1</td>\n",
              "      <td>1</td>\n",
              "      <td>1.0</td>\n",
              "    </tr>\n",
              "    <tr>\n",
              "      <th>7</th>\n",
              "      <td>1</td>\n",
              "      <td>2</td>\n",
              "      <td>1.0</td>\n",
              "      <td>0.7</td>\n",
              "      <td>1</td>\n",
              "      <td>0</td>\n",
              "      <td>0.0</td>\n",
              "    </tr>\n",
              "    <tr>\n",
              "      <th>2</th>\n",
              "      <td>2</td>\n",
              "      <td>2</td>\n",
              "      <td>0.2</td>\n",
              "      <td>0.6</td>\n",
              "      <td>1</td>\n",
              "      <td>1</td>\n",
              "      <td>0.2</td>\n",
              "    </tr>\n",
              "    <tr>\n",
              "      <th>6</th>\n",
              "      <td>2</td>\n",
              "      <td>2</td>\n",
              "      <td>0.2</td>\n",
              "      <td>0.6</td>\n",
              "      <td>1</td>\n",
              "      <td>0</td>\n",
              "      <td>0.8</td>\n",
              "    </tr>\n",
              "    <tr>\n",
              "      <th>1</th>\n",
              "      <td>1</td>\n",
              "      <td>1</td>\n",
              "      <td>0.4</td>\n",
              "      <td>0.3</td>\n",
              "      <td>1</td>\n",
              "      <td>1</td>\n",
              "      <td>0.4</td>\n",
              "    </tr>\n",
              "    <tr>\n",
              "      <th>5</th>\n",
              "      <td>1</td>\n",
              "      <td>1</td>\n",
              "      <td>0.4</td>\n",
              "      <td>0.3</td>\n",
              "      <td>1</td>\n",
              "      <td>0</td>\n",
              "      <td>0.6</td>\n",
              "    </tr>\n",
              "    <tr>\n",
              "      <th>0</th>\n",
              "      <td>2</td>\n",
              "      <td>1</td>\n",
              "      <td>0.8</td>\n",
              "      <td>0.2</td>\n",
              "      <td>1</td>\n",
              "      <td>1</td>\n",
              "      <td>0.8</td>\n",
              "    </tr>\n",
              "    <tr>\n",
              "      <th>4</th>\n",
              "      <td>2</td>\n",
              "      <td>1</td>\n",
              "      <td>0.8</td>\n",
              "      <td>0.2</td>\n",
              "      <td>1</td>\n",
              "      <td>0</td>\n",
              "      <td>0.2</td>\n",
              "    </tr>\n",
              "  </tbody>\n",
              "</table>\n",
              "</div>"
            ],
            "text/plain": [
              "   request_id  doc_id  relevance  pred  weight  new_relevance  new_weight\n",
              "3           1       2        1.0   0.7       1              1         1.0\n",
              "7           1       2        1.0   0.7       1              0         0.0\n",
              "2           2       2        0.2   0.6       1              1         0.2\n",
              "6           2       2        0.2   0.6       1              0         0.8\n",
              "1           1       1        0.4   0.3       1              1         0.4\n",
              "5           1       1        0.4   0.3       1              0         0.6\n",
              "0           2       1        0.8   0.2       1              1         0.8\n",
              "4           2       1        0.8   0.2       1              0         0.2"
            ]
          },
          "metadata": {
            "tags": []
          },
          "execution_count": 66
        }
      ]
    },
    {
      "cell_type": "markdown",
      "metadata": {
        "id": "gRMCQhRS0Cj6",
        "colab_type": "text"
      },
      "source": [
        "Let's calculate AUC:"
      ]
    },
    {
      "cell_type": "code",
      "metadata": {
        "id": "TYiTnRbOG1NY",
        "colab_type": "code",
        "colab": {}
      },
      "source": [
        "# finding sum of weights for denominator\n",
        "weights1 = rank_df_sigma.loc[rank_df_sigma['new_relevance'] == 1, 'new_weight'].to_numpy()\n",
        "weights0 = rank_df_sigma.loc[rank_df_sigma['new_relevance'] == 0, 'new_weight'].to_numpy()"
      ],
      "execution_count": 0,
      "outputs": []
    },
    {
      "cell_type": "markdown",
      "metadata": {
        "id": "VYthlOpwhqgG",
        "colab_type": "text"
      },
      "source": [
        "Calculation details for object #3:\n",
        "\n",
        "![classical ranking AUC calculation](https://habrastorage.org/webt/gq/in/iy/gqiniyqqhdgpd3fqckbdlwgvk4w.jpeg)\n"
      ]
    },
    {
      "cell_type": "code",
      "metadata": {
        "id": "mfuBVxJ6I7me",
        "colab_type": "code",
        "outputId": "afe49d91-db7a-446b-9190-5707fdf1298e",
        "colab": {
          "base_uri": "https://localhost:8080/",
          "height": 34
        }
      },
      "source": [
        "denominator = np.sum(weights1.reshape(-1, 1)@weights0.reshape(1, -1))\n",
        "# for each object of class 1 find objects of class 0 below and add composition of weights and indicatior function to the numerator \n",
        "numerator = 1 * (0.8 + 0.6 + 0.2) + 0.2 * (0.8 * 0.5 + 0.6 + 0.2) + 0.4 * (0.6 * 0.5 + 0.2) + 0.8 * 0.2 * 0.5\n",
        "manually_calculated_auc = numerator / denominator\n",
        "print('Example of manually calculated Classic ROC AUC for ranking = {0:.4f}'.format(manually_calculated_auc))"
      ],
      "execution_count": 0,
      "outputs": [
        {
          "output_type": "stream",
          "text": [
            "Example of manually calculated Classic ROC AUC for ranking = 0.5521\n"
          ],
          "name": "stdout"
        }
      ]
    },
    {
      "cell_type": "code",
      "metadata": {
        "id": "lo_MkDWKKa5S",
        "colab_type": "code",
        "outputId": "2e2d10d9-a8ce-45cf-ca3c-a5c5ceaa839c",
        "colab": {
          "base_uri": "https://localhost:8080/",
          "height": 34
        }
      },
      "source": [
        "print('CatBoost Classic ROC AUC for ranking = {0:.4f}'.format(eval_metric(rank_df['relevance'], rank_df['pred'], 'AUC:type=Classic')[0]))"
      ],
      "execution_count": 0,
      "outputs": [
        {
          "output_type": "stream",
          "text": [
            "CatBoost Classic ROC AUC for ranking = 0.5521\n"
          ],
          "name": "stdout"
        }
      ]
    },
    {
      "cell_type": "markdown",
      "metadata": {
        "id": "Zh_BXVF64IB_",
        "colab_type": "text"
      },
      "source": [
        "## Ranking AUC\n",
        "\n",
        "Ranking AUC is used for ranking loss functions.\n",
        "\n",
        "$$\n",
        "\\frac{\\sum I(a_i, a_j) w_i w_j}{\\sum{w_i w_j}} \n",
        "$$\n",
        "\n",
        "$a_i, a_j$ - predicted rank of objects i, j.\n",
        "\n",
        "The sum is calculated on all pairs of objects $i, j$ such that:\n",
        "$t_i < t_j$ where $t$ is relevance.\n",
        "\n",
        "$$\n",
        "I(a_i, a_j) =\n",
        "  \\begin{cases}\n",
        "    1    & \\quad \\text{if } a_i < a_j\\\\\n",
        "    0.5  & \\quad \\text{if } a_i = a_j\\\\\n",
        "    0    & \\quad \\text{if } a_i > a_j\\\\\n",
        "  \\end{cases}\n",
        "$$\n"
      ]
    },
    {
      "cell_type": "markdown",
      "metadata": {
        "id": "bA8K_XglLhH1",
        "colab_type": "text"
      },
      "source": [
        "Let's compute Ranking AUC for the small example above:"
      ]
    },
    {
      "cell_type": "code",
      "metadata": {
        "id": "AtzoAj6MLqet",
        "colab_type": "code",
        "outputId": "3d7e5dda-9b62-4372-b9a6-a6e7150791c3",
        "colab": {
          "base_uri": "https://localhost:8080/",
          "height": 166
        }
      },
      "source": [
        "rank_df.sort_values(by='relevance', axis=0, inplace=True, ascending=False)\n",
        "rank_df"
      ],
      "execution_count": 0,
      "outputs": [
        {
          "output_type": "execute_result",
          "data": {
            "text/html": [
              "<div>\n",
              "<style scoped>\n",
              "    .dataframe tbody tr th:only-of-type {\n",
              "        vertical-align: middle;\n",
              "    }\n",
              "\n",
              "    .dataframe tbody tr th {\n",
              "        vertical-align: top;\n",
              "    }\n",
              "\n",
              "    .dataframe thead th {\n",
              "        text-align: right;\n",
              "    }\n",
              "</style>\n",
              "<table border=\"1\" class=\"dataframe\">\n",
              "  <thead>\n",
              "    <tr style=\"text-align: right;\">\n",
              "      <th></th>\n",
              "      <th>request_id</th>\n",
              "      <th>doc_id</th>\n",
              "      <th>relevance</th>\n",
              "      <th>pred</th>\n",
              "      <th>weight</th>\n",
              "    </tr>\n",
              "  </thead>\n",
              "  <tbody>\n",
              "    <tr>\n",
              "      <th>1</th>\n",
              "      <td>1</td>\n",
              "      <td>2</td>\n",
              "      <td>1.0</td>\n",
              "      <td>0.7</td>\n",
              "      <td>1</td>\n",
              "    </tr>\n",
              "    <tr>\n",
              "      <th>2</th>\n",
              "      <td>2</td>\n",
              "      <td>1</td>\n",
              "      <td>0.8</td>\n",
              "      <td>0.2</td>\n",
              "      <td>1</td>\n",
              "    </tr>\n",
              "    <tr>\n",
              "      <th>0</th>\n",
              "      <td>1</td>\n",
              "      <td>1</td>\n",
              "      <td>0.4</td>\n",
              "      <td>0.3</td>\n",
              "      <td>1</td>\n",
              "    </tr>\n",
              "    <tr>\n",
              "      <th>3</th>\n",
              "      <td>2</td>\n",
              "      <td>2</td>\n",
              "      <td>0.2</td>\n",
              "      <td>0.6</td>\n",
              "      <td>1</td>\n",
              "    </tr>\n",
              "  </tbody>\n",
              "</table>\n",
              "</div>"
            ],
            "text/plain": [
              "   request_id  doc_id  relevance  pred  weight\n",
              "1           1       2        1.0   0.7       1\n",
              "2           2       1        0.8   0.2       1\n",
              "0           1       1        0.4   0.3       1\n",
              "3           2       2        0.2   0.6       1"
            ]
          },
          "metadata": {
            "tags": []
          },
          "execution_count": 70
        }
      ]
    },
    {
      "cell_type": "markdown",
      "metadata": {
        "id": "eFrN1wpQNS-3",
        "colab_type": "text"
      },
      "source": [
        "Calculation details:\n",
        "\n",
        "![ranking AUC calculation details](https://habrastorage.org/webt/rk/8w/ka/rk8wkacwlc9sw3tqq2bgitqti-m.jpeg)"
      ]
    },
    {
      "cell_type": "code",
      "metadata": {
        "id": "EPoAl92NLsCl",
        "colab_type": "code",
        "outputId": "126ed541-ce40-4945-b680-8421ad5bc46f",
        "colab": {
          "base_uri": "https://localhost:8080/",
          "height": 34
        }
      },
      "source": [
        "n = rank_df['relevance'].unique().shape[0]\n",
        "denominator = (n * (n-1)) / 2 #number of ordered pairs\n",
        "# for object #1 three object below are less relevant by real relevance and predictions, the other are incorrectly ranked \n",
        "numerator = 3\n",
        "manually_calculated_auc = numerator / denominator\n",
        "print('Example of manually calculated Ranking ROC AUC = {0:.4f}'.format(manually_calculated_auc))"
      ],
      "execution_count": 0,
      "outputs": [
        {
          "output_type": "stream",
          "text": [
            "Example of manually calculated Ranking ROC AUC = 0.5000\n"
          ],
          "name": "stdout"
        }
      ]
    },
    {
      "cell_type": "code",
      "metadata": {
        "id": "3J7C-V3eNCHa",
        "colab_type": "code",
        "outputId": "bc6c1c35-7e6e-46f2-8ee1-95b4f65b2ed1",
        "colab": {
          "base_uri": "https://localhost:8080/",
          "height": 34
        }
      },
      "source": [
        "print('CatBoost Ranking ROC AUC = {0:.4f}'.format(eval_metric(rank_df['relevance'], rank_df['pred'], 'AUC:type=Ranking', group_id=rank_df['request_id'])[0]))"
      ],
      "execution_count": 0,
      "outputs": [
        {
          "output_type": "stream",
          "text": [
            "CatBoost Ranking ROC AUC = 0.5000\n"
          ],
          "name": "stdout"
        }
      ]
    },
    {
      "cell_type": "markdown",
      "metadata": {
        "id": "IQ2zjs34NuMh",
        "colab_type": "text"
      },
      "source": [
        "Ranking AUC is directly measuring the quantity of correctly ranked pairs. The problem is the metric is calculated regardless of groups. In our example, we have groups (requests) and we may want to measure quality inside the groups, but currently, AUC is calculated over the dataset and AUC penalizes us if, for example, top-one document for one request is ranked lower than top-one for another document while true ranks are opposite (but still top-one for each document).\n",
        "\n",
        "One more problem of AUC for Ranking is that it does not distinguish the top object from the others. If we have a lot of irrelevant documents, which are ranked irrelevant by the model, but bad ranking in top-10, AUC could still be high because of that \"tail\" of irrelevant objects, ranked lower than relevant. "
      ]
    },
    {
      "cell_type": "markdown",
      "metadata": {
        "id": "K2zjAF0p8Adf",
        "colab_type": "text"
      },
      "source": [
        "#Overview\n",
        "\n",
        "AUC is a widely used metric to measure the ability of a model to distinguish classes and correctly order objects from different classes / with different relevance. AUC is not differentiable and thus cannot be used as a loss function, but it is pretty informative and useful as a metric. \n",
        "\n",
        "We have examined the following AUC types:\n",
        "* AUC for binary classification. It is a classical metric, which measures the model quality. ROC curve allows selecting the probability threshold to meet required False Positive or False Negative Rates. \n",
        "\n",
        "* AUC for multiclass classification: OneVsAll and $AUC\\mu$. OneVsAll AUC helps to control algorithm performance for each class, but can not be used as a metric to prevent overfitting. On the contrary, $AUC\\mu$ is good as a generalizing metric, but will not detect a problem with one class.\n",
        "\n",
        "* AUC for ranking: Classic AUC and Ranking AUC. AUC suits for ranking tasks because it is designed to measure how the algorithm distinguishes between classes and it is simply transferring to distinguishing between relevant and irrelevant objects. But AUC does not take into account that in ranking problems the first $n$ positions are very important and treats each correctly ordered pair of documents equally.   \n",
        "\n",
        "\n",
        "\n"
      ]
    },
    {
      "cell_type": "markdown",
      "metadata": {
        "id": "BP1nOBpvFzPV",
        "colab_type": "text"
      },
      "source": [
        "# How to use AUC in Catboost on real datasets? \n",
        "\n",
        "AUC implemented in CatBoost allows using weights to consider object and classes' importance in metric calculation. \n",
        "You can use AUC in Catboost during training as a validation metric to prevent overfitting and select the best model and as a metric to compare different models' results. \n",
        "\n",
        "Let's consider an example of using AUC for a multiclassification task."
      ]
    },
    {
      "cell_type": "markdown",
      "metadata": {
        "colab_type": "text",
        "id": "Srr6fg6agch_"
      },
      "source": [
        "### AUC for multiclass classification"
      ]
    },
    {
      "cell_type": "markdown",
      "metadata": {
        "colab_type": "text",
        "id": "exFbBmAHgciQ"
      },
      "source": [
        "#### Loading dataset"
      ]
    },
    {
      "cell_type": "markdown",
      "metadata": {
        "colab_type": "text",
        "id": "xgtP8tQugciS"
      },
      "source": [
        "We will use the [Wine recognition dataset](https://scikit-learn.org/stable/datasets/index.html#wine-dataset ) for multiclass classification problem"
      ]
    },
    {
      "cell_type": "code",
      "metadata": {
        "id": "GvRX3NiZgSiM",
        "colab_type": "code",
        "outputId": "4dbda0c6-e453-402c-d8a2-4253c8cfec00",
        "colab": {
          "base_uri": "https://localhost:8080/",
          "height": 202
        }
      },
      "source": [
        "!wget https://archive.ics.uci.edu/ml/machine-learning-databases/wine/wine.data"
      ],
      "execution_count": 0,
      "outputs": [
        {
          "output_type": "stream",
          "text": [
            "--2020-03-29 14:50:55--  https://archive.ics.uci.edu/ml/machine-learning-databases/wine/wine.data\n",
            "Resolving archive.ics.uci.edu (archive.ics.uci.edu)... 128.195.10.252\n",
            "Connecting to archive.ics.uci.edu (archive.ics.uci.edu)|128.195.10.252|:443... connected.\n",
            "HTTP request sent, awaiting response... 200 OK\n",
            "Length: 10782 (11K) [application/x-httpd-php]\n",
            "Saving to: ‘wine.data’\n",
            "\n",
            "\rwine.data             0%[                    ]       0  --.-KB/s               \rwine.data           100%[===================>]  10.53K  --.-KB/s    in 0s      \n",
            "\n",
            "2020-03-29 14:50:55 (118 MB/s) - ‘wine.data’ saved [10782/10782]\n",
            "\n"
          ],
          "name": "stdout"
        }
      ]
    },
    {
      "cell_type": "code",
      "metadata": {
        "id": "m95K_uLkhmtc",
        "colab_type": "code",
        "colab": {}
      },
      "source": [
        "columns = ['Class', 'Alcohol', 'Malic_acid', 'Ash', 'Alcalinity_of_ash', 'Magnesium', 'Total_phenols', 'Flavanoids', 'Nonflavanoid_phenols', 'Proanthocyanins', 'Color_intensity', 'Hue', 'OD280OD315_of_diluted_wines', 'Proline']\n",
        "train_df = pd.read_csv('wine.data', names=columns)"
      ],
      "execution_count": 0,
      "outputs": []
    },
    {
      "cell_type": "code",
      "metadata": {
        "id": "X7__C4NvhsKV",
        "colab_type": "code",
        "outputId": "6e6b45a8-f5c9-48b9-ba2c-b4f519bb23b1",
        "colab": {
          "base_uri": "https://localhost:8080/",
          "height": 215
        }
      },
      "source": [
        "train_df.head(5)"
      ],
      "execution_count": 0,
      "outputs": [
        {
          "output_type": "execute_result",
          "data": {
            "text/html": [
              "<div>\n",
              "<style scoped>\n",
              "    .dataframe tbody tr th:only-of-type {\n",
              "        vertical-align: middle;\n",
              "    }\n",
              "\n",
              "    .dataframe tbody tr th {\n",
              "        vertical-align: top;\n",
              "    }\n",
              "\n",
              "    .dataframe thead th {\n",
              "        text-align: right;\n",
              "    }\n",
              "</style>\n",
              "<table border=\"1\" class=\"dataframe\">\n",
              "  <thead>\n",
              "    <tr style=\"text-align: right;\">\n",
              "      <th></th>\n",
              "      <th>Class</th>\n",
              "      <th>Alcohol</th>\n",
              "      <th>Malic_acid</th>\n",
              "      <th>Ash</th>\n",
              "      <th>Alcalinity_of_ash</th>\n",
              "      <th>Magnesium</th>\n",
              "      <th>Total_phenols</th>\n",
              "      <th>Flavanoids</th>\n",
              "      <th>Nonflavanoid_phenols</th>\n",
              "      <th>Proanthocyanins</th>\n",
              "      <th>Color_intensity</th>\n",
              "      <th>Hue</th>\n",
              "      <th>OD280OD315_of_diluted_wines</th>\n",
              "      <th>Proline</th>\n",
              "    </tr>\n",
              "  </thead>\n",
              "  <tbody>\n",
              "    <tr>\n",
              "      <th>0</th>\n",
              "      <td>1</td>\n",
              "      <td>14.23</td>\n",
              "      <td>1.71</td>\n",
              "      <td>2.43</td>\n",
              "      <td>15.6</td>\n",
              "      <td>127</td>\n",
              "      <td>2.80</td>\n",
              "      <td>3.06</td>\n",
              "      <td>0.28</td>\n",
              "      <td>2.29</td>\n",
              "      <td>5.64</td>\n",
              "      <td>1.04</td>\n",
              "      <td>3.92</td>\n",
              "      <td>1065</td>\n",
              "    </tr>\n",
              "    <tr>\n",
              "      <th>1</th>\n",
              "      <td>1</td>\n",
              "      <td>13.20</td>\n",
              "      <td>1.78</td>\n",
              "      <td>2.14</td>\n",
              "      <td>11.2</td>\n",
              "      <td>100</td>\n",
              "      <td>2.65</td>\n",
              "      <td>2.76</td>\n",
              "      <td>0.26</td>\n",
              "      <td>1.28</td>\n",
              "      <td>4.38</td>\n",
              "      <td>1.05</td>\n",
              "      <td>3.40</td>\n",
              "      <td>1050</td>\n",
              "    </tr>\n",
              "    <tr>\n",
              "      <th>2</th>\n",
              "      <td>1</td>\n",
              "      <td>13.16</td>\n",
              "      <td>2.36</td>\n",
              "      <td>2.67</td>\n",
              "      <td>18.6</td>\n",
              "      <td>101</td>\n",
              "      <td>2.80</td>\n",
              "      <td>3.24</td>\n",
              "      <td>0.30</td>\n",
              "      <td>2.81</td>\n",
              "      <td>5.68</td>\n",
              "      <td>1.03</td>\n",
              "      <td>3.17</td>\n",
              "      <td>1185</td>\n",
              "    </tr>\n",
              "    <tr>\n",
              "      <th>3</th>\n",
              "      <td>1</td>\n",
              "      <td>14.37</td>\n",
              "      <td>1.95</td>\n",
              "      <td>2.50</td>\n",
              "      <td>16.8</td>\n",
              "      <td>113</td>\n",
              "      <td>3.85</td>\n",
              "      <td>3.49</td>\n",
              "      <td>0.24</td>\n",
              "      <td>2.18</td>\n",
              "      <td>7.80</td>\n",
              "      <td>0.86</td>\n",
              "      <td>3.45</td>\n",
              "      <td>1480</td>\n",
              "    </tr>\n",
              "    <tr>\n",
              "      <th>4</th>\n",
              "      <td>1</td>\n",
              "      <td>13.24</td>\n",
              "      <td>2.59</td>\n",
              "      <td>2.87</td>\n",
              "      <td>21.0</td>\n",
              "      <td>118</td>\n",
              "      <td>2.80</td>\n",
              "      <td>2.69</td>\n",
              "      <td>0.39</td>\n",
              "      <td>1.82</td>\n",
              "      <td>4.32</td>\n",
              "      <td>1.04</td>\n",
              "      <td>2.93</td>\n",
              "      <td>735</td>\n",
              "    </tr>\n",
              "  </tbody>\n",
              "</table>\n",
              "</div>"
            ],
            "text/plain": [
              "   Class  Alcohol  Malic_acid  ...   Hue  OD280OD315_of_diluted_wines  Proline\n",
              "0      1    14.23        1.71  ...  1.04                         3.92     1065\n",
              "1      1    13.20        1.78  ...  1.05                         3.40     1050\n",
              "2      1    13.16        2.36  ...  1.03                         3.17     1185\n",
              "3      1    14.37        1.95  ...  0.86                         3.45     1480\n",
              "4      1    13.24        2.59  ...  1.04                         2.93      735\n",
              "\n",
              "[5 rows x 14 columns]"
            ]
          },
          "metadata": {
            "tags": []
          },
          "execution_count": 79
        }
      ]
    },
    {
      "cell_type": "markdown",
      "metadata": {
        "colab_type": "text",
        "id": "K_cK1n1egcik"
      },
      "source": [
        "#### Creating pool"
      ]
    },
    {
      "cell_type": "code",
      "metadata": {
        "colab_type": "code",
        "outputId": "4c99f135-dee0-4dd3-bb38-2fcd5a894d94",
        "id": "aphHeJQigcil",
        "colab": {
          "base_uri": "https://localhost:8080/",
          "height": 34
        }
      },
      "source": [
        "y = train_df['Class']\n",
        "X = train_df.drop(columns='Class')\n",
        "y.unique()"
      ],
      "execution_count": 0,
      "outputs": [
        {
          "output_type": "execute_result",
          "data": {
            "text/plain": [
              "array([1, 2, 3])"
            ]
          },
          "metadata": {
            "tags": []
          },
          "execution_count": 80
        }
      ]
    },
    {
      "cell_type": "code",
      "metadata": {
        "colab_type": "code",
        "id": "mHri4tjqgciv",
        "colab": {}
      },
      "source": [
        "from sklearn.model_selection import train_test_split\n",
        "X_train, X_validation, y_train, y_validation = train_test_split(X, y, train_size=0.5, random_state=42)"
      ],
      "execution_count": 0,
      "outputs": []
    },
    {
      "cell_type": "code",
      "metadata": {
        "colab_type": "code",
        "id": "_Nz4OMFigciy",
        "colab": {}
      },
      "source": [
        "train_pool = Pool(X_train, y_train)\n",
        "validation_pool = Pool(X_validation, y_validation)"
      ],
      "execution_count": 0,
      "outputs": []
    },
    {
      "cell_type": "markdown",
      "metadata": {
        "colab_type": "text",
        "id": "P_DQ-nsjgci0"
      },
      "source": [
        "#### Training model"
      ]
    },
    {
      "cell_type": "code",
      "metadata": {
        "colab_type": "code",
        "outputId": "6accb4eb-5c33-4fd0-80ce-c776488d0cf5",
        "id": "wfIuw-4egci1",
        "colab": {
          "base_uri": "https://localhost:8080/",
          "height": 454
        }
      },
      "source": [
        "from catboost import CatBoostClassifier\n",
        "model = CatBoostClassifier(\n",
        "    iterations=20,\n",
        "    eval_metric='AUC',\n",
        "    custom_metric=['AUC:type=OneVsAll;hints=skip_train~false', 'Accuracy'],\n",
        "    # metric_period=10,\n",
        "    loss_function='MultiClass',\n",
        "    train_dir='model_dir',\n",
        "    random_seed=42)\n",
        "\n",
        "model.fit(\n",
        "    train_pool,\n",
        "    eval_set=validation_pool,\n",
        "    verbose=True, \n",
        ");"
      ],
      "execution_count": 0,
      "outputs": [
        {
          "output_type": "stream",
          "text": [
            "Learning rate set to 0.458482\n",
            "0:\ttest: 0.9222371\tbest: 0.9222371 (0)\ttotal: 3.39ms\tremaining: 64.5ms\n",
            "1:\ttest: 0.9777926\tbest: 0.9777926 (1)\ttotal: 6.04ms\tremaining: 54.4ms\n",
            "2:\ttest: 0.9846999\tbest: 0.9846999 (2)\ttotal: 8.45ms\tremaining: 47.9ms\n",
            "3:\ttest: 0.9808378\tbest: 0.9846999 (2)\ttotal: 10.7ms\tremaining: 42.7ms\n",
            "4:\ttest: 0.9787582\tbest: 0.9846999 (2)\ttotal: 13.2ms\tremaining: 39.5ms\n",
            "5:\ttest: 0.9763815\tbest: 0.9846999 (2)\ttotal: 15.5ms\tremaining: 36.1ms\n",
            "6:\ttest: 0.9786096\tbest: 0.9846999 (2)\ttotal: 17.9ms\tremaining: 33.3ms\n",
            "7:\ttest: 0.9786096\tbest: 0.9846999 (2)\ttotal: 20.4ms\tremaining: 30.6ms\n",
            "8:\ttest: 0.9839572\tbest: 0.9846999 (2)\ttotal: 22.6ms\tremaining: 27.6ms\n",
            "9:\ttest: 0.9839572\tbest: 0.9846999 (2)\ttotal: 25ms\tremaining: 25ms\n",
            "10:\ttest: 0.9839572\tbest: 0.9846999 (2)\ttotal: 27.5ms\tremaining: 22.5ms\n",
            "11:\ttest: 0.9848485\tbest: 0.9848485 (11)\ttotal: 30ms\tremaining: 20ms\n",
            "12:\ttest: 0.9854427\tbest: 0.9854427 (12)\ttotal: 32.4ms\tremaining: 17.4ms\n",
            "13:\ttest: 0.9854427\tbest: 0.9854427 (12)\ttotal: 35.3ms\tremaining: 15.1ms\n",
            "14:\ttest: 0.9857398\tbest: 0.9857398 (14)\ttotal: 38.4ms\tremaining: 12.8ms\n",
            "15:\ttest: 0.9869281\tbest: 0.9869281 (15)\ttotal: 41.1ms\tremaining: 10.3ms\n",
            "16:\ttest: 0.9875223\tbest: 0.9875223 (16)\ttotal: 43.6ms\tremaining: 7.69ms\n",
            "17:\ttest: 0.9884135\tbest: 0.9884135 (17)\ttotal: 45.9ms\tremaining: 5.1ms\n",
            "18:\ttest: 0.9878194\tbest: 0.9884135 (17)\ttotal: 48.3ms\tremaining: 2.54ms\n",
            "19:\ttest: 0.9881165\tbest: 0.9884135 (17)\ttotal: 50.6ms\tremaining: 0us\n",
            "\n",
            "bestTest = 0.9884135472\n",
            "bestIteration = 17\n",
            "\n",
            "Shrink model to first 18 iterations.\n"
          ],
          "name": "stdout"
        }
      ]
    },
    {
      "cell_type": "markdown",
      "metadata": {
        "id": "CuoU4zXOAwjj",
        "colab_type": "text"
      },
      "source": [
        "Model is shrinked to the first best $AUC\\mu$ value (17 iteration)  "
      ]
    },
    {
      "cell_type": "markdown",
      "metadata": {
        "id": "3c-zedeC97gb",
        "colab_type": "text"
      },
      "source": [
        "#### Calculating metrics"
      ]
    },
    {
      "cell_type": "code",
      "metadata": {
        "id": "juhEuO8lljMJ",
        "colab_type": "code",
        "colab": {}
      },
      "source": [
        "AUCs = model.eval_metrics(validation_pool, metrics=['AUC:type=Mu', 'AUC:type=OneVsAll'])"
      ],
      "execution_count": 0,
      "outputs": []
    },
    {
      "cell_type": "code",
      "metadata": {
        "id": "k6U6kaQ9l4dW",
        "colab_type": "code",
        "outputId": "97f3910a-2524-459d-910b-5ca7babad5fe",
        "colab": {
          "base_uri": "https://localhost:8080/",
          "height": 101
        }
      },
      "source": [
        "print('AUC:type=OneVsAll:')\n",
        "print('AUC:class=0 = {0:.4f}, AUC:class=1 = {1:.4f}, AUC:class=2 = {2:.4f}'.format(AUCs['AUC:class=0'][-1], AUCs['AUC:class=1'][-1], AUCs['AUC:class=2'][-1]))\n",
        "\n",
        "print('\\nAUC:type=Mu:')\n",
        "print('AUC:type=Mu = {0:.5f}'.format(AUCs['AUC:type=Mu'][-1]))"
      ],
      "execution_count": 0,
      "outputs": [
        {
          "output_type": "stream",
          "text": [
            "AUC:type=OneVsAll:\n",
            "AUC:class=0 = 0.9827, AUC:class=1 = 0.9690, AUC:class=2 = 1.0000\n",
            "\n",
            "AUC:type=Mu:\n",
            "AUC:type=Mu = 0.98841\n"
          ],
          "name": "stdout"
        }
      ]
    },
    {
      "cell_type": "markdown",
      "metadata": {
        "id": "8Rl9rEsi9pAJ",
        "colab_type": "text"
      },
      "source": [
        "Using weigths and misclassification cost matrix:"
      ]
    },
    {
      "cell_type": "code",
      "metadata": {
        "id": "45iYcMbi-NVc",
        "colab_type": "code",
        "colab": {}
      },
      "source": [
        "weights = np.random.rand(X_validation.shape[0])\n",
        "weights[10] = 100\n",
        "validation_pool = Pool(X_validation, y_validation, weight=weights)"
      ],
      "execution_count": 0,
      "outputs": []
    },
    {
      "cell_type": "code",
      "metadata": {
        "id": "5fC8mYED-Yr5",
        "colab_type": "code",
        "colab": {}
      },
      "source": [
        "AUC = model.eval_metrics(validation_pool, metrics=['AUC:type=Mu', 'AUC:type=Mu;use_weights=True', 'AUC:type=Mu;misclass_cost_matrix=0/0.5/2/1/0/1/0/0.5/0;use_weights=True'])"
      ],
      "execution_count": 0,
      "outputs": []
    },
    {
      "cell_type": "code",
      "metadata": {
        "id": "T7JGEog9_GCj",
        "colab_type": "code",
        "outputId": "bea6a119-1983-44b7-eb21-c52e5381374a",
        "colab": {
          "base_uri": "https://localhost:8080/",
          "height": 67
        }
      },
      "source": [
        "print('AUC:type=Mu = {0:.5f}'.format(AUC['AUC:type=Mu'][-1]))\n",
        "print('AUC:type=Mu;use_weights=True = {0:.5f}'.format(AUC['AUC:use_weights=true;type=Mu'][-1]))\n",
        "print('AUC:use_weights=true;type=Mu;misclass_cost_matrix = {0:.5f}'.format(AUC['AUC:use_weights=true;type=Mu;misclass_cost_matrix=0/0.5/2/1/0/1/0/0.5/0'][-1]))"
      ],
      "execution_count": 0,
      "outputs": [
        {
          "output_type": "stream",
          "text": [
            "AUC:type=Mu = 0.98841\n",
            "AUC:type=Mu;use_weights=True = 0.94668\n",
            "AUC:use_weights=true;type=Mu;misclass_cost_matrix = 0.96956\n"
          ],
          "name": "stdout"
        }
      ]
    }
  ]
}