{
 "cells": [
  {
   "cell_type": "markdown",
   "id": "646b7c02",
   "metadata": {},
   "source": [
    "# Multi Label Binary Classification with CatBoost"
   ]
  },
  {
   "cell_type": "markdown",
   "id": "21e58119",
   "metadata": {},
   "source": [
    "CatBoost since the 1.0.0 version supports multilabel binary classification. A target for this mode is a matrix of size $NxK$ where $N$ is the number of objects and $K$ is the number of classes (a.k.a. labels)."
   ]
  },
  {
   "cell_type": "markdown",
   "id": "9c9859fd",
   "metadata": {},
   "source": [
    "There are two loss functions for multilabel binary classification - $MultiLogloss$ and $MultiCrossEntropy$."
   ]
  },
  {
   "cell_type": "markdown",
   "id": "8f764c9d",
   "metadata": {},
   "source": [
    "For $MultiLogloss$ loss function $y_{ik}$ should be in $\\{0, 1\\}$:\n",
    "$$\n",
    "Y = \\begin{pmatrix}\n",
    "1 & 0 & 0 & ... & 1 & 1\\\\\n",
    "0 & 1 & 0 & ... & 1 & 0\\\\\n",
    "... & ... & ... & y_{ik} & ... & ...\\\\\n",
    "1 & 0 & 1 & ... & 0 & 1\\\\\n",
    "\\end{pmatrix}_{NxK}\n",
    "$$"
   ]
  },
  {
   "cell_type": "markdown",
   "id": "db442169",
   "metadata": {},
   "source": [
    "For $MultiCrossEntropy$ loss function $y_{ik}$ should be in $[0, 1]$:\n",
    "$$\n",
    "Y = \\begin{pmatrix}\n",
    "0.2 & 0.8 & 0.0 & ... & 0.7 & 0.3\\\\\n",
    "0 & 0.6 & 0.3 & ... & 0.9 & 0.0\\\\\n",
    "... & ... & ... & y_{ik} & ... & ...\\\\\n",
    "1.0 & 0.0 & 0.3 & ... & 0.3 & 0.8\\\\\n",
    "\\end{pmatrix}_{NxK}\n",
    "$$"
   ]
  },
  {
   "cell_type": "markdown",
   "id": "9ac7dde7",
   "metadata": {},
   "source": [
    "The formula is the same for both loss functions:\n",
    "$$\n",
    "MultiLogloss = MultiCrossEntropy = \\displaystyle\\frac{-\\sum\\limits_{k=1}^{K} \\sum\\limits_{i=1}^{N} w_{i} (y_{ik} \\log p_{ik} + (1 - t_{ik}) \\log (1 - p_{ik}) )}{K\\sum\\limits_{i=1}^{N}w_{i}}{ ,}\n",
    "$$\n",
    "\n",
    "$$\n",
    "  \\mbox{where }p_{ik} = \\sigma(a_{ik}) = \\frac{e^{a_{ik}}}{1 + e^{a_{ik}}}{ ,}\n",
    "$$\n",
    "\n",
    "$$\n",
    " a_{ik} \\mbox{- raw value of model for } i\\mbox{-th object and } j\\mbox{-th class}\n",
    "$$"
   ]
  },
  {
   "cell_type": "markdown",
   "id": "ac7af97e",
   "metadata": {},
   "source": [
    "Let's try multilabel classification mode on synthetic dataset.  "
   ]
  },
  {
   "cell_type": "code",
   "execution_count": 1,
   "id": "cb505a31",
   "metadata": {},
   "outputs": [],
   "source": [
    "# !pip install catboost\n",
    "# !pip install sklearn"
   ]
  },
  {
   "cell_type": "code",
   "execution_count": 2,
   "id": "3d6d256c",
   "metadata": {},
   "outputs": [],
   "source": [
    "from catboost import CatBoostClassifier, Pool\n",
    "from catboost.utils import eval_metric\n",
    "from sklearn.datasets import make_multilabel_classification\n",
    "from sklearn.model_selection import train_test_split"
   ]
  },
  {
   "cell_type": "markdown",
   "id": "bc16a780",
   "metadata": {},
   "source": [
    "#### Generate synthetic dataset"
   ]
  },
  {
   "cell_type": "code",
   "execution_count": 3,
   "id": "9dab0751",
   "metadata": {},
   "outputs": [],
   "source": [
    "X, Y = make_multilabel_classification(n_samples=500, n_features=20, n_classes=5, random_state=0)\n",
    "X_train, X_test, Y_train, Y_test = train_test_split(X, Y)\n",
    "train_pool = Pool(X_train, Y_train)\n",
    "test_pool = Pool(X_test, Y_test)"
   ]
  },
  {
   "cell_type": "markdown",
   "id": "6c17142e",
   "metadata": {},
   "source": [
    "#### Train model"
   ]
  },
  {
   "cell_type": "code",
   "execution_count": 4,
   "id": "1652c6fc",
   "metadata": {},
   "outputs": [
    {
     "data": {
      "application/vnd.jupyter.widget-view+json": {
       "model_id": "8e8c207d4e0f43bf8a2a6d348120f9ba",
       "version_major": 2,
       "version_minor": 0
      },
      "text/plain": [
       "MetricVisualizer(layout=Layout(align_self='stretch', height='500px'))"
      ]
     },
     "metadata": {},
     "output_type": "display_data"
    },
    {
     "name": "stdout",
     "output_type": "stream",
     "text": [
      "Learning rate set to 0.033623\n",
      "0:\tlearn: 0.2778667\ttest: 0.3328000\tbest: 0.3328000 (0)\ttotal: 51ms\tremaining: 25.4s\n",
      "50:\tlearn: 0.0917333\ttest: 0.2496000\tbest: 0.2496000 (50)\ttotal: 135ms\tremaining: 1.19s\n",
      "100:\tlearn: 0.0432000\ttest: 0.2304000\tbest: 0.2304000 (100)\ttotal: 217ms\tremaining: 857ms\n",
      "150:\tlearn: 0.0160000\ttest: 0.2352000\tbest: 0.2304000 (100)\ttotal: 301ms\tremaining: 695ms\n",
      "200:\tlearn: 0.0058667\ttest: 0.2352000\tbest: 0.2304000 (100)\ttotal: 390ms\tremaining: 580ms\n",
      "250:\tlearn: 0.0016000\ttest: 0.2320000\tbest: 0.2304000 (100)\ttotal: 480ms\tremaining: 476ms\n",
      "300:\tlearn: 0.0000000\ttest: 0.2384000\tbest: 0.2304000 (100)\ttotal: 572ms\tremaining: 378ms\n",
      "350:\tlearn: 0.0000000\ttest: 0.2320000\tbest: 0.2304000 (100)\ttotal: 663ms\tremaining: 281ms\n",
      "400:\tlearn: 0.0000000\ttest: 0.2368000\tbest: 0.2304000 (100)\ttotal: 756ms\tremaining: 187ms\n",
      "450:\tlearn: 0.0000000\ttest: 0.2336000\tbest: 0.2304000 (100)\ttotal: 851ms\tremaining: 92.5ms\n",
      "499:\tlearn: 0.0000000\ttest: 0.2384000\tbest: 0.2304000 (100)\ttotal: 947ms\tremaining: 0us\n",
      "\n",
      "bestTest = 0.2304\n",
      "bestIteration = 100\n",
      "\n",
      "Shrink model to first 101 iterations.\n"
     ]
    },
    {
     "data": {
      "text/plain": [
       "<catboost.core.CatBoostClassifier at 0x7f14ab052b50>"
      ]
     },
     "execution_count": 4,
     "metadata": {},
     "output_type": "execute_result"
    }
   ],
   "source": [
    "clf = CatBoostClassifier(\n",
    "    loss_function='MultiLogloss',\n",
    "    eval_metric='HammingLoss',\n",
    "    iterations=500,\n",
    "    class_names=['A', 'B', 'C', 'D', 'E']\n",
    ")\n",
    "clf.fit(train_pool, eval_set=test_pool, metric_period=10, plot=True, verbose=50)"
   ]
  },
  {
   "cell_type": "markdown",
   "id": "ec8586d7",
   "metadata": {},
   "source": [
    "#### Predict for test data"
   ]
  },
  {
   "cell_type": "code",
   "execution_count": 5,
   "id": "3b5516d3",
   "metadata": {},
   "outputs": [],
   "source": [
    "test_predict = clf.predict(X_test)"
   ]
  },
  {
   "cell_type": "markdown",
   "id": "1fe47150",
   "metadata": {},
   "source": [
    "## Metrics"
   ]
  },
  {
   "cell_type": "markdown",
   "id": "ed6dfa41",
   "metadata": {},
   "source": [
    "**Common deifinitions:**\n",
    "\n",
    "$N$ - the number of objects\n",
    "\n",
    "$K$ - the number of labels (classes)\n",
    "\n",
    "$y_{ik} \\in {0, 1}$ - the target value of k-th label for i-th object\n",
    "\n",
    "$c_{ik} \\in {0, 1}$ - the predicted value of k-th label for i-th object\n",
    "\n",
    "$p_{ik} \\in [0, 1]$ - the predicted probability of k-th label for i-th object"
   ]
  },
  {
   "cell_type": "markdown",
   "id": "fedc6fbb",
   "metadata": {},
   "source": [
    "### Accuracy"
   ]
  },
  {
   "cell_type": "markdown",
   "id": "5245ad98",
   "metadata": {},
   "source": [
    "Classic accuracy for multilabel classifications for each object compares whole target vector with whole predicted vector:\n",
    "$$Accuracy_i = \n",
    "\\begin{equation}\n",
    "    \\begin{cases}\n",
    "      1, \\mbox{if }\\forall k: c_{ik} = y_{ik} \\\\\n",
    "      0, \\mbox{otherwise}\n",
    "    \\end{cases}\\,\n",
    "\\end{equation}\n",
    "$$\n",
    "\n",
    "And total accuracy is an average accuracy for all objects:\n",
    "$$Accuracy = \\frac{\\sum\\limits_{i=1}^{N} w_i Accuracy_i}{\\sum\\limits_{i=1}^{N} w_i} $$"
   ]
  },
  {
   "cell_type": "code",
   "execution_count": 8,
   "id": "f0a7a932",
   "metadata": {},
   "outputs": [
    {
     "name": "stdout",
     "output_type": "stream",
     "text": [
      "Accuracy: 0.368\n"
     ]
    }
   ],
   "source": [
    "accuracy = eval_metric(Y_test, test_predict, 'Accuracy')[0]\n",
    "print(f'Accuracy: {accuracy}')"
   ]
  },
  {
   "cell_type": "markdown",
   "id": "be531af2",
   "metadata": {},
   "source": [
    "### Accuracy per class"
   ]
  },
  {
   "cell_type": "markdown",
   "id": "e756cfea",
   "metadata": {},
   "source": [
    "You may want to calculate accuracy for each class individually, then you should specify `type` parameter for Accuracy metric like this:"
   ]
  },
  {
   "cell_type": "code",
   "execution_count": 7,
   "id": "7eddc718",
   "metadata": {},
   "outputs": [
    {
     "name": "stdout",
     "output_type": "stream",
     "text": [
      "Accuracy for class A: 0.776\n",
      "Accuracy for class B: 0.712\n",
      "Accuracy for class C: 0.744\n",
      "Accuracy for class D: 0.776\n",
      "Accuracy for class E: 0.84\n"
     ]
    }
   ],
   "source": [
    "accuracy_per_class = eval_metric(Y_test, test_predict, 'Accuracy:type=PerClass')\n",
    "for cls, value in zip(clf.classes_, accuracy_per_class):\n",
    "    print(f'Accuracy for class {cls}: {value}')"
   ]
  },
  {
   "cell_type": "markdown",
   "id": "70d734f4",
   "metadata": {},
   "source": [
    "Accuracy per class is usually better because it more sensible for model changes. But we can't use it as `eval_metric` for early stopping and best model selection, because it returns several values.\n",
    "Instead of accuracy per class we can use $HammingLoss$."
   ]
  },
  {
   "cell_type": "markdown",
   "id": "50022327",
   "metadata": {},
   "source": [
    "### HammingLoss"
   ]
  },
  {
   "cell_type": "markdown",
   "id": "0818864d",
   "metadata": {},
   "source": [
    "Essentially $HammingLoss$ is a mean accuracy per class subtracted from $1$. So the lower value of HammingLoss is better. "
   ]
  },
  {
   "cell_type": "markdown",
   "id": "937e9503",
   "metadata": {},
   "source": [
    "$$\n",
    "HammingLoss = \\frac{\\sum\\limits_{i=1}^{N} \\sum\\limits_{j=1}^{K} I(c_{ik}, y_{ik})}{NK}\n",
    "$$\n",
    "\n",
    "$$\n",
    "\\mbox{where } I(c, y) = \n",
    "\\begin{equation}\n",
    "    \\begin{cases}\n",
    "      1, \\mbox{if } c = y \\\\\n",
    "      0, \\mbox{otherwise}\n",
    "    \\end{cases}\\,\n",
    "\\end{equation}\n",
    "$$"
   ]
  },
  {
   "cell_type": "code",
   "execution_count": 9,
   "id": "f6ab8941",
   "metadata": {},
   "outputs": [
    {
     "name": "stdout",
     "output_type": "stream",
     "text": [
      "HammingLoss: 0.2304\n",
      "MeanAccuracyPerClass: 0.7696\n",
      "HammingLoss + MeanAccuracyPerClass = 1.0\n"
     ]
    }
   ],
   "source": [
    "hamming = eval_metric(Y_test, test_predict, 'HammingLoss')[0]\n",
    "print(f'HammingLoss: {hamming:.4f}')\n",
    "mean_accuracy_per_class = sum(accuracy_per_class) / len(accuracy_per_class)\n",
    "print(f'MeanAccuracyPerClass: {mean_accuracy_per_class:.4f}')\n",
    "print(f'HammingLoss + MeanAccuracyPerClass = {hamming + mean_accuracy_per_class}')"
   ]
  },
  {
   "cell_type": "markdown",
   "id": "4363aea1",
   "metadata": {},
   "source": [
    "### Precision, Recall, F1"
   ]
  },
  {
   "cell_type": "markdown",
   "id": "48cded4b",
   "metadata": {},
   "source": [
    "These metrics are calculated for each class individually:"
   ]
  },
  {
   "cell_type": "code",
   "execution_count": 10,
   "id": "b090dd91",
   "metadata": {},
   "outputs": [
    {
     "name": "stdout",
     "output_type": "stream",
     "text": [
      "Precision\n",
      "class=A: 0.8333\n",
      "class=B: 0.6066\n",
      "class=C: 0.7826\n",
      "class=D: 0.8235\n",
      "class=E: 0.9655\n",
      "\n",
      "Recall\n",
      "class=A: 0.3750\n",
      "class=B: 0.7551\n",
      "class=C: 0.4000\n",
      "class=D: 0.5600\n",
      "class=E: 0.5957\n",
      "\n",
      "F1\n",
      "class=A: 0.5172\n",
      "class=B: 0.6727\n",
      "class=C: 0.5294\n",
      "class=D: 0.6667\n",
      "class=E: 0.7368\n",
      "\n"
     ]
    }
   ],
   "source": [
    "for metric in ('Precision', 'Recall', 'F1'):\n",
    "    print(metric)\n",
    "    values = eval_metric(Y_test, test_predict, metric)\n",
    "    for cls, value in zip(clf.classes_, values):\n",
    "        print(f'class={cls}: {value:.4f}')\n",
    "    print()"
   ]
  },
  {
   "cell_type": "code",
   "execution_count": null,
   "id": "2ed7de41",
   "metadata": {},
   "outputs": [],
   "source": []
  }
 ],
 "metadata": {
  "kernelspec": {
   "display_name": "Python 3 (ipykernel)",
   "language": "python",
   "name": "python3"
  },
  "language_info": {
   "codemirror_mode": {
    "name": "ipython",
    "version": 3
   },
   "file_extension": ".py",
   "mimetype": "text/x-python",
   "name": "python",
   "nbconvert_exporter": "python",
   "pygments_lexer": "ipython3",
   "version": "3.9.5"
  },
  "widgets": {
   "application/vnd.jupyter.widget-state+json": {
    "state": {
     "07dcf46e51384cf0b28c1a1802e38011": {
      "model_module": "@jupyter-widgets/base",
      "model_module_version": "1.2.0",
      "model_name": "LayoutModel",
      "state": {
       "align_self": "stretch",
       "height": "500px"
      }
     },
     "13bcbf129aa34f0cae64258f1bfcd6bb": {
      "model_module": "@jupyter-widgets/base",
      "model_module_version": "1.2.0",
      "model_name": "LayoutModel",
      "state": {
       "align_self": "stretch",
       "height": "500px"
      }
     },
     "1e4efe93160646bbad7c6debb6ead35a": {
      "model_module": "catboost-widget",
      "model_module_version": "^1.0.0",
      "model_name": "CatboostWidgetModel",
      "state": {
       "_model_module_version": "^1.0.0",
       "_view_module_version": "^1.0.0",
       "data": {
        "catboost_info": {
         "content": {
          "data": {
           "iterations": [
            {
             "iteration": 0,
             "learn": [
              0.2773333333,
              0.6819638889
             ],
             "passed_time": 0.002232743171,
             "remaining_time": 1.114138842,
             "test": [
              0.344,
              0.6864765719
             ]
            },
            {
             "iteration": 50,
             "learn": [
              0.08853333333,
              0.4073145517
             ],
             "passed_time": 0.1016767978,
             "remaining_time": 0.8951545531,
             "test": [
              0.2528,
              0.5422049135
             ]
            },
            {
             "iteration": 100,
             "learn": [
              0.03733333333,
              0.2991805437
             ],
             "passed_time": 0.2020747044,
             "remaining_time": 0.7982951195,
             "test": [
              0.2368,
              0.4993884612
             ]
            },
            {
             "iteration": 150,
             "learn": [
              0.0192,
              0.232564523
             ],
             "passed_time": 0.3012782295,
             "remaining_time": 0.696331802,
             "test": [
              0.2336,
              0.4815211433
             ]
            },
            {
             "iteration": 200,
             "learn": [
              0.01173333333,
              0.1852811102
             ],
             "passed_time": 0.4019318033,
             "remaining_time": 0.5978985531,
             "test": [
              0.232,
              0.4691923427
             ]
            },
            {
             "iteration": 250,
             "learn": [
              0.002666666667,
              0.1456202343
             ],
             "passed_time": 0.5048820355,
             "remaining_time": 0.5008590711,
             "test": [
              0.2272,
              0.4638361532
             ]
            },
            {
             "iteration": 300,
             "learn": [
              0.001066666667,
              0.1184501606
             ],
             "passed_time": 0.6089009532,
             "remaining_time": 0.4025624242,
             "test": [
              0.2272,
              0.4645103213
             ]
            },
            {
             "iteration": 350,
             "learn": [
              0.0005333333333,
              0.09565169483
             ],
             "passed_time": 0.7123862299,
             "remaining_time": 0.3024089694,
             "test": [
              0.2272,
              0.4609920827
             ]
            },
            {
             "iteration": 400,
             "learn": [
              0,
              0.07844645164
             ],
             "passed_time": 0.8202194521,
             "remaining_time": 0.2024980692,
             "test": [
              0.2256,
              0.4639350989
             ]
            },
            {
             "iteration": 450,
             "learn": [
              0,
              0.06577003947
             ],
             "passed_time": 0.9254864646,
             "remaining_time": 0.1005517445,
             "test": [
              0.2208,
              0.4663074431
             ]
            },
            {
             "iteration": 499,
             "learn": [
              0,
              0.05613081252
             ],
             "passed_time": 1.028452802,
             "remaining_time": 0,
             "test": [
              0.2256,
              0.468089423
             ]
            }
           ],
           "meta": {
            "iteration_count": 500,
            "launch_mode": "Train",
            "learn_metrics": [
             {
              "best_value": "Min",
              "name": "HammingLoss"
             },
             {
              "best_value": "Min",
              "name": "MultiLogloss"
             }
            ],
            "learn_sets": [
             "learn"
            ],
            "name": "experiment",
            "parameters": "",
            "test_metrics": [
             {
              "best_value": "Min",
              "name": "HammingLoss"
             },
             {
              "best_value": "Min",
              "name": "MultiLogloss"
             }
            ],
            "test_sets": [
             "test"
            ]
           }
          },
          "passed_iterations": 499,
          "total_iterations": 500
         },
         "name": "catboost_info",
         "path": "catboost_info"
        }
       },
       "layout": "IPY_MODEL_9bd07b817b6549d6abbb582edf4b9d50"
      }
     },
     "404c320d1d244bfaaced360c4e95a111": {
      "model_module": "@jupyter-widgets/base",
      "model_module_version": "1.2.0",
      "model_name": "LayoutModel",
      "state": {
       "align_self": "stretch",
       "height": "500px"
      }
     },
     "42c6790ac1764804855ec042666c39a2": {
      "model_module": "catboost-widget",
      "model_module_version": "^1.0.0",
      "model_name": "CatboostWidgetModel",
      "state": {
       "_model_module_version": "^1.0.0",
       "_view_module_version": "^1.0.0",
       "data": {
        "catboost_info": {
         "content": {
          "data": {
           "iterations": [
            {
             "iteration": 0,
             "learn": [
              0.2773333333,
              0.6819638889
             ],
             "passed_time": 0.003552610858,
             "remaining_time": 1.772752818,
             "test": [
              0.344,
              0.6864765719
             ]
            },
            {
             "iteration": 10,
             "learn": [
              0.1578666667,
              0.5946150295
             ],
             "passed_time": 0.03052784416,
             "remaining_time": 1.357101436,
             "test": [
              0.2992,
              0.6361408142
             ]
            },
            {
             "iteration": 20,
             "learn": [
              0.1354666667,
              0.5304873203
             ],
             "passed_time": 0.05775413657,
             "remaining_time": 1.317344353,
             "test": [
              0.2704,
              0.5992994213
             ]
            },
            {
             "iteration": 30,
             "learn": [
              0.1130666667,
              0.4791730478
             ],
             "passed_time": 0.09077254275,
             "remaining_time": 1.373300727,
             "test": [
              0.2576,
              0.5724926316
             ]
            },
            {
             "iteration": 40,
             "learn": [
              0.1002666667,
              0.441754772
             ],
             "passed_time": 0.1198170751,
             "remaining_time": 1.341366768,
             "test": [
              0.2656,
              0.5547267526
             ]
            },
            {
             "iteration": 50,
             "learn": [
              0.08853333333,
              0.4073145517
             ],
             "passed_time": 0.1432433461,
             "remaining_time": 1.261103185,
             "test": [
              0.2528,
              0.5422049135
             ]
            },
            {
             "iteration": 60,
             "learn": [
              0.07253333333,
              0.380462574
             ],
             "passed_time": 0.1711662178,
             "remaining_time": 1.231835567,
             "test": [
              0.2464,
              0.5306588046
             ]
            },
            {
             "iteration": 70,
             "learn": [
              0.06506666667,
              0.355915903
             ],
             "passed_time": 0.2030942264,
             "remaining_time": 1.227146805,
             "test": [
              0.2528,
              0.5210598608
             ]
            },
            {
             "iteration": 80,
             "learn": [
              0.05066666667,
              0.3356506476
             ],
             "passed_time": 0.2279830212,
             "remaining_time": 1.179319579,
             "test": [
              0.24,
              0.5121646478
             ]
            },
            {
             "iteration": 90,
             "learn": [
              0.0448,
              0.3156901765
             ],
             "passed_time": 0.2542390382,
             "remaining_time": 1.142678754,
             "test": [
              0.2384,
              0.5051036744
             ]
            },
            {
             "iteration": 100,
             "learn": [
              0.03733333333,
              0.2991805437
             ],
             "passed_time": 0.2824166586,
             "remaining_time": 1.115685612,
             "test": [
              0.2368,
              0.4993884612
             ]
            },
            {
             "iteration": 110,
             "learn": [
              0.03466666667,
              0.2834008246
             ],
             "passed_time": 0.3074743885,
             "remaining_time": 1.07754538,
             "test": [
              0.2384,
              0.4952916811
             ]
            },
            {
             "iteration": 120,
             "learn": [
              0.0304,
              0.2698132191
             ],
             "passed_time": 0.332112972,
             "remaining_time": 1.040254681,
             "test": [
              0.2368,
              0.4913668018
             ]
            },
            {
             "iteration": 130,
             "learn": [
              0.0256,
              0.2563700253
             ],
             "passed_time": 0.3528558791,
             "remaining_time": 0.9939222855,
             "test": [
              0.2352,
              0.4876878111
             ]
            },
            {
             "iteration": 140,
             "learn": [
              0.02293333333,
              0.2439729567
             ],
             "passed_time": 0.3753839531,
             "remaining_time": 0.9557648167,
             "test": [
              0.2352,
              0.4836837155
             ]
            },
            {
             "iteration": 150,
             "learn": [
              0.0192,
              0.232564523
             ],
             "passed_time": 0.4016648486,
             "remaining_time": 0.9283512064,
             "test": [
              0.2336,
              0.4815211433
             ]
            },
            {
             "iteration": 160,
             "learn": [
              0.01546666667,
              0.2226749882
             ],
             "passed_time": 0.4297920474,
             "remaining_time": 0.9049658637,
             "test": [
              0.2384,
              0.4764760347
             ]
            },
            {
             "iteration": 170,
             "learn": [
              0.01546666667,
              0.2128314951
             ],
             "passed_time": 0.4539289078,
             "remaining_time": 0.8733486003,
             "test": [
              0.2368,
              0.4752202441
             ]
            },
            {
             "iteration": 180,
             "learn": [
              0.01386666667,
              0.2021416034
             ],
             "passed_time": 0.4816947323,
             "remaining_time": 0.8489536994,
             "test": [
              0.2336,
              0.4728755126
             ]
            },
            {
             "iteration": 190,
             "learn": [
              0.01386666667,
              0.1946291165
             ],
             "passed_time": 0.5101609688,
             "remaining_time": 0.8253389496,
             "test": [
              0.2304,
              0.4708116677
             ]
            },
            {
             "iteration": 200,
             "learn": [
              0.01173333333,
              0.1852811102
             ],
             "passed_time": 0.5345936681,
             "remaining_time": 0.7952413272,
             "test": [
              0.232,
              0.4691923427
             ]
            },
            {
             "iteration": 210,
             "learn": [
              0.01013333333,
              0.1770495981
             ],
             "passed_time": 0.5622461408,
             "remaining_time": 0.7700906858,
             "test": [
              0.2352,
              0.467785653
             ]
            },
            {
             "iteration": 220,
             "learn": [
              0.007466666667,
              0.1685295998
             ],
             "passed_time": 0.5867651778,
             "remaining_time": 0.7407578489,
             "test": [
              0.2336,
              0.4668820995
             ]
            },
            {
             "iteration": 230,
             "learn": [
              0.005333333333,
              0.1597919127
             ],
             "passed_time": 0.6157417548,
             "remaining_time": 0.7170326063,
             "test": [
              0.2288,
              0.4667799242
             ]
            },
            {
             "iteration": 240,
             "learn": [
              0.003733333333,
              0.1519751833
             ],
             "passed_time": 0.6446362766,
             "remaining_time": 0.6927833844,
             "test": [
              0.2288,
              0.464581952
             ]
            },
            {
             "iteration": 250,
             "learn": [
              0.002666666667,
              0.1456202343
             ],
             "passed_time": 0.7002643805,
             "remaining_time": 0.6946845846,
             "test": [
              0.2272,
              0.4638361532
             ]
            },
            {
             "iteration": 260,
             "learn": [
              0.002133333333,
              0.1395507531
             ],
             "passed_time": 0.7529040961,
             "remaining_time": 0.6894409156,
             "test": [
              0.2272,
              0.4629756248
             ]
            },
            {
             "iteration": 270,
             "learn": [
              0.002133333333,
              0.133783079
             ],
             "passed_time": 0.8422233273,
             "remaining_time": 0.7116942507,
             "test": [
              0.224,
              0.4632026935
             ]
            },
            {
             "iteration": 280,
             "learn": [
              0.002133333333,
              0.1283802408
             ],
             "passed_time": 0.882209898,
             "remaining_time": 0.6875586037,
             "test": [
              0.2288,
              0.463965094
             ]
            },
            {
             "iteration": 290,
             "learn": [
              0.002133333333,
              0.1234040355
             ],
             "passed_time": 0.9068095792,
             "remaining_time": 0.6512824813,
             "test": [
              0.2224,
              0.4640969474
             ]
            },
            {
             "iteration": 300,
             "learn": [
              0.001066666667,
              0.1184501606
             ],
             "passed_time": 0.934063955,
             "remaining_time": 0.6175372991,
             "test": [
              0.2272,
              0.4645103213
             ]
            },
            {
             "iteration": 310,
             "learn": [
              0.0005333333333,
              0.1124916889
             ],
             "passed_time": 0.9582777719,
             "remaining_time": 0.5823617328,
             "test": [
              0.2304,
              0.4624598836
             ]
            },
            {
             "iteration": 320,
             "learn": [
              0.0005333333333,
              0.1082899731
             ],
             "passed_time": 0.985614053,
             "remaining_time": 0.5496103286,
             "test": [
              0.2288,
              0.4617169615
             ]
            },
            {
             "iteration": 330,
             "learn": [
              0.0005333333333,
              0.1039949634
             ],
             "passed_time": 1.011314208,
             "remaining_time": 0.5163507587,
             "test": [
              0.2272,
              0.4615457777
             ]
            },
            {
             "iteration": 340,
             "learn": [
              0.0005333333333,
              0.09985940187
             ],
             "passed_time": 1.039827885,
             "remaining_time": 0.4848464331,
             "test": [
              0.2256,
              0.4612445679
             ]
            },
            {
             "iteration": 350,
             "learn": [
              0.0005333333333,
              0.09565169483
             ],
             "passed_time": 1.065434162,
             "remaining_time": 0.4522783197,
             "test": [
              0.2272,
              0.4609920827
             ]
            },
            {
             "iteration": 360,
             "learn": [
              0.0005333333333,
              0.09155155507
             ],
             "passed_time": 1.09182394,
             "remaining_time": 0.4203975836,
             "test": [
              0.2288,
              0.4604461966
             ]
            },
            {
             "iteration": 370,
             "learn": [
              0,
              0.08780257892
             ],
             "passed_time": 1.125624943,
             "remaining_time": 0.3913898048,
             "test": [
              0.224,
              0.4609240237
             ]
            },
            {
             "iteration": 380,
             "learn": [
              0,
              0.08404576868
             ],
             "passed_time": 1.154623311,
             "remaining_time": 0.3606303779,
             "test": [
              0.2256,
              0.4627247789
             ]
            },
            {
             "iteration": 390,
             "learn": [
              0,
              0.0812876346
             ],
             "passed_time": 1.180714479,
             "remaining_time": 0.3291505835,
             "test": [
              0.2256,
              0.4634528307
             ]
            },
            {
             "iteration": 400,
             "learn": [
              0,
              0.07844645164
             ],
             "passed_time": 1.207796378,
             "remaining_time": 0.2981841433,
             "test": [
              0.2256,
              0.4639350989
             ]
            },
            {
             "iteration": 410,
             "learn": [
              0,
              0.07578980094
             ],
             "passed_time": 1.246040615,
             "remaining_time": 0.26982388,
             "test": [
              0.2224,
              0.4634189921
             ]
            },
            {
             "iteration": 420,
             "learn": [
              0,
              0.07331291368
             ],
             "passed_time": 1.269365421,
             "remaining_time": 0.2381944614,
             "test": [
              0.224,
              0.464336247
             ]
            },
            {
             "iteration": 430,
             "learn": [
              0,
              0.07061626235
             ],
             "passed_time": 1.292810382,
             "remaining_time": 0.2069696435,
             "test": [
              0.2224,
              0.4650140382
             ]
            },
            {
             "iteration": 440,
             "learn": [
              0,
              0.0683289396
             ],
             "passed_time": 1.323497719,
             "remaining_time": 0.1770665882,
             "test": [
              0.2192,
              0.4656816944
             ]
            },
            {
             "iteration": 450,
             "learn": [
              0,
              0.06577003947
             ],
             "passed_time": 1.402414476,
             "remaining_time": 0.1523687568,
             "test": [
              0.2208,
              0.4663074431
             ]
            },
            {
             "iteration": 460,
             "learn": [
              0,
              0.06351794489
             ],
             "passed_time": 1.456774601,
             "remaining_time": 0.1232412352,
             "test": [
              0.2208,
              0.4655884787
             ]
            },
            {
             "iteration": 470,
             "learn": [
              0,
              0.06133784345
             ],
             "passed_time": 1.490543123,
             "remaining_time": 0.09177441735,
             "test": [
              0.2224,
              0.4656641991
             ]
            },
            {
             "iteration": 480,
             "learn": [
              0,
              0.0598297354
             ],
             "passed_time": 1.526212046,
             "remaining_time": 0.06028696233,
             "test": [
              0.2224,
              0.4666044344
             ]
            },
            {
             "iteration": 490,
             "learn": [
              0,
              0.05781055742
             ],
             "passed_time": 1.561186562,
             "remaining_time": 0.02861645429,
             "test": [
              0.2224,
              0.4666416957
             ]
            },
            {
             "iteration": 499,
             "learn": [
              0,
              0.05613081252
             ],
             "passed_time": 1.588481967,
             "remaining_time": 0,
             "test": [
              0.2256,
              0.468089423
             ]
            }
           ],
           "meta": {
            "iteration_count": 500,
            "launch_mode": "Train",
            "learn_metrics": [
             {
              "best_value": "Min",
              "name": "HammingLoss"
             },
             {
              "best_value": "Min",
              "name": "MultiLogloss"
             }
            ],
            "learn_sets": [
             "learn"
            ],
            "name": "experiment",
            "parameters": "",
            "test_metrics": [
             {
              "best_value": "Min",
              "name": "HammingLoss"
             },
             {
              "best_value": "Min",
              "name": "MultiLogloss"
             }
            ],
            "test_sets": [
             "test"
            ]
           }
          },
          "passed_iterations": 499,
          "total_iterations": 500
         },
         "name": "catboost_info",
         "path": "catboost_info"
        }
       },
       "layout": "IPY_MODEL_07dcf46e51384cf0b28c1a1802e38011"
      }
     },
     "6b0778bb17f1446386de4ae6afbcce8c": {
      "model_module": "catboost-widget",
      "model_module_version": "^1.0.0",
      "model_name": "CatboostWidgetModel",
      "state": {
       "_model_module_version": "^1.0.0",
       "_view_module_version": "^1.0.0",
       "data": {
        "catboost_info": {
         "content": {
          "data": {
           "iterations": [
            {
             "iteration": 0,
             "learn": [
              0.2773333333,
              0.6819638889
             ],
             "passed_time": 0.006055240354,
             "remaining_time": 3.021564936,
             "test": [
              0.344,
              0.6864765719
             ]
            },
            {
             "iteration": 10,
             "learn": [
              0.1578666667,
              0.5946150295
             ],
             "passed_time": 0.06298571162,
             "remaining_time": 2.80000118,
             "test": [
              0.2992,
              0.6361408142
             ]
            },
            {
             "iteration": 20,
             "learn": [
              0.1354666667,
              0.5304873203
             ],
             "passed_time": 0.1102459724,
             "remaining_time": 2.514658132,
             "test": [
              0.2704,
              0.5992994213
             ]
            },
            {
             "iteration": 30,
             "learn": [
              0.1130666667,
              0.4791730478
             ],
             "passed_time": 0.1385199999,
             "remaining_time": 2.095673547,
             "test": [
              0.2576,
              0.5724926316
             ]
            },
            {
             "iteration": 40,
             "learn": [
              0.1002666667,
              0.441754772
             ],
             "passed_time": 0.1629584575,
             "remaining_time": 1.824339805,
             "test": [
              0.2656,
              0.5547267526
             ]
            },
            {
             "iteration": 50,
             "learn": [
              0.08853333333,
              0.4073145517
             ],
             "passed_time": 0.18637361,
             "remaining_time": 1.640818645,
             "test": [
              0.2528,
              0.5422049135
             ]
            },
            {
             "iteration": 60,
             "learn": [
              0.07253333333,
              0.380462574
             ],
             "passed_time": 0.2105833765,
             "remaining_time": 1.515509873,
             "test": [
              0.2464,
              0.5306588046
             ]
            },
            {
             "iteration": 70,
             "learn": [
              0.06506666667,
              0.355915903
             ],
             "passed_time": 0.2422187099,
             "remaining_time": 1.463546853,
             "test": [
              0.2528,
              0.5210598608
             ]
            },
            {
             "iteration": 80,
             "learn": [
              0.05066666667,
              0.3356506476
             ],
             "passed_time": 0.2756887878,
             "remaining_time": 1.426093853,
             "test": [
              0.24,
              0.5121646478
             ]
            },
            {
             "iteration": 90,
             "learn": [
              0.0448,
              0.3156901765
             ],
             "passed_time": 0.302887605,
             "remaining_time": 1.361330005,
             "test": [
              0.2384,
              0.5051036744
             ]
            },
            {
             "iteration": 100,
             "learn": [
              0.03733333333,
              0.2991805437
             ],
             "passed_time": 0.328372782,
             "remaining_time": 1.29723505,
             "test": [
              0.2368,
              0.4993884612
             ]
            },
            {
             "iteration": 110,
             "learn": [
              0.03466666667,
              0.2834008246
             ],
             "passed_time": 0.3680820174,
             "remaining_time": 1.289945088,
             "test": [
              0.2384,
              0.4952916811
             ]
            },
            {
             "iteration": 120,
             "learn": [
              0.0304,
              0.2698132191
             ],
             "passed_time": 0.3982820273,
             "remaining_time": 1.247511474,
             "test": [
              0.2368,
              0.4913668018
             ]
            },
            {
             "iteration": 130,
             "learn": [
              0.0256,
              0.2563700253
             ],
             "passed_time": 0.4369250813,
             "remaining_time": 1.230727901,
             "test": [
              0.2352,
              0.4876878111
             ]
            },
            {
             "iteration": 140,
             "learn": [
              0.02293333333,
              0.2439729567
             ],
             "passed_time": 0.465523326,
             "remaining_time": 1.18526861,
             "test": [
              0.2352,
              0.4836837155
             ]
            },
            {
             "iteration": 150,
             "learn": [
              0.0192,
              0.232564523
             ],
             "passed_time": 0.4868007868,
             "remaining_time": 1.125122348,
             "test": [
              0.2336,
              0.4815211433
             ]
            },
            {
             "iteration": 160,
             "learn": [
              0.01546666667,
              0.2226749882
             ],
             "passed_time": 0.5132782025,
             "remaining_time": 1.080753482,
             "test": [
              0.2384,
              0.4764760347
             ]
            },
            {
             "iteration": 170,
             "learn": [
              0.01546666667,
              0.2128314951
             ],
             "passed_time": 0.5421207657,
             "remaining_time": 1.043027672,
             "test": [
              0.2368,
              0.4752202441
             ]
            },
            {
             "iteration": 180,
             "learn": [
              0.01386666667,
              0.2021416034
             ],
             "passed_time": 0.5685781237,
             "remaining_time": 1.002079676,
             "test": [
              0.2336,
              0.4728755126
             ]
            },
            {
             "iteration": 190,
             "learn": [
              0.01386666667,
              0.1946291165
             ],
             "passed_time": 0.5936664047,
             "remaining_time": 0.9604341311,
             "test": [
              0.2304,
              0.4708116677
             ]
            },
            {
             "iteration": 200,
             "learn": [
              0.01173333333,
              0.1852811102
             ],
             "passed_time": 0.6227818068,
             "remaining_time": 0.9264266679,
             "test": [
              0.232,
              0.4691923427
             ]
            },
            {
             "iteration": 210,
             "learn": [
              0.01013333333,
              0.1770495981
             ],
             "passed_time": 0.6488711263,
             "remaining_time": 0.8887381777,
             "test": [
              0.2352,
              0.467785653
             ]
            },
            {
             "iteration": 220,
             "learn": [
              0.007466666667,
              0.1685295998
             ],
             "passed_time": 0.6736292675,
             "remaining_time": 0.8504188491,
             "test": [
              0.2336,
              0.4668820995
             ]
            },
            {
             "iteration": 230,
             "learn": [
              0.005333333333,
              0.1597919127
             ],
             "passed_time": 0.6964670397,
             "remaining_time": 0.8110373752,
             "test": [
              0.2288,
              0.4667799242
             ]
            },
            {
             "iteration": 240,
             "learn": [
              0.003733333333,
              0.1519751833
             ],
             "passed_time": 0.7201525157,
             "remaining_time": 0.7739398405,
             "test": [
              0.2288,
              0.464581952
             ]
            },
            {
             "iteration": 250,
             "learn": [
              0.002666666667,
              0.1456202343
             ],
             "passed_time": 0.7434044045,
             "remaining_time": 0.7374808634,
             "test": [
              0.2272,
              0.4638361532
             ]
            },
            {
             "iteration": 260,
             "learn": [
              0.002133333333,
              0.1395507531
             ],
             "passed_time": 0.7811410076,
             "remaining_time": 0.7152977043,
             "test": [
              0.2272,
              0.4629756248
             ]
            },
            {
             "iteration": 270,
             "learn": [
              0.002133333333,
              0.133783079
             ],
             "passed_time": 0.8073445619,
             "remaining_time": 0.6822210505,
             "test": [
              0.224,
              0.4632026935
             ]
            },
            {
             "iteration": 280,
             "learn": [
              0.002133333333,
              0.1283802408
             ],
             "passed_time": 0.835329053,
             "remaining_time": 0.6510215751,
             "test": [
              0.2288,
              0.463965094
             ]
            },
            {
             "iteration": 290,
             "learn": [
              0.002133333333,
              0.1234040355
             ],
             "passed_time": 0.8654839833,
             "remaining_time": 0.6216018987,
             "test": [
              0.2224,
              0.4640969474
             ]
            },
            {
             "iteration": 300,
             "learn": [
              0.001066666667,
              0.1184501606
             ],
             "passed_time": 0.907611036,
             "remaining_time": 0.6000484923,
             "test": [
              0.2272,
              0.4645103213
             ]
            },
            {
             "iteration": 310,
             "learn": [
              0.0005333333333,
              0.1124916889
             ],
             "passed_time": 0.9344469917,
             "remaining_time": 0.5678793615,
             "test": [
              0.2304,
              0.4624598836
             ]
            },
            {
             "iteration": 320,
             "learn": [
              0.0005333333333,
              0.1082899731
             ],
             "passed_time": 0.9876100861,
             "remaining_time": 0.5507233813,
             "test": [
              0.2288,
              0.4617169615
             ]
            },
            {
             "iteration": 330,
             "learn": [
              0.0005333333333,
              0.1039949634
             ],
             "passed_time": 1.070301387,
             "remaining_time": 0.5464680796,
             "test": [
              0.2272,
              0.4615457777
             ]
            },
            {
             "iteration": 340,
             "learn": [
              0.0005333333333,
              0.09985940187
             ],
             "passed_time": 1.092769686,
             "remaining_time": 0.5095319062,
             "test": [
              0.2256,
              0.4612445679
             ]
            },
            {
             "iteration": 350,
             "learn": [
              0.0005333333333,
              0.09565169483
             ],
             "passed_time": 1.116766092,
             "remaining_time": 0.474068797,
             "test": [
              0.2272,
              0.4609920827
             ]
            },
            {
             "iteration": 360,
             "learn": [
              0.0005333333333,
              0.09155155507
             ],
             "passed_time": 1.141587335,
             "remaining_time": 0.4395585585,
             "test": [
              0.2288,
              0.4604461966
             ]
            },
            {
             "iteration": 370,
             "learn": [
              0,
              0.08780257892
             ],
             "passed_time": 1.163151153,
             "remaining_time": 0.4044380019,
             "test": [
              0.224,
              0.4609240237
             ]
            },
            {
             "iteration": 380,
             "learn": [
              0,
              0.08404576868
             ],
             "passed_time": 1.186805297,
             "remaining_time": 0.3706819694,
             "test": [
              0.2256,
              0.4627247789
             ]
            },
            {
             "iteration": 390,
             "learn": [
              0,
              0.0812876346
             ],
             "passed_time": 1.222463863,
             "remaining_time": 0.3407891588,
             "test": [
              0.2256,
              0.4634528307
             ]
            },
            {
             "iteration": 400,
             "learn": [
              0,
              0.07844645164
             ],
             "passed_time": 1.320494035,
             "remaining_time": 0.3260072556,
             "test": [
              0.2256,
              0.4639350989
             ]
            },
            {
             "iteration": 410,
             "learn": [
              0,
              0.07578980094
             ],
             "passed_time": 1.345687269,
             "remaining_time": 0.2914018661,
             "test": [
              0.2224,
              0.4634189921
             ]
            },
            {
             "iteration": 420,
             "learn": [
              0,
              0.07331291368
             ],
             "passed_time": 1.369907502,
             "remaining_time": 0.2570610278,
             "test": [
              0.224,
              0.464336247
             ]
            },
            {
             "iteration": 430,
             "learn": [
              0,
              0.07061626235
             ],
             "passed_time": 1.393444365,
             "remaining_time": 0.2230804203,
             "test": [
              0.2224,
              0.4650140382
             ]
            },
            {
             "iteration": 440,
             "learn": [
              0,
              0.0683289396
             ],
             "passed_time": 1.421687082,
             "remaining_time": 0.1902030337,
             "test": [
              0.2192,
              0.4656816944
             ]
            },
            {
             "iteration": 450,
             "learn": [
              0,
              0.06577003947
             ],
             "passed_time": 1.44424342,
             "remaining_time": 0.1569133649,
             "test": [
              0.2208,
              0.4663074431
             ]
            },
            {
             "iteration": 460,
             "learn": [
              0,
              0.06351794489
             ],
             "passed_time": 1.471727821,
             "remaining_time": 0.1245062582,
             "test": [
              0.2208,
              0.4655884787
             ]
            },
            {
             "iteration": 470,
             "learn": [
              0,
              0.06133784345
             ],
             "passed_time": 1.498749734,
             "remaining_time": 0.09227970761,
             "test": [
              0.2224,
              0.4656641991
             ]
            },
            {
             "iteration": 480,
             "learn": [
              0,
              0.0598297354
             ],
             "passed_time": 1.524211045,
             "remaining_time": 0.06020792071,
             "test": [
              0.2224,
              0.4666044344
             ]
            },
            {
             "iteration": 490,
             "learn": [
              0,
              0.05781055742
             ],
             "passed_time": 1.550636838,
             "remaining_time": 0.0284230785,
             "test": [
              0.2224,
              0.4666416957
             ]
            },
            {
             "iteration": 499,
             "learn": [
              0,
              0.05613081252
             ],
             "passed_time": 1.572715536,
             "remaining_time": 0,
             "test": [
              0.2256,
              0.468089423
             ]
            }
           ],
           "meta": {
            "iteration_count": 500,
            "launch_mode": "Train",
            "learn_metrics": [
             {
              "best_value": "Min",
              "name": "HammingLoss"
             },
             {
              "best_value": "Min",
              "name": "MultiLogloss"
             }
            ],
            "learn_sets": [
             "learn"
            ],
            "name": "experiment",
            "parameters": "",
            "test_metrics": [
             {
              "best_value": "Min",
              "name": "HammingLoss"
             },
             {
              "best_value": "Min",
              "name": "MultiLogloss"
             }
            ],
            "test_sets": [
             "test"
            ]
           }
          },
          "passed_iterations": 499,
          "total_iterations": 500
         },
         "name": "catboost_info",
         "path": "catboost_info"
        }
       },
       "layout": "IPY_MODEL_7406c55b34bd45c4a110fb8a1d1c40c2"
      }
     },
     "7406c55b34bd45c4a110fb8a1d1c40c2": {
      "model_module": "@jupyter-widgets/base",
      "model_module_version": "1.2.0",
      "model_name": "LayoutModel",
      "state": {
       "align_self": "stretch",
       "height": "500px"
      }
     },
     "85deeb4c97974ea78d853a2adbdbd15f": {
      "model_module": "catboost-widget",
      "model_module_version": "^1.0.0",
      "model_name": "CatboostWidgetModel",
      "state": {
       "_model_module_version": "^1.0.0",
       "_view_module_version": "^1.0.0",
       "data": {
        "catboost_info": {
         "content": {
          "data": {
           "iterations": [
            {
             "iteration": 0,
             "learn": [
              0.2773333333,
              0.6819638889
             ],
             "passed_time": 0.004367129854,
             "remaining_time": 2.179197797,
             "test": [
              0.344,
              0.6864765719
             ]
            },
            {
             "iteration": 10,
             "learn": [
              0.1578666667,
              0.5946150295
             ],
             "passed_time": 0.03398319635,
             "remaining_time": 1.510707547,
             "test": [
              0.2992,
              0.6361408142
             ]
            },
            {
             "iteration": 20,
             "learn": [
              0.1354666667,
              0.5304873203
             ],
             "passed_time": 0.06016818022,
             "remaining_time": 1.372407539,
             "test": [
              0.2704,
              0.5992994213
             ]
            },
            {
             "iteration": 30,
             "learn": [
              0.1130666667,
              0.4791730478
             ],
             "passed_time": 0.0852732417,
             "remaining_time": 1.290101624,
             "test": [
              0.2576,
              0.5724926316
             ]
            },
            {
             "iteration": 40,
             "learn": [
              0.1002666667,
              0.441754772
             ],
             "passed_time": 0.1117854107,
             "remaining_time": 1.251451305,
             "test": [
              0.2656,
              0.5547267526
             ]
            },
            {
             "iteration": 50,
             "learn": [
              0.08853333333,
              0.4073145517
             ],
             "passed_time": 0.1387762885,
             "remaining_time": 1.221775559,
             "test": [
              0.2528,
              0.5422049135
             ]
            },
            {
             "iteration": 60,
             "learn": [
              0.07253333333,
              0.380462574
             ],
             "passed_time": 0.1651618057,
             "remaining_time": 1.188623487,
             "test": [
              0.2464,
              0.5306588046
             ]
            },
            {
             "iteration": 70,
             "learn": [
              0.06506666667,
              0.355915903
             ],
             "passed_time": 0.1970013679,
             "remaining_time": 1.190332209,
             "test": [
              0.2528,
              0.5210598608
             ]
            },
            {
             "iteration": 80,
             "learn": [
              0.05066666667,
              0.3356506476
             ],
             "passed_time": 0.2300083328,
             "remaining_time": 1.189796191,
             "test": [
              0.24,
              0.5121646478
             ]
            },
            {
             "iteration": 90,
             "learn": [
              0.0448,
              0.3156901765
             ],
             "passed_time": 0.3111547967,
             "remaining_time": 1.398486943,
             "test": [
              0.2384,
              0.5051036744
             ]
            },
            {
             "iteration": 100,
             "learn": [
              0.03733333333,
              0.2991805437
             ],
             "passed_time": 0.3542051656,
             "remaining_time": 1.399285753,
             "test": [
              0.2368,
              0.4993884612
             ]
            },
            {
             "iteration": 110,
             "learn": [
              0.03466666667,
              0.2834008246
             ],
             "passed_time": 0.3947676551,
             "remaining_time": 1.383465026,
             "test": [
              0.2384,
              0.4952916811
             ]
            },
            {
             "iteration": 120,
             "learn": [
              0.0304,
              0.2698132191
             ],
             "passed_time": 0.4524003331,
             "remaining_time": 1.417022531,
             "test": [
              0.2368,
              0.4913668018
             ]
            },
            {
             "iteration": 130,
             "learn": [
              0.0256,
              0.2563700253
             ],
             "passed_time": 0.501978175,
             "remaining_time": 1.413969058,
             "test": [
              0.2352,
              0.4876878111
             ]
            },
            {
             "iteration": 140,
             "learn": [
              0.02293333333,
              0.2439729567
             ],
             "passed_time": 0.5229196844,
             "remaining_time": 1.331405438,
             "test": [
              0.2352,
              0.4836837155
             ]
            },
            {
             "iteration": 150,
             "learn": [
              0.0192,
              0.232564523
             ],
             "passed_time": 0.5456778423,
             "remaining_time": 1.26120243,
             "test": [
              0.2336,
              0.4815211433
             ]
            },
            {
             "iteration": 160,
             "learn": [
              0.01546666667,
              0.2226749882
             ],
             "passed_time": 0.5655910652,
             "remaining_time": 1.190902926,
             "test": [
              0.2384,
              0.4764760347
             ]
            },
            {
             "iteration": 170,
             "learn": [
              0.01546666667,
              0.2128314951
             ],
             "passed_time": 0.5873491432,
             "remaining_time": 1.130046012,
             "test": [
              0.2368,
              0.4752202441
             ]
            },
            {
             "iteration": 180,
             "learn": [
              0.01386666667,
              0.2021416034
             ],
             "passed_time": 0.6100977863,
             "remaining_time": 1.075255215,
             "test": [
              0.2336,
              0.4728755126
             ]
            },
            {
             "iteration": 190,
             "learn": [
              0.01386666667,
              0.1946291165
             ],
             "passed_time": 0.633995993,
             "remaining_time": 1.025679381,
             "test": [
              0.2304,
              0.4708116677
             ]
            },
            {
             "iteration": 200,
             "learn": [
              0.01173333333,
              0.1852811102
             ],
             "passed_time": 0.6653618229,
             "remaining_time": 0.9897670898,
             "test": [
              0.232,
              0.4691923427
             ]
            },
            {
             "iteration": 210,
             "learn": [
              0.01013333333,
              0.1770495981
             ],
             "passed_time": 0.6954138002,
             "remaining_time": 0.9524862003,
             "test": [
              0.2352,
              0.467785653
             ]
            },
            {
             "iteration": 220,
             "learn": [
              0.007466666667,
              0.1685295998
             ],
             "passed_time": 0.7312855164,
             "remaining_time": 0.9232066021,
             "test": [
              0.2336,
              0.4668820995
             ]
            },
            {
             "iteration": 230,
             "learn": [
              0.005333333333,
              0.1597919127
             ],
             "passed_time": 0.754667631,
             "remaining_time": 0.8788120898,
             "test": [
              0.2288,
              0.4667799242
             ]
            },
            {
             "iteration": 240,
             "learn": [
              0.003733333333,
              0.1519751833
             ],
             "passed_time": 0.78679548,
             "remaining_time": 0.8455602876,
             "test": [
              0.2288,
              0.464581952
             ]
            },
            {
             "iteration": 250,
             "learn": [
              0.002666666667,
              0.1456202343
             ],
             "passed_time": 0.8298125113,
             "remaining_time": 0.8232004595,
             "test": [
              0.2272,
              0.4638361532
             ]
            },
            {
             "iteration": 260,
             "learn": [
              0.002133333333,
              0.1395507531
             ],
             "passed_time": 0.856440645,
             "remaining_time": 0.7842502458,
             "test": [
              0.2272,
              0.4629756248
             ]
            },
            {
             "iteration": 270,
             "learn": [
              0.002133333333,
              0.133783079
             ],
             "passed_time": 0.8845515186,
             "remaining_time": 0.7474623534,
             "test": [
              0.224,
              0.4632026935
             ]
            },
            {
             "iteration": 280,
             "learn": [
              0.002133333333,
              0.1283802408
             ],
             "passed_time": 0.909070883,
             "remaining_time": 0.7084929658,
             "test": [
              0.2288,
              0.463965094
             ]
            },
            {
             "iteration": 290,
             "learn": [
              0.002133333333,
              0.1234040355
             ],
             "passed_time": 0.9316620122,
             "remaining_time": 0.6691318232,
             "test": [
              0.2224,
              0.4640969474
             ]
            },
            {
             "iteration": 300,
             "learn": [
              0.001066666667,
              0.1184501606
             ],
             "passed_time": 0.9547909752,
             "remaining_time": 0.6312405451,
             "test": [
              0.2272,
              0.4645103213
             ]
            },
            {
             "iteration": 310,
             "learn": [
              0.0005333333333,
              0.1124916889
             ],
             "passed_time": 0.9816760208,
             "remaining_time": 0.5965812473,
             "test": [
              0.2304,
              0.4624598836
             ]
            },
            {
             "iteration": 320,
             "learn": [
              0.0005333333333,
              0.1082899731
             ],
             "passed_time": 1.009350397,
             "remaining_time": 0.5628464833,
             "test": [
              0.2288,
              0.4617169615
             ]
            },
            {
             "iteration": 330,
             "learn": [
              0.0005333333333,
              0.1039949634
             ],
             "passed_time": 1.035983551,
             "remaining_time": 0.5289462841,
             "test": [
              0.2272,
              0.4615457777
             ]
            },
            {
             "iteration": 340,
             "learn": [
              0.0005333333333,
              0.09985940187
             ],
             "passed_time": 1.057896555,
             "remaining_time": 0.4932714144,
             "test": [
              0.2256,
              0.4612445679
             ]
            },
            {
             "iteration": 350,
             "learn": [
              0.0005333333333,
              0.09565169483
             ],
             "passed_time": 1.082015572,
             "remaining_time": 0.4593171516,
             "test": [
              0.2272,
              0.4609920827
             ]
            },
            {
             "iteration": 360,
             "learn": [
              0.0005333333333,
              0.09155155507
             ],
             "passed_time": 1.106763878,
             "remaining_time": 0.4261500803,
             "test": [
              0.2288,
              0.4604461966
             ]
            },
            {
             "iteration": 370,
             "learn": [
              0,
              0.08780257892
             ],
             "passed_time": 1.131645545,
             "remaining_time": 0.3934832219,
             "test": [
              0.224,
              0.4609240237
             ]
            },
            {
             "iteration": 380,
             "learn": [
              0,
              0.08404576868
             ],
             "passed_time": 1.157289171,
             "remaining_time": 0.3614630218,
             "test": [
              0.2256,
              0.4627247789
             ]
            },
            {
             "iteration": 390,
             "learn": [
              0,
              0.0812876346
             ],
             "passed_time": 1.186809896,
             "remaining_time": 0.3308498177,
             "test": [
              0.2256,
              0.4634528307
             ]
            },
            {
             "iteration": 400,
             "learn": [
              0,
              0.07844645164
             ],
             "passed_time": 1.218423656,
             "remaining_time": 0.3008078353,
             "test": [
              0.2256,
              0.4639350989
             ]
            },
            {
             "iteration": 410,
             "learn": [
              0,
              0.07578980094
             ],
             "passed_time": 1.246158473,
             "remaining_time": 0.2698494017,
             "test": [
              0.2224,
              0.4634189921
             ]
            },
            {
             "iteration": 420,
             "learn": [
              0,
              0.07331291368
             ],
             "passed_time": 1.272899701,
             "remaining_time": 0.2388576636,
             "test": [
              0.224,
              0.464336247
             ]
            },
            {
             "iteration": 430,
             "learn": [
              0,
              0.07061626235
             ],
             "passed_time": 1.298768642,
             "remaining_time": 0.2079235181,
             "test": [
              0.2224,
              0.4650140382
             ]
            },
            {
             "iteration": 440,
             "learn": [
              0,
              0.0683289396
             ],
             "passed_time": 1.337408966,
             "remaining_time": 0.1789277301,
             "test": [
              0.2192,
              0.4656816944
             ]
            },
            {
             "iteration": 450,
             "learn": [
              0,
              0.06577003947
             ],
             "passed_time": 1.382795761,
             "remaining_time": 0.1502372335,
             "test": [
              0.2208,
              0.4663074431
             ]
            },
            {
             "iteration": 460,
             "learn": [
              0,
              0.06351794489
             ],
             "passed_time": 1.415692691,
             "remaining_time": 0.1197657591,
             "test": [
              0.2208,
              0.4655884787
             ]
            },
            {
             "iteration": 470,
             "learn": [
              0,
              0.06133784345
             ],
             "passed_time": 1.455354351,
             "remaining_time": 0.08960780507,
             "test": [
              0.2224,
              0.4656641991
             ]
            },
            {
             "iteration": 480,
             "learn": [
              0,
              0.0598297354
             ],
             "passed_time": 1.555523713,
             "remaining_time": 0.06144480362,
             "test": [
              0.2224,
              0.4666044344
             ]
            },
            {
             "iteration": 490,
             "learn": [
              0,
              0.05781055742
             ],
             "passed_time": 1.587224534,
             "remaining_time": 0.02909372873,
             "test": [
              0.2224,
              0.4666416957
             ]
            },
            {
             "iteration": 499,
             "learn": [
              0,
              0.05613081252
             ],
             "passed_time": 1.615866473,
             "remaining_time": 0,
             "test": [
              0.2256,
              0.468089423
             ]
            }
           ],
           "meta": {
            "iteration_count": 500,
            "launch_mode": "Train",
            "learn_metrics": [
             {
              "best_value": "Min",
              "name": "HammingLoss"
             },
             {
              "best_value": "Min",
              "name": "MultiLogloss"
             }
            ],
            "learn_sets": [
             "learn"
            ],
            "name": "experiment",
            "parameters": "",
            "test_metrics": [
             {
              "best_value": "Min",
              "name": "HammingLoss"
             },
             {
              "best_value": "Min",
              "name": "MultiLogloss"
             }
            ],
            "test_sets": [
             "test"
            ]
           }
          },
          "passed_iterations": 499,
          "total_iterations": 500
         },
         "name": "catboost_info",
         "path": "catboost_info"
        }
       },
       "layout": "IPY_MODEL_8d93456b51ca46d7a969fb6339228a94"
      }
     },
     "8d93456b51ca46d7a969fb6339228a94": {
      "model_module": "@jupyter-widgets/base",
      "model_module_version": "1.2.0",
      "model_name": "LayoutModel",
      "state": {
       "align_self": "stretch",
       "height": "500px"
      }
     },
     "8e8c207d4e0f43bf8a2a6d348120f9ba": {
      "model_module": "catboost-widget",
      "model_module_version": "^1.0.0",
      "model_name": "CatboostWidgetModel",
      "state": {
       "_model_module_version": "^1.0.0",
       "_view_module_version": "^1.0.0",
       "data": {
        "catboost_info": {
         "content": {
          "data": {
           "iterations": [
            {
             "iteration": 0,
             "learn": [
              0.2778666667,
              0.6822814547
             ],
             "passed_time": 0.05099224994,
             "remaining_time": 25.44513272,
             "test": [
              0.3328,
              0.6861028328
             ]
            },
            {
             "iteration": 10,
             "learn": [
              0.1616,
              0.5945794519
             ],
             "passed_time": 0.06963137127,
             "remaining_time": 3.095430959,
             "test": [
              0.2848,
              0.6365807319
             ]
            },
            {
             "iteration": 20,
             "learn": [
              0.1477333333,
              0.5355240912
             ],
             "passed_time": 0.08640756319,
             "remaining_time": 1.97091537,
             "test": [
              0.264,
              0.6029049593
             ]
            },
            {
             "iteration": 30,
             "learn": [
              0.12,
              0.4799931549
             ],
             "passed_time": 0.1026216531,
             "remaining_time": 1.5525663,
             "test": [
              0.2608,
              0.5794880785
             ]
            },
            {
             "iteration": 40,
             "learn": [
              0.1077333333,
              0.4439954715
             ],
             "passed_time": 0.1187540561,
             "remaining_time": 1.32946614,
             "test": [
              0.2656,
              0.5644460402
             ]
            },
            {
             "iteration": 50,
             "learn": [
              0.09173333333,
              0.408467288
             ],
             "passed_time": 0.1349737889,
             "remaining_time": 1.188298651,
             "test": [
              0.2496,
              0.5482063093
             ]
            },
            {
             "iteration": 60,
             "learn": [
              0.08,
              0.3805686336
             ],
             "passed_time": 0.1509265126,
             "remaining_time": 1.086176049,
             "test": [
              0.2528,
              0.5389749222
             ]
            },
            {
             "iteration": 70,
             "learn": [
              0.06986666667,
              0.3546156882
             ],
             "passed_time": 0.1670553222,
             "remaining_time": 1.009390609,
             "test": [
              0.2448,
              0.529918273
             ]
            },
            {
             "iteration": 80,
             "learn": [
              0.0576,
              0.3335163819
             ],
             "passed_time": 0.1840756319,
             "remaining_time": 0.9521937007,
             "test": [
              0.2416,
              0.5229115295
             ]
            },
            {
             "iteration": 90,
             "learn": [
              0.05013333333,
              0.3141121332
             ],
             "passed_time": 0.2000832781,
             "remaining_time": 0.8992753929,
             "test": [
              0.2352,
              0.5169056608
             ]
            },
            {
             "iteration": 100,
             "learn": [
              0.0432,
              0.2965971334
             ],
             "passed_time": 0.2168889905,
             "remaining_time": 0.8568188833,
             "test": [
              0.2304,
              0.5127382166
             ]
            },
            {
             "iteration": 110,
             "learn": [
              0.0368,
              0.2805985945
             ],
             "passed_time": 0.2333898994,
             "remaining_time": 0.8179159537,
             "test": [
              0.2304,
              0.509567093
             ]
            },
            {
             "iteration": 120,
             "learn": [
              0.0304,
              0.2674956099
             ],
             "passed_time": 0.2501698182,
             "remaining_time": 0.7835897612,
             "test": [
              0.2336,
              0.5047505175
             ]
            },
            {
             "iteration": 130,
             "learn": [
              0.0256,
              0.2544295226
             ],
             "passed_time": 0.2668161299,
             "remaining_time": 0.7515660452,
             "test": [
              0.24,
              0.5017713241
             ]
            },
            {
             "iteration": 140,
             "learn": [
              0.0192,
              0.2385962052
             ],
             "passed_time": 0.2837761089,
             "remaining_time": 0.7225221496,
             "test": [
              0.2384,
              0.4991272508
             ]
            },
            {
             "iteration": 150,
             "learn": [
              0.016,
              0.2281188871
             ],
             "passed_time": 0.3008687471,
             "remaining_time": 0.6953853824,
             "test": [
              0.2352,
              0.4960210073
             ]
            },
            {
             "iteration": 160,
             "learn": [
              0.0128,
              0.2165593028
             ],
             "passed_time": 0.3186641303,
             "remaining_time": 0.6709760259,
             "test": [
              0.2416,
              0.4948846765
             ]
            },
            {
             "iteration": 170,
             "learn": [
              0.0112,
              0.2066625743
             ],
             "passed_time": 0.3367091872,
             "remaining_time": 0.6478205999,
             "test": [
              0.2432,
              0.493928528
             ]
            },
            {
             "iteration": 180,
             "learn": [
              0.007466666667,
              0.1960929206
             ],
             "passed_time": 0.3544114706,
             "remaining_time": 0.624625741,
             "test": [
              0.2368,
              0.4920065703
             ]
            },
            {
             "iteration": 190,
             "learn": [
              0.007466666667,
              0.1867979528
             ],
             "passed_time": 0.3715299644,
             "remaining_time": 0.6010615655,
             "test": [
              0.232,
              0.492212437
             ]
            },
            {
             "iteration": 200,
             "learn": [
              0.005866666667,
              0.1772767495
             ],
             "passed_time": 0.3899853731,
             "remaining_time": 0.5801274953,
             "test": [
              0.2352,
              0.4902776419
             ]
            },
            {
             "iteration": 210,
             "learn": [
              0.0048,
              0.1694586564
             ],
             "passed_time": 0.4085204841,
             "remaining_time": 0.5595375351,
             "test": [
              0.2352,
              0.4894560145
             ]
            },
            {
             "iteration": 220,
             "learn": [
              0.003733333333,
              0.1604973552
             ],
             "passed_time": 0.4261697666,
             "remaining_time": 0.5380152257,
             "test": [
              0.232,
              0.4888473012
             ]
            },
            {
             "iteration": 230,
             "learn": [
              0.002133333333,
              0.152551156
             ],
             "passed_time": 0.4441497273,
             "remaining_time": 0.5172133188,
             "test": [
              0.232,
              0.4884010624
             ]
            },
            {
             "iteration": 240,
             "learn": [
              0.002666666667,
              0.1453738099
             ],
             "passed_time": 0.4622133816,
             "remaining_time": 0.4967355429,
             "test": [
              0.2352,
              0.4883303002
             ]
            },
            {
             "iteration": 250,
             "learn": [
              0.0016,
              0.1382473343
             ],
             "passed_time": 0.480249463,
             "remaining_time": 0.476422774,
             "test": [
              0.232,
              0.488229546
             ]
            },
            {
             "iteration": 260,
             "learn": [
              0.0016,
              0.1318006213
             ],
             "passed_time": 0.4983554071,
             "remaining_time": 0.4563484379,
             "test": [
              0.2352,
              0.4882235366
             ]
            },
            {
             "iteration": 270,
             "learn": [
              0.001066666667,
              0.1257266259
             ],
             "passed_time": 0.5169340393,
             "remaining_time": 0.4368188008,
             "test": [
              0.2368,
              0.488874233
             ]
            },
            {
             "iteration": 280,
             "learn": [
              0.001066666667,
              0.1209053443
             ],
             "passed_time": 0.5348931726,
             "remaining_time": 0.4168740384,
             "test": [
              0.2384,
              0.4885517988
             ]
            },
            {
             "iteration": 290,
             "learn": [
              0,
              0.1156010058
             ],
             "passed_time": 0.5532620686,
             "remaining_time": 0.3973600424,
             "test": [
              0.2368,
              0.4881546132
             ]
            },
            {
             "iteration": 300,
             "learn": [
              0,
              0.1106287618
             ],
             "passed_time": 0.571704707,
             "remaining_time": 0.377970886,
             "test": [
              0.2384,
              0.4893863245
             ]
            },
            {
             "iteration": 310,
             "learn": [
              0,
              0.1065691477
             ],
             "passed_time": 0.5894947642,
             "remaining_time": 0.3582460142,
             "test": [
              0.2368,
              0.4894928589
             ]
            },
            {
             "iteration": 320,
             "learn": [
              0,
              0.1023359901
             ],
             "passed_time": 0.6076988715,
             "remaining_time": 0.3388725794,
             "test": [
              0.2368,
              0.4892953031
             ]
            },
            {
             "iteration": 330,
             "learn": [
              0,
              0.09791075145
             ],
             "passed_time": 0.6257943422,
             "remaining_time": 0.3195143318,
             "test": [
              0.2352,
              0.4899653006
             ]
            },
            {
             "iteration": 340,
             "learn": [
              0,
              0.09361317776
             ],
             "passed_time": 0.6437637111,
             "remaining_time": 0.3001713492,
             "test": [
              0.24,
              0.4901806084
             ]
            },
            {
             "iteration": 350,
             "learn": [
              0,
              0.08932152383
             ],
             "passed_time": 0.6626651924,
             "remaining_time": 0.2813023182,
             "test": [
              0.232,
              0.4912316415
             ]
            },
            {
             "iteration": 360,
             "learn": [
              0,
              0.08650772558
             ],
             "passed_time": 0.6822639228,
             "remaining_time": 0.2626999592,
             "test": [
              0.2352,
              0.4910817334
             ]
            },
            {
             "iteration": 370,
             "learn": [
              0,
              0.08290009427
             ],
             "passed_time": 0.7010961152,
             "remaining_time": 0.2437773554,
             "test": [
              0.232,
              0.4912958913
             ]
            },
            {
             "iteration": 380,
             "learn": [
              0,
              0.07992763911
             ],
             "passed_time": 0.7193143216,
             "remaining_time": 0.2246677277,
             "test": [
              0.2352,
              0.4923839604
             ]
            },
            {
             "iteration": 390,
             "learn": [
              0,
              0.07672181676
             ],
             "passed_time": 0.7378944287,
             "remaining_time": 0.205704585,
             "test": [
              0.232,
              0.493429018
             ]
            },
            {
             "iteration": 400,
             "learn": [
              0,
              0.07350472387
             ],
             "passed_time": 0.7560013752,
             "remaining_time": 0.186643731,
             "test": [
              0.2368,
              0.4936007095
             ]
            },
            {
             "iteration": 410,
             "learn": [
              0,
              0.07056494129
             ],
             "passed_time": 0.7752082529,
             "remaining_time": 0.1678674806,
             "test": [
              0.2336,
              0.4944352362
             ]
            },
            {
             "iteration": 420,
             "learn": [
              0,
              0.06820141881
             ],
             "passed_time": 0.7949610752,
             "remaining_time": 0.1491732184,
             "test": [
              0.2352,
              0.4962316863
             ]
            },
            {
             "iteration": 430,
             "learn": [
              0,
              0.06572999275
             ],
             "passed_time": 0.8151873685,
             "remaining_time": 0.1305056344,
             "test": [
              0.2352,
              0.4971231906
             ]
            },
            {
             "iteration": 440,
             "learn": [
              0,
              0.0633289348
             ],
             "passed_time": 0.8334260339,
             "remaining_time": 0.1115014422,
             "test": [
              0.2384,
              0.4989367337
             ]
            },
            {
             "iteration": 450,
             "learn": [
              0,
              0.06091431292
             ],
             "passed_time": 0.8514805628,
             "remaining_time": 0.09251119196,
             "test": [
              0.2336,
              0.4991814597
             ]
            },
            {
             "iteration": 460,
             "learn": [
              0,
              0.05879793163
             ],
             "passed_time": 0.870578379,
             "remaining_time": 0.07364979779,
             "test": [
              0.2368,
              0.5001425699
             ]
            },
            {
             "iteration": 470,
             "learn": [
              0,
              0.0568084221
             ],
             "passed_time": 0.8898997204,
             "remaining_time": 0.05479212716,
             "test": [
              0.2384,
              0.5008056958
             ]
            },
            {
             "iteration": 480,
             "learn": [
              0,
              0.05481957642
             ],
             "passed_time": 0.9083391513,
             "remaining_time": 0.03588034069,
             "test": [
              0.2352,
              0.5013205324
             ]
            },
            {
             "iteration": 490,
             "learn": [
              0,
              0.05277427138
             ],
             "passed_time": 0.9271956794,
             "remaining_time": 0.01699544015,
             "test": [
              0.2368,
              0.5026385053
             ]
            },
            {
             "iteration": 499,
             "learn": [
              0,
              0.05108775573
             ],
             "passed_time": 0.9468868823,
             "remaining_time": 0,
             "test": [
              0.2384,
              0.5035470212
             ]
            }
           ],
           "meta": {
            "iteration_count": 500,
            "launch_mode": "Train",
            "learn_metrics": [
             {
              "best_value": "Min",
              "name": "HammingLoss"
             },
             {
              "best_value": "Min",
              "name": "MultiLogloss"
             }
            ],
            "learn_sets": [
             "learn"
            ],
            "name": "experiment",
            "parameters": "",
            "test_metrics": [
             {
              "best_value": "Min",
              "name": "HammingLoss"
             },
             {
              "best_value": "Min",
              "name": "MultiLogloss"
             }
            ],
            "test_sets": [
             "test"
            ]
           }
          },
          "passed_iterations": 499,
          "total_iterations": 500
         },
         "name": "catboost_info",
         "path": "catboost_info"
        }
       },
       "layout": "IPY_MODEL_13bcbf129aa34f0cae64258f1bfcd6bb"
      }
     },
     "9bd07b817b6549d6abbb582edf4b9d50": {
      "model_module": "@jupyter-widgets/base",
      "model_module_version": "1.2.0",
      "model_name": "LayoutModel",
      "state": {
       "align_self": "stretch",
       "height": "500px"
      }
     },
     "b24ff29d5bef4a998ae9421761e34a22": {
      "model_module": "@jupyter-widgets/base",
      "model_module_version": "1.2.0",
      "model_name": "LayoutModel",
      "state": {
       "align_self": "stretch",
       "height": "500px"
      }
     },
     "bb2da29177c84beb9becf1e6eeb06850": {
      "model_module": "@jupyter-widgets/base",
      "model_module_version": "1.2.0",
      "model_name": "LayoutModel",
      "state": {
       "align_self": "stretch",
       "height": "500px"
      }
     },
     "d86321e804af4061a89647233c4b8850": {
      "model_module": "@jupyter-widgets/base",
      "model_module_version": "1.2.0",
      "model_name": "LayoutModel",
      "state": {
       "align_self": "stretch",
       "height": "500px"
      }
     },
     "e41230c868cd43bb8b2fd3eb1d16e7a5": {
      "model_module": "catboost-widget",
      "model_module_version": "^1.0.0",
      "model_name": "CatboostWidgetModel",
      "state": {
       "_model_module_version": "^1.0.0",
       "_view_module_version": "^1.0.0",
       "data": {
        "catboost_info": {
         "content": {
          "data": {
           "iterations": [
            {
             "iteration": 0,
             "learn": [
              0.2773333333,
              0.6766633278
             ],
             "passed_time": 0.003353344245,
             "remaining_time": 0.6673155048,
             "test": [
              0.344,
              0.6833836242
             ]
            },
            {
             "iteration": 10,
             "learn": [
              0.1482666667,
              0.5571862014
             ],
             "passed_time": 0.02568031296,
             "remaining_time": 0.4412344681,
             "test": [
              0.2752,
              0.6134889322
             ]
            },
            {
             "iteration": 20,
             "learn": [
              0.1168,
              0.477391995
             ],
             "passed_time": 0.04803457073,
             "remaining_time": 0.4094375315,
             "test": [
              0.2624,
              0.5695981269
             ]
            },
            {
             "iteration": 30,
             "learn": [
              0.09066666667,
              0.4182657649
             ],
             "passed_time": 0.07004105678,
             "remaining_time": 0.3818367289,
             "test": [
              0.2448,
              0.5402678787
             ]
            },
            {
             "iteration": 40,
             "learn": [
              0.07093333333,
              0.3772576416
             ],
             "passed_time": 0.09053761879,
             "remaining_time": 0.3511093021,
             "test": [
              0.2464,
              0.5249127477
             ]
            },
            {
             "iteration": 50,
             "learn": [
              0.05706666667,
              0.3407161967
             ],
             "passed_time": 0.1103677211,
             "remaining_time": 0.3224468715,
             "test": [
              0.2432,
              0.5130505435
             ]
            },
            {
             "iteration": 60,
             "learn": [
              0.04586666667,
              0.312353921
             ],
             "passed_time": 0.1291100053,
             "remaining_time": 0.2942014875,
             "test": [
              0.2448,
              0.5034960685
             ]
            },
            {
             "iteration": 70,
             "learn": [
              0.0352,
              0.2883793193
             ],
             "passed_time": 0.1486806105,
             "remaining_time": 0.2701380107,
             "test": [
              0.232,
              0.4949338618
             ]
            },
            {
             "iteration": 80,
             "learn": [
              0.0272,
              0.2685695985
             ],
             "passed_time": 0.1693285387,
             "remaining_time": 0.2487666186,
             "test": [
              0.2304,
              0.4868493159
             ]
            },
            {
             "iteration": 90,
             "learn": [
              0.0224,
              0.249814595
             ],
             "passed_time": 0.1885763663,
             "remaining_time": 0.225877186,
             "test": [
              0.2256,
              0.4828568868
             ]
            },
            {
             "iteration": 100,
             "learn": [
              0.0176,
              0.2324220742
             ],
             "passed_time": 0.2081657749,
             "remaining_time": 0.2040436804,
             "test": [
              0.2336,
              0.4796521176
             ]
            },
            {
             "iteration": 110,
             "learn": [
              0.016,
              0.2160180527
             ],
             "passed_time": 0.2279700058,
             "remaining_time": 0.1827867614,
             "test": [
              0.2288,
              0.476276748
             ]
            },
            {
             "iteration": 120,
             "learn": [
              0.01173333333,
              0.2021628151
             ],
             "passed_time": 0.2480414482,
             "remaining_time": 0.1619444166,
             "test": [
              0.2256,
              0.4718134636
             ]
            },
            {
             "iteration": 130,
             "learn": [
              0.009066666667,
              0.1881380004
             ],
             "passed_time": 0.2678548826,
             "remaining_time": 0.1410838695,
             "test": [
              0.224,
              0.4696682563
             ]
            },
            {
             "iteration": 140,
             "learn": [
              0.005866666667,
              0.1753330158
             ],
             "passed_time": 0.2881220451,
             "remaining_time": 0.1205617068,
             "test": [
              0.224,
              0.466172106
             ]
            },
            {
             "iteration": 150,
             "learn": [
              0.004266666667,
              0.1635355713
             ],
             "passed_time": 0.3086806447,
             "remaining_time": 0.1001678913,
             "test": [
              0.2272,
              0.465812406
             ]
            },
            {
             "iteration": 160,
             "learn": [
              0.0032,
              0.1530124936
             ],
             "passed_time": 0.3288959441,
             "remaining_time": 0.07967044609,
             "test": [
              0.2336,
              0.4651341277
             ]
            },
            {
             "iteration": 170,
             "learn": [
              0.0032,
              0.1430694539
             ],
             "passed_time": 0.3490086675,
             "remaining_time": 0.05918860443,
             "test": [
              0.224,
              0.4648384946
             ]
            },
            {
             "iteration": 180,
             "learn": [
              0.0016,
              0.1341508469
             ],
             "passed_time": 0.3696741618,
             "remaining_time": 0.038805575,
             "test": [
              0.224,
              0.4616916776
             ]
            },
            {
             "iteration": 190,
             "learn": [
              0.0005333333333,
              0.1245155642
             ],
             "passed_time": 0.3896973037,
             "remaining_time": 0.01836270017,
             "test": [
              0.2208,
              0.4614987512
             ]
            },
            {
             "iteration": 199,
             "learn": [
              0.0005333333333,
              0.117877164
             ],
             "passed_time": 0.4076015688,
             "remaining_time": 0,
             "test": [
              0.2192,
              0.461622589
             ]
            }
           ],
           "meta": {
            "iteration_count": 200,
            "launch_mode": "Train",
            "learn_metrics": [
             {
              "best_value": "Min",
              "name": "HammingLoss"
             },
             {
              "best_value": "Min",
              "name": "MultiLogloss"
             }
            ],
            "learn_sets": [
             "learn"
            ],
            "name": "experiment",
            "parameters": "",
            "test_metrics": [
             {
              "best_value": "Min",
              "name": "HammingLoss"
             },
             {
              "best_value": "Min",
              "name": "MultiLogloss"
             }
            ],
            "test_sets": [
             "test"
            ]
           }
          },
          "passed_iterations": 199,
          "total_iterations": 200
         },
         "name": "catboost_info",
         "path": "catboost_info"
        }
       },
       "layout": "IPY_MODEL_b24ff29d5bef4a998ae9421761e34a22"
      }
     },
     "e41ff4b382cb40ef9edd5af9f278d5c6": {
      "model_module": "catboost-widget",
      "model_module_version": "^1.0.0",
      "model_name": "CatboostWidgetModel",
      "state": {
       "_model_module_version": "^1.0.0",
       "_view_module_version": "^1.0.0",
       "data": {
        "catboost_info": {
         "content": {
          "data": {
           "iterations": [
            {
             "iteration": 0,
             "learn": [
              0.2773333333,
              0.6819638889
             ],
             "passed_time": 0.002425665312,
             "remaining_time": 1.210406991,
             "test": [
              0.344,
              0.6864765719
             ]
            },
            {
             "iteration": 100,
             "learn": [
              0.03733333333,
              0.2991805437
             ],
             "passed_time": 0.2019748616,
             "remaining_time": 0.7979006908,
             "test": [
              0.2368,
              0.4993884612
             ]
            },
            {
             "iteration": 200,
             "learn": [
              0.01173333333,
              0.1852811102
             ],
             "passed_time": 0.4052569038,
             "remaining_time": 0.602844847,
             "test": [
              0.232,
              0.4691923427
             ]
            },
            {
             "iteration": 300,
             "learn": [
              0.001066666667,
              0.1184501606
             ],
             "passed_time": 0.5991157356,
             "remaining_time": 0.3960931275,
             "test": [
              0.2272,
              0.4645103213
             ]
            },
            {
             "iteration": 400,
             "learn": [
              0,
              0.07844645164
             ],
             "passed_time": 0.7894275716,
             "remaining_time": 0.1948960838,
             "test": [
              0.2256,
              0.4639350989
             ]
            },
            {
             "iteration": 499,
             "learn": [
              0,
              0.05613081252
             ],
             "passed_time": 0.9800220784,
             "remaining_time": 0,
             "test": [
              0.2256,
              0.468089423
             ]
            }
           ],
           "meta": {
            "iteration_count": 500,
            "launch_mode": "Train",
            "learn_metrics": [
             {
              "best_value": "Min",
              "name": "HammingLoss"
             },
             {
              "best_value": "Min",
              "name": "MultiLogloss"
             }
            ],
            "learn_sets": [
             "learn"
            ],
            "name": "experiment",
            "parameters": "",
            "test_metrics": [
             {
              "best_value": "Min",
              "name": "HammingLoss"
             },
             {
              "best_value": "Min",
              "name": "MultiLogloss"
             }
            ],
            "test_sets": [
             "test"
            ]
           }
          },
          "passed_iterations": 499,
          "total_iterations": 500
         },
         "name": "catboost_info",
         "path": "catboost_info"
        }
       },
       "layout": "IPY_MODEL_f73baca4ec9448c5834df158e74fbc30"
      }
     },
     "ed70ffbe00764a07ba869b4bdc1a9b69": {
      "model_module": "catboost-widget",
      "model_module_version": "^1.0.0",
      "model_name": "CatboostWidgetModel",
      "state": {
       "_model_module_version": "^1.0.0",
       "_view_module_version": "^1.0.0",
       "data": {
        "catboost_info": {
         "content": {
          "data": {
           "iterations": [
            {
             "iteration": 0,
             "learn": [
              0.2773333333,
              0.6711176949
             ],
             "passed_time": 0.04978560758,
             "remaining_time": 4.92877515,
             "test": [
              0.344,
              0.6801993291
             ]
            },
            {
             "iteration": 10,
             "learn": [
              0.136,
              0.5201369688
             ],
             "passed_time": 0.07077100319,
             "remaining_time": 0.5726017531,
             "test": [
              0.264,
              0.5971185624
             ]
            },
            {
             "iteration": 20,
             "learn": [
              0.1024,
              0.4311718254
             ],
             "passed_time": 0.09102551589,
             "remaining_time": 0.3424293217,
             "test": [
              0.264,
              0.5496488081
             ]
            },
            {
             "iteration": 30,
             "learn": [
              0.0672,
              0.3682296719
             ],
             "passed_time": 0.110306537,
             "remaining_time": 0.2455210016,
             "test": [
              0.2592,
              0.5247084956
             ]
            },
            {
             "iteration": 40,
             "learn": [
              0.05493333333,
              0.3303586459
             ],
             "passed_time": 0.1301765495,
             "remaining_time": 0.1873272298,
             "test": [
              0.2416,
              0.5099497852
             ]
            },
            {
             "iteration": 50,
             "learn": [
              0.0384,
              0.2935984787
             ],
             "passed_time": 0.1493878501,
             "remaining_time": 0.1435295031,
             "test": [
              0.2416,
              0.5009650535
             ]
            },
            {
             "iteration": 60,
             "learn": [
              0.02826666667,
              0.2638782999
             ],
             "passed_time": 0.170026147,
             "remaining_time": 0.1087052415,
             "test": [
              0.2352,
              0.4927416593
             ]
            },
            {
             "iteration": 70,
             "learn": [
              0.01866666667,
              0.2386194957
             ],
             "passed_time": 0.1915696948,
             "remaining_time": 0.07824677674,
             "test": [
              0.2256,
              0.4849765658
             ]
            },
            {
             "iteration": 80,
             "learn": [
              0.01386666667,
              0.2162537556
             ],
             "passed_time": 0.2104813313,
             "remaining_time": 0.04937216413,
             "test": [
              0.2272,
              0.4805763938
             ]
            },
            {
             "iteration": 90,
             "learn": [
              0.008,
              0.1962628747
             ],
             "passed_time": 0.2303022902,
             "remaining_time": 0.02277714958,
             "test": [
              0.2304,
              0.4748161375
             ]
            },
            {
             "iteration": 99,
             "learn": [
              0.008,
              0.1797072267
             ],
             "passed_time": 0.2482319646,
             "remaining_time": 0,
             "test": [
              0.2352,
              0.4750089002
             ]
            }
           ],
           "meta": {
            "iteration_count": 100,
            "launch_mode": "Train",
            "learn_metrics": [
             {
              "best_value": "Min",
              "name": "HammingLoss"
             },
             {
              "best_value": "Min",
              "name": "MultiLogloss"
             }
            ],
            "learn_sets": [
             "learn"
            ],
            "name": "experiment",
            "parameters": "",
            "test_metrics": [
             {
              "best_value": "Min",
              "name": "HammingLoss"
             },
             {
              "best_value": "Min",
              "name": "MultiLogloss"
             }
            ],
            "test_sets": [
             "test"
            ]
           }
          },
          "passed_iterations": 99,
          "total_iterations": 100
         },
         "name": "catboost_info",
         "path": "catboost_info"
        }
       },
       "layout": "IPY_MODEL_bb2da29177c84beb9becf1e6eeb06850"
      }
     },
     "f73baca4ec9448c5834df158e74fbc30": {
      "model_module": "@jupyter-widgets/base",
      "model_module_version": "1.2.0",
      "model_name": "LayoutModel",
      "state": {
       "align_self": "stretch",
       "height": "500px"
      }
     },
     "f84e88ed35d247bdae0c61bcf959d867": {
      "model_module": "catboost-widget",
      "model_module_version": "^1.0.0",
      "model_name": "CatboostWidgetModel",
      "state": {
       "_model_module_version": "^1.0.0",
       "_view_module_version": "^1.0.0",
       "data": {
        "catboost_info": {
         "content": {
          "data": {
           "iterations": [
            {
             "iteration": 0,
             "learn": [
              0.2773333333,
              0.6819638889
             ],
             "passed_time": 0.002865908233,
             "remaining_time": 1.430088208,
             "test": [
              0.344,
              0.6864765719
             ]
            },
            {
             "iteration": 10,
             "learn": [
              0.1578666667,
              0.5946150295
             ],
             "passed_time": 0.02578325263,
             "remaining_time": 1.146182776,
             "test": [
              0.2992,
              0.6361408142
             ]
            },
            {
             "iteration": 20,
             "learn": [
              0.1354666667,
              0.5304873203
             ],
             "passed_time": 0.04532770673,
             "remaining_time": 1.033903406,
             "test": [
              0.2704,
              0.5992994213
             ]
            },
            {
             "iteration": 30,
             "learn": [
              0.1130666667,
              0.4791730478
             ],
             "passed_time": 0.06592302236,
             "remaining_time": 0.9973515318,
             "test": [
              0.2576,
              0.5724926316
             ]
            },
            {
             "iteration": 40,
             "learn": [
              0.1002666667,
              0.441754772
             ],
             "passed_time": 0.0860714518,
             "remaining_time": 0.9635803994,
             "test": [
              0.2656,
              0.5547267526
             ]
            },
            {
             "iteration": 50,
             "learn": [
              0.08853333333,
              0.4073145517
             ],
             "passed_time": 0.1057639681,
             "remaining_time": 0.9311376796,
             "test": [
              0.2528,
              0.5422049135
             ]
            },
            {
             "iteration": 60,
             "learn": [
              0.07253333333,
              0.380462574
             ],
             "passed_time": 0.1251838296,
             "remaining_time": 0.9009131342,
             "test": [
              0.2464,
              0.5306588046
             ]
            },
            {
             "iteration": 70,
             "learn": [
              0.06506666667,
              0.355915903
             ],
             "passed_time": 0.1435845357,
             "remaining_time": 0.8675741663,
             "test": [
              0.2528,
              0.5210598608
             ]
            },
            {
             "iteration": 80,
             "learn": [
              0.05066666667,
              0.3356506476
             ],
             "passed_time": 0.1616552911,
             "remaining_time": 0.8362168762,
             "test": [
              0.24,
              0.5121646478
             ]
            },
            {
             "iteration": 90,
             "learn": [
              0.0448,
              0.3156901765
             ],
             "passed_time": 0.1797810265,
             "remaining_time": 0.8080268116,
             "test": [
              0.2384,
              0.5051036744
             ]
            },
            {
             "iteration": 100,
             "learn": [
              0.03733333333,
              0.2991805437
             ],
             "passed_time": 0.1971135866,
             "remaining_time": 0.778696248,
             "test": [
              0.2368,
              0.4993884612
             ]
            },
            {
             "iteration": 110,
             "learn": [
              0.03466666667,
              0.2834008246
             ],
             "passed_time": 0.2152823854,
             "remaining_time": 0.7544580893,
             "test": [
              0.2384,
              0.4952916811
             ]
            },
            {
             "iteration": 120,
             "learn": [
              0.0304,
              0.2698132191
             ],
             "passed_time": 0.2341200276,
             "remaining_time": 0.7333181029,
             "test": [
              0.2368,
              0.4913668018
             ]
            },
            {
             "iteration": 130,
             "learn": [
              0.0256,
              0.2563700253
             ],
             "passed_time": 0.2522277548,
             "remaining_time": 0.7104735995,
             "test": [
              0.2352,
              0.4876878111
             ]
            },
            {
             "iteration": 140,
             "learn": [
              0.02293333333,
              0.2439729567
             ],
             "passed_time": 0.2717036722,
             "remaining_time": 0.6917845272,
             "test": [
              0.2352,
              0.4836837155
             ]
            },
            {
             "iteration": 150,
             "learn": [
              0.0192,
              0.232564523
             ],
             "passed_time": 0.2923456177,
             "remaining_time": 0.6756862291,
             "test": [
              0.2336,
              0.4815211433
             ]
            },
            {
             "iteration": 160,
             "learn": [
              0.01546666667,
              0.2226749882
             ],
             "passed_time": 0.3116631133,
             "remaining_time": 0.6562347541,
             "test": [
              0.2384,
              0.4764760347
             ]
            },
            {
             "iteration": 170,
             "learn": [
              0.01546666667,
              0.2128314951
             ],
             "passed_time": 0.3317669587,
             "remaining_time": 0.6383118678,
             "test": [
              0.2368,
              0.4752202441
             ]
            },
            {
             "iteration": 180,
             "learn": [
              0.01386666667,
              0.2021416034
             ],
             "passed_time": 0.3524213143,
             "remaining_time": 0.621118228,
             "test": [
              0.2336,
              0.4728755126
             ]
            },
            {
             "iteration": 190,
             "learn": [
              0.01386666667,
              0.1946291165
             ],
             "passed_time": 0.3731514629,
             "remaining_time": 0.6036848274,
             "test": [
              0.2304,
              0.4708116677
             ]
            },
            {
             "iteration": 200,
             "learn": [
              0.01173333333,
              0.1852811102
             ],
             "passed_time": 0.3934729362,
             "remaining_time": 0.5853154623,
             "test": [
              0.232,
              0.4691923427
             ]
            },
            {
             "iteration": 210,
             "learn": [
              0.01013333333,
              0.1770495981
             ],
             "passed_time": 0.4155355039,
             "remaining_time": 0.5691457849,
             "test": [
              0.2352,
              0.467785653
             ]
            },
            {
             "iteration": 220,
             "learn": [
              0.007466666667,
              0.1685295998
             ],
             "passed_time": 0.4365972766,
             "remaining_time": 0.5511793673,
             "test": [
              0.2336,
              0.4668820995
             ]
            },
            {
             "iteration": 230,
             "learn": [
              0.005333333333,
              0.1597919127
             ],
             "passed_time": 0.4564502996,
             "remaining_time": 0.5315373618,
             "test": [
              0.2288,
              0.4667799242
             ]
            },
            {
             "iteration": 240,
             "learn": [
              0.003733333333,
              0.1519751833
             ],
             "passed_time": 0.4772952939,
             "remaining_time": 0.5129439051,
             "test": [
              0.2288,
              0.464581952
             ]
            },
            {
             "iteration": 250,
             "learn": [
              0.002666666667,
              0.1456202343
             ],
             "passed_time": 0.4978481266,
             "remaining_time": 0.4938812093,
             "test": [
              0.2272,
              0.4638361532
             ]
            },
            {
             "iteration": 260,
             "learn": [
              0.002133333333,
              0.1395507531
             ],
             "passed_time": 0.5180263596,
             "remaining_time": 0.4743613025,
             "test": [
              0.2272,
              0.4629756248
             ]
            },
            {
             "iteration": 270,
             "learn": [
              0.002133333333,
              0.133783079
             ],
             "passed_time": 0.5386249047,
             "remaining_time": 0.4551479822,
             "test": [
              0.224,
              0.4632026935
             ]
            },
            {
             "iteration": 280,
             "learn": [
              0.002133333333,
              0.1283802408
             ],
             "passed_time": 0.5596716286,
             "remaining_time": 0.4361853618,
             "test": [
              0.2288,
              0.463965094
             ]
            },
            {
             "iteration": 290,
             "learn": [
              0.002133333333,
              0.1234040355
             ],
             "passed_time": 0.5821192635,
             "remaining_time": 0.4180856566,
             "test": [
              0.2224,
              0.4640969474
             ]
            },
            {
             "iteration": 300,
             "learn": [
              0.001066666667,
              0.1184501606
             ],
             "passed_time": 0.6042145836,
             "remaining_time": 0.3994641267,
             "test": [
              0.2272,
              0.4645103213
             ]
            },
            {
             "iteration": 310,
             "learn": [
              0.0005333333333,
              0.1124916889
             ],
             "passed_time": 0.6222984576,
             "remaining_time": 0.3781813778,
             "test": [
              0.2304,
              0.4624598836
             ]
            },
            {
             "iteration": 320,
             "learn": [
              0.0005333333333,
              0.1082899731
             ],
             "passed_time": 0.6415590544,
             "remaining_time": 0.3577541144,
             "test": [
              0.2288,
              0.4617169615
             ]
            },
            {
             "iteration": 330,
             "learn": [
              0.0005333333333,
              0.1039949634
             ],
             "passed_time": 0.6608510661,
             "remaining_time": 0.3374133842,
             "test": [
              0.2272,
              0.4615457777
             ]
            },
            {
             "iteration": 340,
             "learn": [
              0.0005333333333,
              0.09985940187
             ],
             "passed_time": 0.679386985,
             "remaining_time": 0.3167816147,
             "test": [
              0.2256,
              0.4612445679
             ]
            },
            {
             "iteration": 350,
             "learn": [
              0.0005333333333,
              0.09565169483
             ],
             "passed_time": 0.6983040238,
             "remaining_time": 0.2964310528,
             "test": [
              0.2272,
              0.4609920827
             ]
            },
            {
             "iteration": 360,
             "learn": [
              0.0005333333333,
              0.09155155507
             ],
             "passed_time": 0.7171841537,
             "remaining_time": 0.2761456991,
             "test": [
              0.2288,
              0.4604461966
             ]
            },
            {
             "iteration": 370,
             "learn": [
              0,
              0.08780257892
             ],
             "passed_time": 0.7362929853,
             "remaining_time": 0.2560156202,
             "test": [
              0.224,
              0.4609240237
             ]
            },
            {
             "iteration": 380,
             "learn": [
              0,
              0.08404576868
             ],
             "passed_time": 0.7554191988,
             "remaining_time": 0.2359445792,
             "test": [
              0.2256,
              0.4627247789
             ]
            },
            {
             "iteration": 390,
             "learn": [
              0,
              0.0812876346
             ],
             "passed_time": 0.7743180185,
             "remaining_time": 0.2158584757,
             "test": [
              0.2256,
              0.4634528307
             ]
            },
            {
             "iteration": 400,
             "learn": [
              0,
              0.07844645164
             ],
             "passed_time": 0.7934480524,
             "remaining_time": 0.1958886713,
             "test": [
              0.2256,
              0.4639350989
             ]
            },
            {
             "iteration": 410,
             "learn": [
              0,
              0.07578980094
             ],
             "passed_time": 0.8137449163,
             "remaining_time": 0.1762124028,
             "test": [
              0.2224,
              0.4634189921
             ]
            },
            {
             "iteration": 420,
             "learn": [
              0,
              0.07331291368
             ],
             "passed_time": 0.832313938,
             "remaining_time": 0.1561824254,
             "test": [
              0.224,
              0.464336247
             ]
            },
            {
             "iteration": 430,
             "learn": [
              0,
              0.07061626235
             ],
             "passed_time": 0.8511202932,
             "remaining_time": 0.1362582372,
             "test": [
              0.2224,
              0.4650140382
             ]
            },
            {
             "iteration": 440,
             "learn": [
              0,
              0.0683289396
             ],
             "passed_time": 0.8746895477,
             "remaining_time": 0.1170219576,
             "test": [
              0.2192,
              0.4656816944
             ]
            },
            {
             "iteration": 450,
             "learn": [
              0,
              0.06577003947
             ],
             "passed_time": 0.8944303196,
             "remaining_time": 0.09717757353,
             "test": [
              0.2208,
              0.4663074431
             ]
            },
            {
             "iteration": 460,
             "learn": [
              0,
              0.06351794489
             ],
             "passed_time": 0.9162674886,
             "remaining_time": 0.077515037,
             "test": [
              0.2208,
              0.4655884787
             ]
            },
            {
             "iteration": 470,
             "learn": [
              0,
              0.06133784345
             ],
             "passed_time": 0.934965877,
             "remaining_time": 0.05756690113,
             "test": [
              0.2224,
              0.4656641991
             ]
            },
            {
             "iteration": 480,
             "learn": [
              0,
              0.0598297354
             ],
             "passed_time": 0.953335318,
             "remaining_time": 0.03765773606,
             "test": [
              0.2224,
              0.4666044344
             ]
            },
            {
             "iteration": 490,
             "learn": [
              0,
              0.05781055742
             ],
             "passed_time": 0.9721853494,
             "remaining_time": 0.01782009805,
             "test": [
              0.2224,
              0.4666416957
             ]
            },
            {
             "iteration": 499,
             "learn": [
              0,
              0.05613081252
             ],
             "passed_time": 0.9887949128,
             "remaining_time": 0,
             "test": [
              0.2256,
              0.468089423
             ]
            }
           ],
           "meta": {
            "iteration_count": 500,
            "launch_mode": "Train",
            "learn_metrics": [
             {
              "best_value": "Min",
              "name": "HammingLoss"
             },
             {
              "best_value": "Min",
              "name": "MultiLogloss"
             }
            ],
            "learn_sets": [
             "learn"
            ],
            "name": "experiment",
            "parameters": "",
            "test_metrics": [
             {
              "best_value": "Min",
              "name": "HammingLoss"
             },
             {
              "best_value": "Min",
              "name": "MultiLogloss"
             }
            ],
            "test_sets": [
             "test"
            ]
           }
          },
          "passed_iterations": 499,
          "total_iterations": 500
         },
         "name": "catboost_info",
         "path": "catboost_info"
        }
       },
       "layout": "IPY_MODEL_d86321e804af4061a89647233c4b8850"
      }
     },
     "fa28e0c65fea42b78cb3a27328382060": {
      "model_module": "catboost-widget",
      "model_module_version": "^1.0.0",
      "model_name": "CatboostWidgetModel",
      "state": {
       "_model_module_version": "^1.0.0",
       "_view_module_version": "^1.0.0",
       "data": {
        "catboost_info": {
         "content": {
          "data": {
           "iterations": [
            {
             "iteration": 0,
             "learn": [
              0.2773333333,
              0.6819638889
             ],
             "passed_time": 0.005574403699,
             "remaining_time": 2.781627446,
             "test": [
              0.344,
              0.6864765719
             ]
            },
            {
             "iteration": 10,
             "learn": [
              0.1578666667,
              0.5946150295
             ],
             "passed_time": 0.04117247992,
             "remaining_time": 1.83030388,
             "test": [
              0.2992,
              0.6361408142
             ]
            },
            {
             "iteration": 20,
             "learn": [
              0.1354666667,
              0.5304873203
             ],
             "passed_time": 0.06995232678,
             "remaining_time": 1.595579263,
             "test": [
              0.2704,
              0.5992994213
             ]
            },
            {
             "iteration": 30,
             "learn": [
              0.1130666667,
              0.4791730478
             ],
             "passed_time": 0.09229629745,
             "remaining_time": 1.396353661,
             "test": [
              0.2576,
              0.5724926316
             ]
            },
            {
             "iteration": 40,
             "learn": [
              0.1002666667,
              0.441754772
             ],
             "passed_time": 0.1505291638,
             "remaining_time": 1.685192346,
             "test": [
              0.2656,
              0.5547267526
             ]
            },
            {
             "iteration": 50,
             "learn": [
              0.08853333333,
              0.4073145517
             ],
             "passed_time": 0.1788364697,
             "remaining_time": 1.574462253,
             "test": [
              0.2528,
              0.5422049135
             ]
            },
            {
             "iteration": 60,
             "learn": [
              0.07253333333,
              0.380462574
             ],
             "passed_time": 0.2028129323,
             "remaining_time": 1.459588152,
             "test": [
              0.2464,
              0.5306588046
             ]
            },
            {
             "iteration": 70,
             "learn": [
              0.06506666667,
              0.355915903
             ],
             "passed_time": 0.2279377775,
             "remaining_time": 1.377257839,
             "test": [
              0.2528,
              0.5210598608
             ]
            },
            {
             "iteration": 80,
             "learn": [
              0.05066666667,
              0.3356506476
             ],
             "passed_time": 0.2546595002,
             "remaining_time": 1.317312723,
             "test": [
              0.24,
              0.5121646478
             ]
            },
            {
             "iteration": 90,
             "learn": [
              0.0448,
              0.3156901765
             ],
             "passed_time": 0.2860194448,
             "remaining_time": 1.285515966,
             "test": [
              0.2384,
              0.5051036744
             ]
            },
            {
             "iteration": 100,
             "learn": [
              0.03733333333,
              0.2991805437
             ],
             "passed_time": 0.3205725495,
             "remaining_time": 1.26642027,
             "test": [
              0.2368,
              0.4993884612
             ]
            },
            {
             "iteration": 110,
             "learn": [
              0.03466666667,
              0.2834008246
             ],
             "passed_time": 0.3495222766,
             "remaining_time": 1.224902393,
             "test": [
              0.2384,
              0.4952916811
             ]
            },
            {
             "iteration": 120,
             "learn": [
              0.0304,
              0.2698132191
             ],
             "passed_time": 0.3784851738,
             "remaining_time": 1.185503148,
             "test": [
              0.2368,
              0.4913668018
             ]
            },
            {
             "iteration": 130,
             "learn": [
              0.0256,
              0.2563700253
             ],
             "passed_time": 0.4047728119,
             "remaining_time": 1.140161585,
             "test": [
              0.2352,
              0.4876878111
             ]
            },
            {
             "iteration": 140,
             "learn": [
              0.02293333333,
              0.2439729567
             ],
             "passed_time": 0.4336149951,
             "remaining_time": 1.104026832,
             "test": [
              0.2352,
              0.4836837155
             ]
            },
            {
             "iteration": 150,
             "learn": [
              0.0192,
              0.232564523
             ],
             "passed_time": 0.459027331,
             "remaining_time": 1.060930719,
             "test": [
              0.2336,
              0.4815211433
             ]
            },
            {
             "iteration": 160,
             "learn": [
              0.01546666667,
              0.2226749882
             ],
             "passed_time": 0.4822585444,
             "remaining_time": 1.015438798,
             "test": [
              0.2384,
              0.4764760347
             ]
            },
            {
             "iteration": 170,
             "learn": [
              0.01546666667,
              0.2128314951
             ],
             "passed_time": 0.5079451083,
             "remaining_time": 0.9772745066,
             "test": [
              0.2368,
              0.4752202441
             ]
            },
            {
             "iteration": 180,
             "learn": [
              0.01386666667,
              0.2021416034
             ],
             "passed_time": 0.5380774616,
             "remaining_time": 0.9483243661,
             "test": [
              0.2336,
              0.4728755126
             ]
            },
            {
             "iteration": 190,
             "learn": [
              0.01386666667,
              0.1946291165
             ],
             "passed_time": 0.5691969721,
             "remaining_time": 0.9208474575,
             "test": [
              0.2304,
              0.4708116677
             ]
            },
            {
             "iteration": 200,
             "learn": [
              0.01173333333,
              0.1852811102
             ],
             "passed_time": 0.5992623849,
             "remaining_time": 0.8914400651,
             "test": [
              0.232,
              0.4691923427
             ]
            },
            {
             "iteration": 210,
             "learn": [
              0.01013333333,
              0.1770495981
             ],
             "passed_time": 0.624314495,
             "remaining_time": 0.8551037395,
             "test": [
              0.2352,
              0.467785653
             ]
            },
            {
             "iteration": 220,
             "learn": [
              0.007466666667,
              0.1685295998
             ],
             "passed_time": 0.6475443146,
             "remaining_time": 0.8174880714,
             "test": [
              0.2336,
              0.4668820995
             ]
            },
            {
             "iteration": 230,
             "learn": [
              0.005333333333,
              0.1597919127
             ],
             "passed_time": 0.6759374504,
             "remaining_time": 0.787130624,
             "test": [
              0.2288,
              0.4667799242
             ]
            },
            {
             "iteration": 240,
             "learn": [
              0.003733333333,
              0.1519751833
             ],
             "passed_time": 0.7098419002,
             "remaining_time": 0.7628591376,
             "test": [
              0.2288,
              0.464581952
             ]
            },
            {
             "iteration": 250,
             "learn": [
              0.002666666667,
              0.1456202343
             ],
             "passed_time": 0.7356508448,
             "remaining_time": 0.7297890851,
             "test": [
              0.2272,
              0.4638361532
             ]
            },
            {
             "iteration": 260,
             "learn": [
              0.002133333333,
              0.1395507531
             ],
             "passed_time": 0.764061983,
             "remaining_time": 0.6996582909,
             "test": [
              0.2272,
              0.4629756248
             ]
            },
            {
             "iteration": 270,
             "learn": [
              0.002133333333,
              0.133783079
             ],
             "passed_time": 0.814479948,
             "remaining_time": 0.6882505834,
             "test": [
              0.224,
              0.4632026935
             ]
            },
            {
             "iteration": 280,
             "learn": [
              0.002133333333,
              0.1283802408
             ],
             "passed_time": 0.8353553244,
             "remaining_time": 0.65104205,
             "test": [
              0.2288,
              0.463965094
             ]
            },
            {
             "iteration": 290,
             "learn": [
              0.002133333333,
              0.1234040355
             ],
             "passed_time": 0.8632057368,
             "remaining_time": 0.6199656323,
             "test": [
              0.2224,
              0.4640969474
             ]
            },
            {
             "iteration": 300,
             "learn": [
              0.001066666667,
              0.1184501606
             ],
             "passed_time": 0.9020018666,
             "remaining_time": 0.5963401045,
             "test": [
              0.2272,
              0.4645103213
             ]
            },
            {
             "iteration": 310,
             "learn": [
              0.0005333333333,
              0.1124916889
             ],
             "passed_time": 0.9358967425,
             "remaining_time": 0.5687603998,
             "test": [
              0.2304,
              0.4624598836
             ]
            },
            {
             "iteration": 320,
             "learn": [
              0.0005333333333,
              0.1082899731
             ],
             "passed_time": 0.9615184975,
             "remaining_time": 0.5361738662,
             "test": [
              0.2288,
              0.4617169615
             ]
            },
            {
             "iteration": 330,
             "learn": [
              0.0005333333333,
              0.1039949634
             ],
             "passed_time": 0.9849502624,
             "remaining_time": 0.5028900132,
             "test": [
              0.2272,
              0.4615457777
             ]
            },
            {
             "iteration": 340,
             "learn": [
              0.0005333333333,
              0.09985940187
             ],
             "passed_time": 1.011966852,
             "remaining_time": 0.4718555117,
             "test": [
              0.2256,
              0.4612445679
             ]
            },
            {
             "iteration": 350,
             "learn": [
              0.0005333333333,
              0.09565169483
             ],
             "passed_time": 1.034977077,
             "remaining_time": 0.4393492437,
             "test": [
              0.2272,
              0.4609920827
             ]
            },
            {
             "iteration": 360,
             "learn": [
              0.0005333333333,
              0.09155155507
             ],
             "passed_time": 1.075471609,
             "remaining_time": 0.4141012565,
             "test": [
              0.2288,
              0.4604461966
             ]
            },
            {
             "iteration": 370,
             "learn": [
              0,
              0.08780257892
             ],
             "passed_time": 1.122730313,
             "remaining_time": 0.3903833165,
             "test": [
              0.224,
              0.4609240237
             ]
            },
            {
             "iteration": 380,
             "learn": [
              0,
              0.08404576868
             ],
             "passed_time": 1.169091752,
             "remaining_time": 0.3651493923,
             "test": [
              0.2256,
              0.4627247789
             ]
            },
            {
             "iteration": 390,
             "learn": [
              0,
              0.0812876346
             ],
             "passed_time": 1.194928009,
             "remaining_time": 0.3331129233,
             "test": [
              0.2256,
              0.4634528307
             ]
            },
            {
             "iteration": 400,
             "learn": [
              0,
              0.07844645164
             ],
             "passed_time": 1.219365304,
             "remaining_time": 0.301040312,
             "test": [
              0.2256,
              0.4639350989
             ]
            },
            {
             "iteration": 410,
             "learn": [
              0,
              0.07578980094
             ],
             "passed_time": 1.241250817,
             "remaining_time": 0.2687866732,
             "test": [
              0.2224,
              0.4634189921
             ]
            },
            {
             "iteration": 420,
             "learn": [
              0,
              0.07331291368
             ],
             "passed_time": 1.265384143,
             "remaining_time": 0.2374473807,
             "test": [
              0.224,
              0.464336247
             ]
            },
            {
             "iteration": 430,
             "learn": [
              0,
              0.07061626235
             ],
             "passed_time": 1.288027857,
             "remaining_time": 0.2062039957,
             "test": [
              0.2224,
              0.4650140382
             ]
            },
            {
             "iteration": 440,
             "learn": [
              0,
              0.0683289396
             ],
             "passed_time": 1.308932913,
             "remaining_time": 0.1751180087,
             "test": [
              0.2192,
              0.4656816944
             ]
            },
            {
             "iteration": 450,
             "learn": [
              0,
              0.06577003947
             ],
             "passed_time": 1.334091347,
             "remaining_time": 0.144945623,
             "test": [
              0.2208,
              0.4663074431
             ]
            },
            {
             "iteration": 460,
             "learn": [
              0,
              0.06351794489
             ],
             "passed_time": 1.361168484,
             "remaining_time": 0.1151530822,
             "test": [
              0.2208,
              0.4655884787
             ]
            },
            {
             "iteration": 470,
             "learn": [
              0,
              0.06133784345
             ],
             "passed_time": 1.388414091,
             "remaining_time": 0.08548621794,
             "test": [
              0.2224,
              0.4656641991
             ]
            },
            {
             "iteration": 480,
             "learn": [
              0,
              0.0598297354
             ],
             "passed_time": 1.416772116,
             "remaining_time": 0.05596397131,
             "test": [
              0.2224,
              0.4666044344
             ]
            },
            {
             "iteration": 490,
             "learn": [
              0,
              0.05781055742
             ],
             "passed_time": 1.441148067,
             "remaining_time": 0.02641615602,
             "test": [
              0.2224,
              0.4666416957
             ]
            },
            {
             "iteration": 499,
             "learn": [
              0,
              0.05613081252
             ],
             "passed_time": 1.464995453,
             "remaining_time": 0,
             "test": [
              0.2256,
              0.468089423
             ]
            }
           ],
           "meta": {
            "iteration_count": 500,
            "launch_mode": "Train",
            "learn_metrics": [
             {
              "best_value": "Min",
              "name": "HammingLoss"
             },
             {
              "best_value": "Min",
              "name": "MultiLogloss"
             }
            ],
            "learn_sets": [
             "learn"
            ],
            "name": "experiment",
            "parameters": "",
            "test_metrics": [
             {
              "best_value": "Min",
              "name": "HammingLoss"
             },
             {
              "best_value": "Min",
              "name": "MultiLogloss"
             }
            ],
            "test_sets": [
             "test"
            ]
           }
          },
          "passed_iterations": 499,
          "total_iterations": 500
         },
         "name": "catboost_info",
         "path": "catboost_info"
        }
       },
       "layout": "IPY_MODEL_404c320d1d244bfaaced360c4e95a111"
      }
     }
    },
    "version_major": 2,
    "version_minor": 0
   }
  }
 },
 "nbformat": 4,
 "nbformat_minor": 5
}
