{
 "cells": [
  {
   "cell_type": "markdown",
   "metadata": {},
   "source": [
    "# Tutorial of base functions "
   ]
  },
  {
   "cell_type": "markdown",
   "metadata": {},
   "source": [
    "For classification you will need to use `CatBoostClassifier`."
   ]
  },
  {
   "cell_type": "markdown",
   "metadata": {},
   "source": [
    "### Binary classification"
   ]
  },
  {
   "cell_type": "markdown",
   "metadata": {},
   "source": [
    "There are several `loss_function`s to use:\n",
    "\n",
    "* `Logloss`,\n",
    "* `CrossEntropy`,\n",
    "* or a custom objective function."
   ]
  },
  {
   "cell_type": "code",
   "execution_count": 1,
   "metadata": {
    "collapsed": true
   },
   "outputs": [],
   "source": [
    "from catboost import CatBoostClassifier"
   ]
  },
  {
   "cell_type": "code",
   "execution_count": 2,
   "metadata": {
    "collapsed": true
   },
   "outputs": [],
   "source": [
    "# Initialize data\n",
    "cat_features = [0,1,2] # indices for cat_features\n",
    "train_data = [[\"a\",\"b\",1,4,5,6],[\"a\",\"b\",4,5,6,7],[\"c\",\"d\",30,40,50,60]] # cat_features should be string or int\n",
    "train_labels = [1,1,-1]\n",
    "test_data = [[\"a\",\"b\",2,4,6,8],[\"a\",\"d\",1,4,50,60]]"
   ]
  },
  {
   "cell_type": "code",
   "execution_count": 3,
   "metadata": {},
   "outputs": [
    {
     "data": {
      "text/plain": [
       "<catboost.core._CatBoostBase at 0x7fef490130d0>"
      ]
     },
     "execution_count": 3,
     "metadata": {},
     "output_type": "execute_result"
    }
   ],
   "source": [
    "# Initialize CatBoostClassifier\n",
    "model = CatBoostClassifier(iterations=2, learning_rate=1, depth=2, loss_function='Logloss')\n",
    "# Fit model\n",
    "model.fit(train_data, train_labels, cat_features)"
   ]
  },
  {
   "cell_type": "code",
   "execution_count": 4,
   "metadata": {},
   "outputs": [
    {
     "name": "stdout",
     "output_type": "stream",
     "text": [
      "[ 1.  1.]\n"
     ]
    }
   ],
   "source": [
    "# Get predicted classes\n",
    "preds_class = model.predict(test_data)\n",
    "# Get predicted probabilities for each class\n",
    "preds_proba = model.predict_proba(test_data)\n",
    "# Get predicted RawFormulaVal\n",
    "preds_raw = model.predict(test_data, prediction_type='RawFormulaVal')\n",
    "print(preds_class)"
   ]
  },
  {
   "cell_type": "markdown",
   "metadata": {},
   "source": [
    "For Multiclassification use `loss_function='MultiClass'`."
   ]
  },
  {
   "cell_type": "code",
   "execution_count": 5,
   "metadata": {
    "collapsed": true
   },
   "outputs": [],
   "source": [
    "from sklearn.datasets import load_iris\n",
    "iris = load_iris()"
   ]
  },
  {
   "cell_type": "code",
   "execution_count": 6,
   "metadata": {
    "collapsed": true
   },
   "outputs": [],
   "source": [
    "from sklearn.model_selection import train_test_split\n",
    "x_tr, x_te, y_tr, y_te = train_test_split(iris.data, iris.target, test_size=0.3, random_state=42)"
   ]
  },
  {
   "cell_type": "code",
   "execution_count": 7,
   "metadata": {},
   "outputs": [
    {
     "data": {
      "text/plain": [
       "<catboost.core._CatBoostBase at 0x7fef2ccbe8d0>"
      ]
     },
     "execution_count": 7,
     "metadata": {},
     "output_type": "execute_result"
    }
   ],
   "source": [
    "# Initialize CatBoostClassifier\n",
    "model = CatBoostClassifier(iterations=100, learning_rate=1, depth=6, loss_function='MultiClass', class_count=3)\n",
    "# Fit model\n",
    "model.fit(x_tr, y_tr)"
   ]
  },
  {
   "cell_type": "code",
   "execution_count": 8,
   "metadata": {},
   "outputs": [
    {
     "name": "stdout",
     "output_type": "stream",
     "text": [
      "accuracy = 1.0\n",
      "log_loss = 0.00283929430891\n"
     ]
    }
   ],
   "source": [
    "from sklearn.metrics import accuracy_score, log_loss\n",
    "# Get predicted classes\n",
    "preds_class = model.predict(x_te)\n",
    "print(\"accuracy = {}\".format(accuracy_score(y_te, preds_class)))\n",
    "# Get predicted probabilities for each class\n",
    "preds_proba = model.predict_proba(x_te)\n",
    "print(\"log_loss = {}\".format(log_loss(y_te, preds_proba)))"
   ]
  },
  {
   "cell_type": "markdown",
   "metadata": {},
   "source": [
    "Also you can use pre-training results (baseline)."
   ]
  },
  {
   "cell_type": "markdown",
   "metadata": {},
   "source": [
    "The results (only `raw_values`, not probability or class) can be set as baseline for the new model.\n",
    "The shape of the baseline depends on the machine learning problem being solved:\n",
    "\n",
    "* Classification: a two-dimensional array with `shape = (length of data, number of classes)`\n",
    "* Regression: a one-dimensional array."
   ]
  },
  {
   "cell_type": "code",
   "execution_count": 9,
   "metadata": {},
   "outputs": [
    {
     "data": {
      "text/plain": [
       "<catboost.core._CatBoostBase at 0x7fef2ccbe8d0>"
      ]
     },
     "execution_count": 9,
     "metadata": {},
     "output_type": "execute_result"
    }
   ],
   "source": [
    "# Get baseline (only with prediction_type='RawFormulaVal')\n",
    "baseline = model.predict(x_tr, prediction_type='RawFormulaVal')\n",
    "# Fit new model\n",
    "model.fit(x_tr, y_tr, baseline=baseline)"
   ]
  },
  {
   "cell_type": "markdown",
   "metadata": {},
   "source": [
    "### Using object weights"
   ]
  },
  {
   "cell_type": "markdown",
   "metadata": {},
   "source": [
    "The weight for each object in the input data can be set in the form of a one-dimensional array like data (length = data length).\n",
    "The weight is used for calculating the final values of the trees. By default, it is set to 1 for all objects."
   ]
  },
  {
   "cell_type": "code",
   "execution_count": 10,
   "metadata": {},
   "outputs": [
    {
     "data": {
      "text/plain": [
       "<catboost.core._CatBoostBase at 0x7fef2ccbe8d0>"
      ]
     },
     "execution_count": 10,
     "metadata": {},
     "output_type": "execute_result"
    }
   ],
   "source": [
    "import numpy as np\n",
    "weight = np.random.random(len(x_tr))\n",
    "model.fit(x_tr, y_tr, sample_weight=weight)"
   ]
  },
  {
   "cell_type": "markdown",
   "metadata": {},
   "source": [
    "### Using best model"
   ]
  },
  {
   "cell_type": "markdown",
   "metadata": {},
   "source": [
    "If this parameter is set, the number of trees that are saved in the resulting model is defined as follows:\n",
    "Build the number of trees defined by the training parameters.\n",
    "Identify the iteration with the optimal loss function value.\n",
    "No trees are saved after this iteration.\n",
    "The `eval_set` parameter is obligatory for the `fit` method if the best model mode is on.\n",
    "`eval_set` should have the same values for the following training dataset parameters:\n",
    "\n",
    "* `cat_features`\n",
    "* `baseline` (if set)."
   ]
  },
  {
   "cell_type": "code",
   "execution_count": 11,
   "metadata": {},
   "outputs": [
    {
     "data": {
      "text/plain": [
       "<catboost.core._CatBoostBase at 0x7fef2ccbe8d0>"
      ]
     },
     "execution_count": 11,
     "metadata": {},
     "output_type": "execute_result"
    }
   ],
   "source": [
    "eval_set = (x_te, y_te)\n",
    "model.fit(x_tr, y_tr, use_best_model=True, eval_set=eval_set)"
   ]
  },
  {
   "cell_type": "markdown",
   "metadata": {},
   "source": [
    "### Using `staged_predict`"
   ]
  },
  {
   "cell_type": "markdown",
   "metadata": {},
   "source": [
    "The values of the model can be output for each i-th tree of the model by taking into consideration only the trees in the range [1;i].\n",
    "This feature is implemented via the `staged_predict` method (available in the `CatBoostClassifier` and `CatBoostRegressor` classes)."
   ]
  },
  {
   "cell_type": "code",
   "execution_count": 12,
   "metadata": {
    "collapsed": true
   },
   "outputs": [],
   "source": [
    "staged_predictions = model.staged_predict(x_te)\n",
    "# It is equivalent to use predict() with `ntree_limit` in loop\n",
    "staged_predictions = []\n",
    "for i in range(1, model.get_tree_count()+1):\n",
    "    staged_predictions.append(model.predict(x_te, ntree_limit=i))"
   ]
  },
  {
   "cell_type": "markdown",
   "metadata": {},
   "source": [
    "### Custom objective function"
   ]
  },
  {
   "cell_type": "markdown",
   "metadata": {},
   "source": [
    "A custom objective function can be used by specifying a python object as the value for the `loss_function` parameter. In this case the objective is always maximized.\n",
    "Depending on the machine learning problem the python object should have one of the following functions defined:\n",
    "\n",
    "* `calc_ders_range`\n",
    "* `calc_ders_multi(approxes, target, weight)` (for multiclassification)"
   ]
  },
  {
   "cell_type": "code",
   "execution_count": 13,
   "metadata": {
    "collapsed": true
   },
   "outputs": [],
   "source": [
    "import math\n",
    "class LoglossObjective(object):\n",
    "    def calc_ders_range(self, approxes, targets, weights):\n",
    "        # approxes, targets, weights are indexed containers of floats (containers with only __len__ and __getitem__ defined).\n",
    "        # weights parameter can be None.\n",
    "        # Returns list of pairs (der1, der2)\n",
    "        assert len(approxes) == len(targets)\n",
    "        if weights is not None:\n",
    "            assert len(weights) == len(approxes)\n",
    "\n",
    "        result = []\n",
    "        for index in xrange(len(targets)):\n",
    "            e = math.exp(approxes[index])\n",
    "            p = e / (1 + e)\n",
    "            der1 = (1 - p) if targets[index] > 0.0 else -p\n",
    "            der2 = -p * (1 - p)\n",
    "\n",
    "            if weights is not None:\n",
    "                der1 *= weights[index]\n",
    "                der2 *= weights[index]\n",
    "\n",
    "            result.append((der1, der2))\n",
    "\n",
    "        return result"
   ]
  },
  {
   "cell_type": "code",
   "execution_count": 14,
   "metadata": {
    "collapsed": true
   },
   "outputs": [],
   "source": [
    "model = CatBoostClassifier(random_seed=0, loss_function=LoglossObjective(), eval_metric=\"Logloss\")\n",
    "# Fit model\n",
    "model.fit(x_tr, y_tr)\n",
    "# Only prediction_type='RawFormulaVal' allowed with custom `loss_function`\n",
    "preds_raw = model.predict(x_te, prediction_type='RawFormulaVal') "
   ]
  },
  {
   "cell_type": "markdown",
   "metadata": {},
   "source": [
    "### Custom loss function for overfitting detector and best model selection"
   ]
  },
  {
   "cell_type": "markdown",
   "metadata": {},
   "source": [
    "To set a custom loss function for overfitting detector and best model selection, create an object that implements the following interface:"
   ]
  },
  {
   "cell_type": "code",
   "execution_count": 15,
   "metadata": {
    "collapsed": true
   },
   "outputs": [],
   "source": [
    "class CustomMetric(object):\n",
    "    def get_final_error(self, error, weight):\n",
    "        return 0.0\n",
    "\n",
    "    def is_max_optimal(self):\n",
    "        return True\n",
    "\n",
    "    def evaluate(self, approxes, target, weight):\n",
    "        # approxes - list of list-like objects (one object per approx dimension)\n",
    "        # target - list-like object\n",
    "        # weight - list-like object, can be None\n",
    "        return 0.0, 0.0"
   ]
  },
  {
   "cell_type": "markdown",
   "metadata": {},
   "source": [
    "The following is an example of an implementation of the Logloss function:"
   ]
  },
  {
   "cell_type": "code",
   "execution_count": 16,
   "metadata": {
    "collapsed": true
   },
   "outputs": [],
   "source": [
    "import math\n",
    "class LoglossMetric(object):\n",
    "    def get_final_error(self, error, weight):\n",
    "        return error / (weight + 1e-38)\n",
    "\n",
    "    def is_max_optimal(self):\n",
    "        return True\n",
    "\n",
    "    def evaluate(self, approxes, target, weight):\n",
    "        # approxes is list of indexed containers (containers with only __len__ and __getitem__ defined), one container\n",
    "        # per approx dimension. Each container contains floats.\n",
    "        # weight is one dimensional indexed container.\n",
    "        # target is float.\n",
    "        \n",
    "        # weight parameter can be None.\n",
    "        # Returns pair (error, weights sum)\n",
    "        \n",
    "        assert len(approxes) == 1\n",
    "        assert len(target) == len(approxes[0])\n",
    "\n",
    "        approx = approxes[0]\n",
    "\n",
    "        error_sum = 0.0\n",
    "        weight_sum = 0.0\n",
    "\n",
    "        for i in xrange(len(approx)):\n",
    "            w = 1.0 if weight is None else weight[i]\n",
    "            weight_sum += w\n",
    "            error_sum += w * (target[i] * approx[i] - math.log(1 + math.exp(approx[i])))\n",
    "\n",
    "        return error_sum, weight_sum\n"
   ]
  },
  {
   "cell_type": "code",
   "execution_count": 17,
   "metadata": {},
   "outputs": [
    {
     "data": {
      "text/plain": [
       "<catboost.core._CatBoostBase at 0x7fef2ccbecd0>"
      ]
     },
     "execution_count": 17,
     "metadata": {},
     "output_type": "execute_result"
    }
   ],
   "source": [
    "model = CatBoostClassifier(iterations=5, random_seed=0, eval_metric=LoglossMetric())\n",
    "model.fit(x_tr, y_tr, use_best_model=True, eval_set=(x_te, y_te))"
   ]
  },
  {
   "cell_type": "markdown",
   "metadata": {},
   "source": [
    "Pass the created object to the `eval_metric` parameter:"
   ]
  },
  {
   "cell_type": "code",
   "execution_count": 18,
   "metadata": {},
   "outputs": [
    {
     "data": {
      "text/plain": [
       "<catboost.core._CatBoostBase at 0x7fef2ccbee50>"
      ]
     },
     "execution_count": 18,
     "metadata": {},
     "output_type": "execute_result"
    }
   ],
   "source": [
    "model = CatBoostClassifier(eval_metric=CustomMetric())\n",
    "model.fit(x_tr, y_tr, use_best_model=True, eval_set=(x_te, y_te))"
   ]
  },
  {
   "cell_type": "markdown",
   "metadata": {},
   "source": [
    "Use cross validation:"
   ]
  },
  {
   "cell_type": "code",
   "execution_count": 19,
   "metadata": {
    "collapsed": true
   },
   "outputs": [],
   "source": [
    "# From catboost\n",
    "from catboost import cv, Pool\n",
    "pool = Pool(x_tr, y_tr)\n",
    "params = {'iterations': 100, 'depth': 2, 'loss_function': 'MultiClass', 'classes_count': 3}\n",
    "scores = cv(params, pool)"
   ]
  },
  {
   "cell_type": "markdown",
   "metadata": {},
   "source": [
    "`cv` returns the following structure:"
   ]
  },
  {
   "cell_type": "code",
   "execution_count": 20,
   "metadata": {},
   "outputs": [
    {
     "data": {
      "text/plain": [
       "['MultiClass_test_stddev',\n",
       " 'MultiClass_test_avg',\n",
       " 'MultiClass_train_stddev',\n",
       " 'MultiClass_train_avg']"
      ]
     },
     "execution_count": 20,
     "metadata": {},
     "output_type": "execute_result"
    }
   ],
   "source": [
    "scores.keys()"
   ]
  },
  {
   "cell_type": "markdown",
   "metadata": {},
   "source": [
    "Each of the arrays contains loss in each iteration (like `staged_predict`):"
   ]
  },
  {
   "cell_type": "code",
   "execution_count": 21,
   "metadata": {},
   "outputs": [
    {
     "name": "stderr",
     "output_type": "stream",
     "text": [
      "/usr/lib/python2.7/site-packages/sklearn/base.py:122: DeprecationWarning: Estimator CatBoostClassifier modifies parameters in __init__. This behavior is deprecated as of 0.18 and support for this behavior will be removed in 0.20.\n",
      "  % type(estimator).__name__, DeprecationWarning)\n",
      "/usr/lib/python2.7/site-packages/sklearn/base.py:122: DeprecationWarning: Estimator CatBoostClassifier modifies parameters in __init__. This behavior is deprecated as of 0.18 and support for this behavior will be removed in 0.20.\n",
      "  % type(estimator).__name__, DeprecationWarning)\n",
      "/usr/lib/python2.7/site-packages/sklearn/base.py:122: DeprecationWarning: Estimator CatBoostClassifier modifies parameters in __init__. This behavior is deprecated as of 0.18 and support for this behavior will be removed in 0.20.\n",
      "  % type(estimator).__name__, DeprecationWarning)\n"
     ]
    }
   ],
   "source": [
    "# From sklearn\n",
    "from sklearn.model_selection import cross_val_score\n",
    "\n",
    "model = CatBoostClassifier(iterations=400, loss_function='MultiClass', custom_loss='Accuracy')\n",
    "scores = cross_val_score(model, x_tr, y_tr, scoring='accuracy', n_jobs=-1, fit_params=None)"
   ]
  },
  {
   "cell_type": "markdown",
   "metadata": {},
   "source": [
    "Also catboost support `GridSearchCV` from `sklearn`:"
   ]
  },
  {
   "cell_type": "code",
   "execution_count": 22,
   "metadata": {
    "scrolled": true
   },
   "outputs": [
    {
     "name": "stdout",
     "output_type": "stream",
     "text": [
      "['mean_fit_time', 'mean_score_time', 'mean_test_score', 'mean_train_score', 'param_depth', 'param_iterations', 'param_learning_rate', 'params', 'rank_test_score', 'split0_test_score', 'split0_train_score', 'split1_test_score', 'split1_train_score', 'split2_test_score', 'split2_train_score', 'std_fit_time', 'std_score_time', 'std_test_score', 'std_train_score']\n"
     ]
    }
   ],
   "source": [
    "from sklearn.model_selection import GridSearchCV\n",
    "\n",
    "# Initialize\n",
    "model = CatBoostClassifier(loss_function='MultiClass')\n",
    "# Init params dict\n",
    "params = {'iterations': [10, 20, 30], 'learning_rate': [0.01, 0.03, 0.1], 'depth': [4, 6, 8]}\n",
    "# Get GridSearchCV\n",
    "model = GridSearchCV(model, params)\n",
    "model.fit(x_tr, y_tr)\n",
    "print(sorted(model.cv_results_.keys()))"
   ]
  },
  {
   "cell_type": "markdown",
   "metadata": {},
   "source": [
    "Save model to file:"
   ]
  },
  {
   "cell_type": "code",
   "execution_count": 23,
   "metadata": {
    "collapsed": true
   },
   "outputs": [],
   "source": [
    "model = CatBoostClassifier(iterations=400, loss_function='MultiClass', custom_loss='Accuracy')\n",
    "model.fit(x_tr, y_tr)\n",
    "model.save_model('model')"
   ]
  },
  {
   "cell_type": "markdown",
   "metadata": {},
   "source": [
    "Load model:"
   ]
  },
  {
   "cell_type": "code",
   "execution_count": 24,
   "metadata": {},
   "outputs": [
    {
     "data": {
      "text/plain": [
       "<catboost.core._CatBoostBase at 0x7fef2ccf0990>"
      ]
     },
     "execution_count": 24,
     "metadata": {},
     "output_type": "execute_result"
    }
   ],
   "source": [
    "model.load_model('model')"
   ]
  },
  {
   "cell_type": "markdown",
   "metadata": {},
   "source": [
    "Copy model:"
   ]
  },
  {
   "cell_type": "code",
   "execution_count": 25,
   "metadata": {
    "collapsed": true
   },
   "outputs": [],
   "source": [
    "model_copy = model.copy()"
   ]
  },
  {
   "cell_type": "markdown",
   "metadata": {},
   "source": [
    "Get `feature_importance`:"
   ]
  },
  {
   "cell_type": "code",
   "execution_count": 26,
   "metadata": {},
   "outputs": [
    {
     "name": "stdout",
     "output_type": "stream",
     "text": [
      "[4.973526825847308, 7.756613813169838, 37.880971405202125, 49.38888795578073]\n"
     ]
    }
   ],
   "source": [
    "# for get attr feature_importance_ you should add parameter `calc_feature_importance=True` to model\n",
    "model = CatBoostClassifier(iterations=400, loss_function='MultiClass', calc_feature_importance=True)\n",
    "model.fit(x_tr, y_tr)\n",
    "print(model.feature_importance_)"
   ]
  },
  {
   "cell_type": "markdown",
   "metadata": {},
   "source": [
    "Get `feature_importances` for another pool:"
   ]
  },
  {
   "cell_type": "code",
   "execution_count": 27,
   "metadata": {},
   "outputs": [
    {
     "data": {
      "text/plain": [
       "[5.227821977439592, 9.019461810746307, 36.27108359203802, 49.48163261977607]"
      ]
     },
     "execution_count": 27,
     "metadata": {},
     "output_type": "execute_result"
    }
   ],
   "source": [
    "model.feature_importances(x_te, y_te)"
   ]
  },
  {
   "cell_type": "markdown",
   "metadata": {},
   "source": [
    "Get model params:"
   ]
  },
  {
   "cell_type": "code",
   "execution_count": 28,
   "metadata": {},
   "outputs": [
    {
     "data": {
      "text/plain": [
       "{'auto_stop_pval': 0,\n",
       " 'calc_feature_importance': True,\n",
       " 'depth': 6,\n",
       " 'eval_metric': u'MultiClass',\n",
       " 'feature_border_type': u'MinEntropy',\n",
       " 'gradient_iterations': 1,\n",
       " 'has_time': False,\n",
       " 'iterations': 400,\n",
       " 'l2_leaf_reg': 3,\n",
       " 'leaf_estimation_method': u'Newton',\n",
       " 'learning_rate': 0.03,\n",
       " 'loss_function': u'MultiClass',\n",
       " 'name': u'experiment',\n",
       " 'random_seed': 28913834111283,\n",
       " 'random_strength': 1,\n",
       " 'rsm': 1,\n",
       " 'store_all_simple_ctr': False,\n",
       " 'thread_count': 4,\n",
       " 'use_best_model': False,\n",
       " 'verbose': False}"
      ]
     },
     "execution_count": 28,
     "metadata": {},
     "output_type": "execute_result"
    }
   ],
   "source": [
    "# with this params model was fitted\n",
    "model.get_params()"
   ]
  },
  {
   "cell_type": "markdown",
   "metadata": {},
   "source": [
    "Get model init params:"
   ]
  },
  {
   "cell_type": "code",
   "execution_count": 29,
   "metadata": {},
   "outputs": [
    {
     "data": {
      "text/plain": [
       "{'auto_stop_pval': 0,\n",
       " 'calc_feature_importance': True,\n",
       " 'depth': 6,\n",
       " 'feature_border_type': 'MinEntropy',\n",
       " 'has_time': False,\n",
       " 'iterations': 400,\n",
       " 'l2_leaf_reg': 3,\n",
       " 'learning_rate': 0.03,\n",
       " 'loss_function': 'MultiClass',\n",
       " 'name': 'experiment',\n",
       " 'random_strength': 1,\n",
       " 'rsm': 1,\n",
       " 'store_all_simple_ctr': False,\n",
       " 'use_best_model': False,\n",
       " 'verbose': False}"
      ]
     },
     "execution_count": 29,
     "metadata": {},
     "output_type": "execute_result"
    }
   ],
   "source": [
    "# with this params model was initialized\n",
    "model.get_init_params()"
   ]
  }
 ],
 "metadata": {
  "kernelspec": {
   "display_name": "Python 2",
   "language": "python2",
   "name": "python2"
  },
  "language_info": {
   "codemirror_mode": {
    "name": "ipython",
    "version": 2
   },
   "file_extension": ".py",
   "mimetype": "text/x-python",
   "name": "python",
   "nbconvert_exporter": "python",
   "pygments_lexer": "ipython2",
   "version": "2.7.13"
  }
 },
 "nbformat": 4,
 "nbformat_minor": 2
}
