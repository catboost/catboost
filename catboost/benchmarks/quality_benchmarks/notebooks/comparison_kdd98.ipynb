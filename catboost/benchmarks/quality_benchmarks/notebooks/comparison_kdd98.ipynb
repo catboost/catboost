{
 "cells": [
  {
   "cell_type": "markdown",
   "metadata": {
    "deletable": true,
    "editable": true
   },
   "source": [
    "# Comparing algorithms on the Kdd98 dataset\n",
    "The data is taken from [this source](https://kdd.ics.uci.edu/databases/kddcup98/kddcup98.html)."
   ]
  },
  {
   "cell_type": "markdown",
   "metadata": {
    "deletable": true,
    "editable": true
   },
   "source": [
    "For details on running the comparison, see [this article](https://github.com/catboost/benchmarks/blob/master/quality_benchmarks/comparison_description.pdf)."
   ]
  },
  {
   "cell_type": "code",
   "execution_count": 2,
   "metadata": {
    "collapsed": true,
    "deletable": true,
    "editable": true
   },
   "outputs": [],
   "source": [
    "from experiment import Experiment\n",
    "from xgboost_experiment import XGBExperiment\n",
    "from lightgbm_experiment import LGBExperiment\n",
    "from catboost_experiment import CABExperiment"
   ]
  },
  {
   "cell_type": "markdown",
   "metadata": {
    "deletable": true,
    "editable": true
   },
   "source": [
    "Load the dataset and set parameters for the experiment."
   ]
  },
  {
   "cell_type": "code",
   "execution_count": 3,
   "metadata": {
    "collapsed": true,
    "deletable": true,
    "editable": true
   },
   "outputs": [],
   "source": [
    "learning_task = 'classification'\n",
    "dataset_path = '/media/pool_storage/tsnet-pools-converted/kdd98_part/'\n",
    "n_estimators = 5000\n",
    "max_hyperopt_evals = 50\n",
    "\n",
    "experiment = Experiment(learning_task, train_path=dataset_path + 'train_full3',\n",
    "                        test_path=dataset_path + 'test3', cd_path = dataset_path + 'train_full3.cd')\n",
    "X_train, y_train, X_test, y_test, cat_cols = experiment.read_data()"
   ]
  },
  {
   "cell_type": "markdown",
   "metadata": {
    "deletable": true,
    "editable": true
   },
   "source": [
    "Write a function that does the following:\n",
    "\n",
    "**Preprocess the dataset:**\n",
    "calculate counter values on the training set, transform cat features (for the `XGBoost` and `LightGBM` algorithms), and convert the data to the format of the algorithm. Do the same thing with all pairs after splitting them into cross validation folds.\n",
    "\n",
    "**Select the optimal number of trees for the algorithm with the default parameters:** for each fold and each number of trees, get the result of the algorithm trained on the other four folds, average the results for each number of trees, and choose the best one. \n",
    "\n",
    "**Assess the quality of the algorithm with the default parameters on a test dataset:** train the algorithm with the number of trees obtained in the previous step, and calculate the metric value on the test dataset.\n",
    "\n",
    "**Tune parameters for the algorithm using `Hyperopt`:** on each `Hyperopt` iteration of the algorithm, the best value of trees is selected and the metric for cross validation is calculated.\n",
    "\n",
    "**Show results on the test dataset for the algorithm with the tuned parameters:** train the algorithm with the optimal parameters and the number of trees obtained in the previous step, and calculate the metric value on the test dataset."
   ]
  },
  {
   "cell_type": "code",
   "execution_count": 4,
   "metadata": {
    "collapsed": true,
    "deletable": true,
    "editable": true
   },
   "outputs": [],
   "source": [
    "import numpy as np\n",
    "\n",
    "def run_experiment(Experiment, title):\n",
    "    experiment = Experiment(learning_task, max_hyperopt_evals=max_hyperopt_evals,\n",
    "                            n_estimators=n_estimators)\n",
    "    cv_pairs, (dtrain, dtest) = experiment.split_and_preprocess(X_train.copy(), y_train, \n",
    "                                                                X_test.copy(), y_test, \n",
    "                                                                cat_cols, n_splits=5)\n",
    " \n",
    "    default_cv_result = experiment.run_cv(cv_pairs)\n",
    "    experiment.print_result(default_cv_result, 'Default {} result on cv'.format(title))\n",
    "\n",
    "    print('\\n~~~~~~~~~~~~~~~~~~~~~~~~~~~~~~~~~~~~~~~~~~~~~~~~~~~~\\n')\n",
    "\n",
    "    default_test_losses = []\n",
    "    for seed in range(5):\n",
    "        test_result = experiment.run_test(dtrain, dtest, X_test, params=default_cv_result['params'],\n",
    "                                          n_estimators=default_cv_result['best_n_estimators'], seed=seed)\n",
    "        default_test_losses.append(test_result['loss'])\n",
    "        print 'For seed=%d Test\\'s %s : %.5f' % (seed, experiment.metric, default_test_losses[-1])\n",
    "    print '\\nTest\\'s %s mean: %.5f, Test\\'s %s std: %.5f' % (experiment.metric, np.mean(default_test_losses),\n",
    "                                                             experiment.metric, np.std(default_test_losses))\n",
    "\n",
    "    print('\\n~~~~~~~~~~~~~~~~~~~~~~~~~~~~~~~~~~~~~~~~~~~~~~~~~~~~\\n')\n",
    "    print('Hyperopt iterations:\\n\\n')\n",
    "\n",
    "    tuned_cv_result = experiment.optimize_params(cv_pairs)\n",
    "\n",
    "    print('\\n~~~~~~~~~~~~~~~~~~~~~~~~~~~~~~~~~~~~~~~~~~~~~~~~~~~~\\n')\n",
    "\n",
    "    experiment.print_result(tuned_cv_result, 'Tuned {} result on cv'.format(title))\n",
    "\n",
    "    print('\\n~~~~~~~~~~~~~~~~~~~~~~~~~~~~~~~~~~~~~~~~~~~~~~~~~~~~\\n')\n",
    "\n",
    "    tuned_test_losses = []\n",
    "    for seed in range(5):\n",
    "        test_result = experiment.run_test(dtrain, dtest, X_test, params=tuned_cv_result['params'],\n",
    "                                          n_estimators=tuned_cv_result['best_n_estimators'], seed=seed)\n",
    "        tuned_test_losses.append(test_result['loss'])\n",
    "        print 'For seed=%d Test\\'s %s : %.5f' % (seed, experiment.metric, tuned_test_losses[-1])\n",
    "    print '\\nTest\\'s %s mean: %.5f, Test\\'s %s std: %.5f' % (experiment.metric, np.mean(tuned_test_losses),\n",
    "                                                             experiment.metric, np.std(tuned_test_losses))\n",
    "\n",
    "    return np.mean(default_test_losses), np.mean(tuned_test_losses)"
   ]
  },
  {
   "cell_type": "markdown",
   "metadata": {
    "deletable": true,
    "editable": true
   },
   "source": [
    "## `XGBoost`"
   ]
  },
  {
   "cell_type": "code",
   "execution_count": 7,
   "metadata": {
    "collapsed": false,
    "deletable": true,
    "editable": true
   },
   "outputs": [
    {
     "name": "stdout",
     "output_type": "stream",
     "text": [
      "Default XGBoost result on cv:\n",
      "\n",
      "logloss = 0.1975232\n",
      "best_n_estimators = 14\n",
      "params = {'colsample_bytree': 1.0, 'silent': 1, 'eval_metric': 'logloss', 'colsample_bylevel': 1.0, 'min_child_weight': 1, 'subsample': 1.0, 'eta': 0.3, 'objective': 'binary:logistic', 'alpha': 0, 'seed': 0, 'max_depth': 6, 'gamma': 0, 'lambda': 1}\n",
      "\n",
      "~~~~~~~~~~~~~~~~~~~~~~~~~~~~~~~~~~~~~~~~~~~~~~~~~~~~\n",
      "\n",
      "Default XGBoost result on test:\n",
      "\n",
      "For seed=0 Test's logloss : 0.197949\n",
      "For seed=1 Test's logloss : 0.197949\n",
      "For seed=2 Test's logloss : 0.197949\n",
      "For seed=3 Test's logloss : 0.197949\n",
      "For seed=4 Test's logloss : 0.197949\n",
      "\n",
      "Test's logloss mean: 0.197949, Test's logloss std: 0.000000\n",
      "\n",
      "~~~~~~~~~~~~~~~~~~~~~~~~~~~~~~~~~~~~~~~~~~~~~~~~~~~~\n",
      "\n",
      "Hyperopt iterations:\n",
      "\n",
      "[1/50]\teval_time=4295.28 sec\tcurrent_logloss=0.195393\tmin_logloss=0.195393\n",
      "[2/50]\teval_time=4436.20 sec\tcurrent_logloss=0.195671\tmin_logloss=0.195393\n",
      "[3/50]\teval_time=2845.32 sec\tcurrent_logloss=0.199949\tmin_logloss=0.195393\n",
      "[4/50]\teval_time=1688.25 sec\tcurrent_logloss=0.195488\tmin_logloss=0.195393\n",
      "[5/50]\teval_time=2317.07 sec\tcurrent_logloss=0.195236\tmin_logloss=0.195236\n",
      "[6/50]\teval_time=2891.34 sec\tcurrent_logloss=0.195278\tmin_logloss=0.195236\n",
      "[7/50]\teval_time=4427.36 sec\tcurrent_logloss=0.201480\tmin_logloss=0.195236\n",
      "[8/50]\teval_time=4201.03 sec\tcurrent_logloss=0.195576\tmin_logloss=0.195236\n",
      "[9/50]\teval_time=2779.64 sec\tcurrent_logloss=0.195191\tmin_logloss=0.195191\n",
      "[10/50]\teval_time=8354.08 sec\tcurrent_logloss=0.196146\tmin_logloss=0.195191\n",
      "[11/50]\teval_time=1716.99 sec\tcurrent_logloss=0.196787\tmin_logloss=0.195191\n",
      "[12/50]\teval_time=5226.02 sec\tcurrent_logloss=0.197976\tmin_logloss=0.195191\n",
      "[13/50]\teval_time=2587.79 sec\tcurrent_logloss=0.197473\tmin_logloss=0.195191\n",
      "[14/50]\teval_time=3180.63 sec\tcurrent_logloss=0.195337\tmin_logloss=0.195191\n",
      "[15/50]\teval_time=6125.45 sec\tcurrent_logloss=0.196336\tmin_logloss=0.195191\n",
      "[16/50]\teval_time=3129.36 sec\tcurrent_logloss=0.195259\tmin_logloss=0.195191\n",
      "[17/50]\teval_time=4668.34 sec\tcurrent_logloss=0.195887\tmin_logloss=0.195191\n",
      "[18/50]\teval_time=1357.13 sec\tcurrent_logloss=0.195391\tmin_logloss=0.195191\n",
      "[19/50]\teval_time=1105.39 sec\tcurrent_logloss=0.195591\tmin_logloss=0.195191\n",
      "[20/50]\teval_time=2150.24 sec\tcurrent_logloss=0.198659\tmin_logloss=0.195191\n",
      "[21/50]\teval_time=3087.80 sec\tcurrent_logloss=0.195537\tmin_logloss=0.195191\n",
      "[22/50]\teval_time=3785.04 sec\tcurrent_logloss=0.195180\tmin_logloss=0.195180\n",
      "[23/50]\teval_time=3602.85 sec\tcurrent_logloss=0.195181\tmin_logloss=0.195180\n",
      "[24/50]\teval_time=4158.88 sec\tcurrent_logloss=0.195219\tmin_logloss=0.195180\n",
      "[25/50]\teval_time=3598.84 sec\tcurrent_logloss=0.195649\tmin_logloss=0.195180\n",
      "[26/50]\teval_time=4265.58 sec\tcurrent_logloss=0.195572\tmin_logloss=0.195180\n",
      "[27/50]\teval_time=3098.82 sec\tcurrent_logloss=0.195266\tmin_logloss=0.195180\n",
      "[28/50]\teval_time=5198.82 sec\tcurrent_logloss=0.195236\tmin_logloss=0.195180\n",
      "[29/50]\teval_time=3181.04 sec\tcurrent_logloss=0.196250\tmin_logloss=0.195180\n",
      "[30/50]\teval_time=2762.82 sec\tcurrent_logloss=0.195246\tmin_logloss=0.195180\n",
      "[31/50]\teval_time=6814.80 sec\tcurrent_logloss=0.195396\tmin_logloss=0.195180\n",
      "[32/50]\teval_time=1953.02 sec\tcurrent_logloss=0.200207\tmin_logloss=0.195180\n",
      "[33/50]\teval_time=3524.44 sec\tcurrent_logloss=0.195820\tmin_logloss=0.195180\n",
      "[34/50]\teval_time=1902.91 sec\tcurrent_logloss=0.195628\tmin_logloss=0.195180\n",
      "[35/50]\teval_time=2097.94 sec\tcurrent_logloss=0.195190\tmin_logloss=0.195180\n",
      "[36/50]\teval_time=6011.27 sec\tcurrent_logloss=0.196081\tmin_logloss=0.195180\n",
      "[37/50]\teval_time=4713.44 sec\tcurrent_logloss=0.196215\tmin_logloss=0.195180\n",
      "[38/50]\teval_time=3910.68 sec\tcurrent_logloss=0.203723\tmin_logloss=0.195180\n",
      "[39/50]\teval_time=2614.22 sec\tcurrent_logloss=0.195435\tmin_logloss=0.195180\n",
      "[40/50]\teval_time=3911.61 sec\tcurrent_logloss=0.195335\tmin_logloss=0.195180\n",
      "[41/50]\teval_time=2926.58 sec\tcurrent_logloss=0.195794\tmin_logloss=0.195180\n",
      "[42/50]\teval_time=3444.69 sec\tcurrent_logloss=0.195205\tmin_logloss=0.195180\n",
      "[43/50]\teval_time=2246.88 sec\tcurrent_logloss=0.195584\tmin_logloss=0.195180\n",
      "[44/50]\teval_time=5175.95 sec\tcurrent_logloss=0.195236\tmin_logloss=0.195180\n",
      "[45/50]\teval_time=3286.98 sec\tcurrent_logloss=0.195252\tmin_logloss=0.195180\n",
      "[46/50]\teval_time=3024.96 sec\tcurrent_logloss=0.194989\tmin_logloss=0.194989\n",
      "[47/50]\teval_time=3245.81 sec\tcurrent_logloss=0.195369\tmin_logloss=0.194989\n",
      "[48/50]\teval_time=2241.56 sec\tcurrent_logloss=0.195271\tmin_logloss=0.194989\n",
      "[49/50]\teval_time=2952.45 sec\tcurrent_logloss=0.195302\tmin_logloss=0.194989\n",
      "[50/50]\teval_time=3686.31 sec\tcurrent_logloss=0.195145\tmin_logloss=0.194989\n",
      "\n",
      "~~~~~~~~~~~~~~~~~~~~~~~~~~~~~~~~~~~~~~~~~~~~~~~~~~~~\n",
      "\n",
      "Tuned XGBoost result on cv:\n",
      "\n",
      "logloss = 0.1949888\n",
      "best_n_estimators = 1428\n",
      "params = {'colsample_bytree': 0.9272709253076927, 'silent': 1, 'eval_metric': 'logloss', 'colsample_bylevel': 0.9428687661260641, 'min_child_weight': 55.20383095723314, 'subsample': 0.5375380743608249, 'eta': 0.008667600654220845, 'objective': 'binary:logistic', 'alpha': 0, 'seed': 0, 'max_depth': 3, 'gamma': 0, 'lambda': 0.004382881503917905}\n",
      "\n",
      "~~~~~~~~~~~~~~~~~~~~~~~~~~~~~~~~~~~~~~~~~~~~~~~~~~~~\n",
      "\n",
      "Tuned XGBoost result on test:\n",
      "\n",
      "For seed=0 Test's logloss : 0.195637\n",
      "For seed=1 Test's logloss : 0.195632\n",
      "For seed=2 Test's logloss : 0.195661\n",
      "For seed=3 Test's logloss : 0.195687\n",
      "For seed=4 Test's logloss : 0.195769\n",
      "\n",
      "Test's logloss mean: 0.195677, Test's logloss std: 0.000050\n"
     ]
    }
   ],
   "source": [
    "xgb_default_test_result, xgb_tuned_test_result = run_experiment(XGBExperiment, \"XGBoost\")"
   ]
  },
  {
   "cell_type": "markdown",
   "metadata": {
    "deletable": true,
    "editable": true
   },
   "source": [
    "## `LightGBM`"
   ]
  },
  {
   "cell_type": "code",
   "execution_count": 8,
   "metadata": {
    "collapsed": false,
    "deletable": true,
    "editable": true
   },
   "outputs": [
    {
     "name": "stdout",
     "output_type": "stream",
     "text": [
      "Default LightGBM result on cv:\n",
      "\n",
      "logloss = 0.197665542842\n",
      "best_n_estimators = 43\n",
      "params = {'feature_fraction_seed': 0, 'num_leaves': 127, 'verbose': -1, 'bagging_seed': 0, 'lambda_l1': 0, 'drop_seed': 0, 'learning_rate': 0.1, 'lambda_l2': 0, 'data_random_seed': 0, 'bagging_fraction': 1.0, 'min_data_in_leaf': 100, 'max_bin': 255, 'objective': 'binary', 'bagging_freq': 1, 'metric': 'binary_logloss', 'min_sum_hessian_in_leaf': 10, 'feature_fraction': 1.0}\n",
      "\n",
      "~~~~~~~~~~~~~~~~~~~~~~~~~~~~~~~~~~~~~~~~~~~~~~~~~~~~\n",
      "\n",
      "Default LightGBM result on test:\n",
      "\n",
      "For seed=0 Test's logloss : 0.198369\n",
      "For seed=1 Test's logloss : 0.198369\n",
      "For seed=2 Test's logloss : 0.198369\n",
      "For seed=3 Test's logloss : 0.198369\n",
      "For seed=4 Test's logloss : 0.198369\n",
      "\n",
      "Test's logloss mean: 0.198369, Test's logloss std: 0.000000\n",
      "\n",
      "~~~~~~~~~~~~~~~~~~~~~~~~~~~~~~~~~~~~~~~~~~~~~~~~~~~~\n",
      "\n",
      "Hyperopt iterations:\n",
      "\n",
      "[1/50]\teval_time=420.49 sec\tcurrent_logloss=0.196272\tmin_logloss=0.196272\n",
      "[2/50]\teval_time=178.56 sec\tcurrent_logloss=0.195450\tmin_logloss=0.195450\n",
      "[3/50]\teval_time=616.20 sec\tcurrent_logloss=0.195454\tmin_logloss=0.195450\n",
      "[4/50]\teval_time=145.88 sec\tcurrent_logloss=0.196070\tmin_logloss=0.195450\n",
      "[5/50]\teval_time=419.04 sec\tcurrent_logloss=0.200589\tmin_logloss=0.195450\n",
      "[6/50]\teval_time=3615.08 sec\tcurrent_logloss=0.196989\tmin_logloss=0.195450\n",
      "[7/50]\teval_time=714.16 sec\tcurrent_logloss=0.195516\tmin_logloss=0.195450\n",
      "[8/50]\teval_time=176.85 sec\tcurrent_logloss=0.195466\tmin_logloss=0.195450\n",
      "[9/50]\teval_time=373.51 sec\tcurrent_logloss=0.195742\tmin_logloss=0.195450\n",
      "[10/50]\teval_time=496.53 sec\tcurrent_logloss=0.199978\tmin_logloss=0.195450\n",
      "[11/50]\teval_time=398.77 sec\tcurrent_logloss=0.195265\tmin_logloss=0.195265\n",
      "[12/50]\teval_time=575.91 sec\tcurrent_logloss=0.209175\tmin_logloss=0.195265\n",
      "[13/50]\teval_time=484.16 sec\tcurrent_logloss=0.210376\tmin_logloss=0.195265\n",
      "[14/50]\teval_time=216.68 sec\tcurrent_logloss=0.195476\tmin_logloss=0.195265\n",
      "[15/50]\teval_time=238.00 sec\tcurrent_logloss=0.198932\tmin_logloss=0.195265\n",
      "[16/50]\teval_time=341.03 sec\tcurrent_logloss=0.227824\tmin_logloss=0.195265\n",
      "[17/50]\teval_time=240.18 sec\tcurrent_logloss=0.200574\tmin_logloss=0.195265\n",
      "[18/50]\teval_time=1985.81 sec\tcurrent_logloss=0.196324\tmin_logloss=0.195265\n",
      "[19/50]\teval_time=1960.27 sec\tcurrent_logloss=0.197655\tmin_logloss=0.195265\n",
      "[20/50]\teval_time=825.63 sec\tcurrent_logloss=0.206486\tmin_logloss=0.195265\n",
      "[21/50]\teval_time=341.25 sec\tcurrent_logloss=0.195222\tmin_logloss=0.195222\n",
      "[22/50]\teval_time=349.65 sec\tcurrent_logloss=0.195193\tmin_logloss=0.195193\n",
      "[23/50]\teval_time=286.30 sec\tcurrent_logloss=0.195197\tmin_logloss=0.195193\n",
      "[24/50]\teval_time=258.09 sec\tcurrent_logloss=0.195335\tmin_logloss=0.195193\n",
      "[25/50]\teval_time=237.57 sec\tcurrent_logloss=0.195257\tmin_logloss=0.195193\n",
      "[26/50]\teval_time=325.98 sec\tcurrent_logloss=0.195748\tmin_logloss=0.195193\n",
      "[27/50]\teval_time=253.78 sec\tcurrent_logloss=0.195274\tmin_logloss=0.195193\n",
      "[28/50]\teval_time=201.21 sec\tcurrent_logloss=0.197183\tmin_logloss=0.195193\n",
      "[29/50]\teval_time=337.12 sec\tcurrent_logloss=0.195247\tmin_logloss=0.195193\n",
      "[30/50]\teval_time=277.74 sec\tcurrent_logloss=0.195407\tmin_logloss=0.195193\n",
      "[31/50]\teval_time=212.93 sec\tcurrent_logloss=0.195292\tmin_logloss=0.195193\n",
      "[32/50]\teval_time=278.63 sec\tcurrent_logloss=0.195092\tmin_logloss=0.195092\n",
      "[33/50]\teval_time=167.50 sec\tcurrent_logloss=0.195440\tmin_logloss=0.195092\n",
      "[34/50]\teval_time=253.88 sec\tcurrent_logloss=0.195270\tmin_logloss=0.195092\n",
      "[35/50]\teval_time=438.59 sec\tcurrent_logloss=0.195651\tmin_logloss=0.195092\n",
      "[36/50]\teval_time=714.21 sec\tcurrent_logloss=0.195650\tmin_logloss=0.195092\n",
      "[37/50]\teval_time=193.24 sec\tcurrent_logloss=0.195653\tmin_logloss=0.195092\n",
      "[38/50]\teval_time=233.01 sec\tcurrent_logloss=0.195202\tmin_logloss=0.195092\n",
      "[39/50]\teval_time=826.79 sec\tcurrent_logloss=0.198292\tmin_logloss=0.195092\n",
      "[40/50]\teval_time=429.70 sec\tcurrent_logloss=0.195198\tmin_logloss=0.195092\n",
      "[41/50]\teval_time=294.75 sec\tcurrent_logloss=0.195344\tmin_logloss=0.195092\n",
      "[42/50]\teval_time=163.62 sec\tcurrent_logloss=0.195237\tmin_logloss=0.195092\n",
      "[43/50]\teval_time=805.45 sec\tcurrent_logloss=0.195780\tmin_logloss=0.195092\n",
      "[44/50]\teval_time=369.92 sec\tcurrent_logloss=0.196972\tmin_logloss=0.195092\n",
      "[45/50]\teval_time=287.20 sec\tcurrent_logloss=0.196146\tmin_logloss=0.195092\n",
      "[46/50]\teval_time=283.91 sec\tcurrent_logloss=0.195237\tmin_logloss=0.195092\n",
      "[47/50]\teval_time=391.56 sec\tcurrent_logloss=0.195242\tmin_logloss=0.195092\n",
      "[48/50]\teval_time=125.08 sec\tcurrent_logloss=0.195350\tmin_logloss=0.195092\n",
      "[49/50]\teval_time=314.37 sec\tcurrent_logloss=0.196905\tmin_logloss=0.195092\n",
      "[50/50]\teval_time=1637.33 sec\tcurrent_logloss=0.195874\tmin_logloss=0.195092\n",
      "\n",
      "~~~~~~~~~~~~~~~~~~~~~~~~~~~~~~~~~~~~~~~~~~~~~~~~~~~~\n",
      "\n",
      "Tuned LightGBM result on cv:\n",
      "\n",
      "logloss = 0.195092218127\n",
      "best_n_estimators = 485\n",
      "params = {'num_leaves': 5, 'verbose': -1, 'bagging_seed': 0, 'metric': 'binary_logloss', 'data_random_seed': 0, 'min_data_in_leaf': 5, 'bagging_fraction': 0.7801172267397591, 'min_sum_hessian_in_leaf': 132.9945857111621, 'feature_fraction_seed': 0, 'lambda_l1': 0.0022903323397730152, 'bagging_freq': 1, 'lambda_l2': 0, 'objective': 'binary', 'drop_seed': 0, 'learning_rate': 0.029609632447460447, 'feature_fraction': 0.7235330841303137}\n",
      "\n",
      "~~~~~~~~~~~~~~~~~~~~~~~~~~~~~~~~~~~~~~~~~~~~~~~~~~~~\n",
      "\n",
      "Tuned LightGBM result on test:\n",
      "\n",
      "For seed=0 Test's logloss : 0.195671\n",
      "For seed=1 Test's logloss : 0.195861\n",
      "For seed=2 Test's logloss : 0.195678\n",
      "For seed=3 Test's logloss : 0.195752\n",
      "For seed=4 Test's logloss : 0.195833\n",
      "\n",
      "Test's logloss mean: 0.195759, Test's logloss std: 0.000078\n"
     ]
    }
   ],
   "source": [
    "lgb_default_test_result, lgb_tuned_test_result = run_experiment(LGBExperiment, \"LightGBM\")"
   ]
  },
  {
   "cell_type": "markdown",
   "metadata": {
    "deletable": true,
    "editable": true
   },
   "source": [
    "## `CatBoost`"
   ]
  },
  {
   "cell_type": "code",
   "execution_count": 9,
   "metadata": {
    "collapsed": false,
    "deletable": true,
    "editable": true
   },
   "outputs": [
    {
     "name": "stdout",
     "output_type": "stream",
     "text": [
      "Default CatBoost result on cv:\n",
      "\n",
      "logloss = 0.19485599806\n",
      "best_n_estimators = 683\n",
      "params = {'rsm': 1.0, 'iterations': 683, 'random_seed': 4, 'verbose': False, 'thread_count': 16, 'learning_rate': 0.03, 'ctr_description': ['Borders', 'CounterMax'], 'depth': 6, 'fold_len_multiplier': 2, 'loss_function': 'Logloss', 'ctr_border_count': 16, 'l2_leaf_reg': 3, 'leaf_estimation_method': 'Newton', 'gradient_iterations': 10, 'border_count': 128, 'used_ram_limit': 100000000000}\n",
      "\n",
      "~~~~~~~~~~~~~~~~~~~~~~~~~~~~~~~~~~~~~~~~~~~~~~~~~~~~\n",
      "\n",
      "Default CatBoost result on test:\n",
      "\n",
      "For seed=0 Test's logloss : 0.194616\n",
      "For seed=1 Test's logloss : 0.194756\n",
      "For seed=2 Test's logloss : 0.194924\n",
      "For seed=3 Test's logloss : 0.194871\n",
      "For seed=4 Test's logloss : 0.194803\n",
      "\n",
      "Test's logloss mean: 0.194794, Test's logloss std: 0.000106\n",
      "\n",
      "~~~~~~~~~~~~~~~~~~~~~~~~~~~~~~~~~~~~~~~~~~~~~~~~~~~~\n",
      "\n",
      "Hyperopt iterations:\n",
      "\n",
      "[1/50]\teval_time=4944.20 sec\tcurrent_logloss=0.194964\tmin_logloss=0.194964\n",
      "[2/50]\teval_time=12153.96 sec\tcurrent_logloss=0.195515\tmin_logloss=0.194964\n",
      "[3/50]\teval_time=4926.19 sec\tcurrent_logloss=0.195328\tmin_logloss=0.194964\n",
      "[4/50]\teval_time=4860.61 sec\tcurrent_logloss=0.195022\tmin_logloss=0.194964\n",
      "[5/50]\teval_time=11125.28 sec\tcurrent_logloss=0.194852\tmin_logloss=0.194852\n",
      "[6/50]\teval_time=4935.25 sec\tcurrent_logloss=0.194910\tmin_logloss=0.194852\n",
      "[7/50]\teval_time=5022.16 sec\tcurrent_logloss=0.195246\tmin_logloss=0.194852\n",
      "[8/50]\teval_time=5165.75 sec\tcurrent_logloss=0.195226\tmin_logloss=0.194852\n",
      "[9/50]\teval_time=12323.07 sec\tcurrent_logloss=0.196396\tmin_logloss=0.194852\n",
      "[10/50]\teval_time=12086.84 sec\tcurrent_logloss=0.194955\tmin_logloss=0.194852\n",
      "[11/50]\teval_time=11813.09 sec\tcurrent_logloss=0.194851\tmin_logloss=0.194851\n",
      "[12/50]\teval_time=12888.27 sec\tcurrent_logloss=0.195012\tmin_logloss=0.194851\n",
      "[13/50]\teval_time=4958.62 sec\tcurrent_logloss=0.195102\tmin_logloss=0.194851\n",
      "[14/50]\teval_time=5118.79 sec\tcurrent_logloss=0.195017\tmin_logloss=0.194851\n",
      "[15/50]\teval_time=12527.99 sec\tcurrent_logloss=0.194928\tmin_logloss=0.194851\n",
      "[16/50]\teval_time=5290.68 sec\tcurrent_logloss=0.195691\tmin_logloss=0.194851\n",
      "[17/50]\teval_time=12650.82 sec\tcurrent_logloss=0.195398\tmin_logloss=0.194851\n",
      "[18/50]\teval_time=12112.05 sec\tcurrent_logloss=0.194885\tmin_logloss=0.194851\n",
      "[19/50]\teval_time=4974.16 sec\tcurrent_logloss=0.195140\tmin_logloss=0.194851\n",
      "[20/50]\teval_time=5243.92 sec\tcurrent_logloss=0.195416\tmin_logloss=0.194851\n",
      "[21/50]\teval_time=11052.89 sec\tcurrent_logloss=0.194912\tmin_logloss=0.194851\n",
      "[22/50]\teval_time=11729.43 sec\tcurrent_logloss=0.194931\tmin_logloss=0.194851\n",
      "[23/50]\teval_time=11034.25 sec\tcurrent_logloss=0.194923\tmin_logloss=0.194851\n",
      "[24/50]\teval_time=12850.55 sec\tcurrent_logloss=0.196783\tmin_logloss=0.194851\n",
      "[25/50]\teval_time=10830.28 sec\tcurrent_logloss=0.194827\tmin_logloss=0.194827\n",
      "[26/50]\teval_time=11637.06 sec\tcurrent_logloss=0.194853\tmin_logloss=0.194827\n",
      "[27/50]\teval_time=12334.73 sec\tcurrent_logloss=0.195484\tmin_logloss=0.194827\n",
      "[28/50]\teval_time=12303.96 sec\tcurrent_logloss=0.194930\tmin_logloss=0.194827\n",
      "[29/50]\teval_time=12331.19 sec\tcurrent_logloss=0.195006\tmin_logloss=0.194827\n",
      "[30/50]\teval_time=11835.68 sec\tcurrent_logloss=0.194976\tmin_logloss=0.194827\n",
      "[31/50]\teval_time=12241.54 sec\tcurrent_logloss=0.195969\tmin_logloss=0.194827\n",
      "[32/50]\teval_time=12011.55 sec\tcurrent_logloss=0.194856\tmin_logloss=0.194827\n",
      "[33/50]\teval_time=11022.14 sec\tcurrent_logloss=0.194902\tmin_logloss=0.194827\n",
      "[34/50]\teval_time=11249.97 sec\tcurrent_logloss=0.194754\tmin_logloss=0.194754\n",
      "[35/50]\teval_time=12030.79 sec\tcurrent_logloss=0.194820\tmin_logloss=0.194754\n",
      "[36/50]\teval_time=11984.47 sec\tcurrent_logloss=0.194891\tmin_logloss=0.194754\n",
      "[37/50]\teval_time=11957.04 sec\tcurrent_logloss=0.194861\tmin_logloss=0.194754\n",
      "[38/50]\teval_time=12210.76 sec\tcurrent_logloss=0.195421\tmin_logloss=0.194754\n",
      "[39/50]\teval_time=12020.76 sec\tcurrent_logloss=0.194788\tmin_logloss=0.194754\n",
      "[40/50]\teval_time=5343.53 sec\tcurrent_logloss=0.196141\tmin_logloss=0.194754\n",
      "[41/50]\teval_time=12044.76 sec\tcurrent_logloss=0.195008\tmin_logloss=0.194754\n",
      "[42/50]\teval_time=12192.10 sec\tcurrent_logloss=0.195191\tmin_logloss=0.194754\n",
      "[43/50]\teval_time=5297.86 sec\tcurrent_logloss=0.195678\tmin_logloss=0.194754\n",
      "[44/50]\teval_time=12022.92 sec\tcurrent_logloss=0.195031\tmin_logloss=0.194754\n",
      "[45/50]\teval_time=12982.45 sec\tcurrent_logloss=0.196409\tmin_logloss=0.194754\n",
      "[46/50]\teval_time=5191.68 sec\tcurrent_logloss=0.195108\tmin_logloss=0.194754\n",
      "[47/50]\teval_time=12855.87 sec\tcurrent_logloss=0.195243\tmin_logloss=0.194754\n",
      "[48/50]\teval_time=12082.07 sec\tcurrent_logloss=0.194896\tmin_logloss=0.194754\n",
      "[49/50]\teval_time=5188.55 sec\tcurrent_logloss=0.195176\tmin_logloss=0.194754\n",
      "[50/50]\teval_time=12414.69 sec\tcurrent_logloss=0.195716\tmin_logloss=0.194754\n",
      "\n",
      "~~~~~~~~~~~~~~~~~~~~~~~~~~~~~~~~~~~~~~~~~~~~~~~~~~~~\n",
      "\n",
      "Tuned CatBoost result on cv:\n",
      "\n",
      "logloss = 0.19475353524\n",
      "best_n_estimators = 3834\n",
      "params = {'random_seed': 4, 'verbose': False, 'thread_count': 16, 'learning_rate': 0.010062560376588203, 'ctr_border_count': 16, 'ctr_description': ('Borders', 'CounterMax'), 'iterations': 3834, 'one_hot_max_size': 0, 'bagging_temperature': 0.5591407616034347, 'gradient_iterations': 10, 'random_strength': 20, 'depth': 6, 'loss_function': 'Logloss', 'l2_leaf_reg': 1.2090961094676416, 'border_count': 128, 'used_ram_limit': 100000000000}\n",
      "\n",
      "~~~~~~~~~~~~~~~~~~~~~~~~~~~~~~~~~~~~~~~~~~~~~~~~~~~~\n",
      "\n",
      "Tuned CatBoost result on test:\n",
      "\n",
      "For seed=0 Test's logloss : 0.194552\n",
      "For seed=1 Test's logloss : 0.194744\n",
      "For seed=2 Test's logloss : 0.194694\n",
      "For seed=3 Test's logloss : 0.194605\n",
      "For seed=4 Test's logloss : 0.194747\n",
      "\n",
      "Test's logloss mean: 0.194668, Test's logloss std: 0.000077\n"
     ]
    }
   ],
   "source": [
    "cab_default_test_result, cab_tuned_test_result = run_experiment(CABExperiment, \"CatBoost\")"
   ]
  },
  {
   "cell_type": "markdown",
   "metadata": {
    "collapsed": true,
    "deletable": true,
    "editable": true
   },
   "source": [
    "## Comparing results\n",
    "\n",
    "The final table with metric values on the test dataset."
   ]
  },
  {
   "cell_type": "code",
   "execution_count": 11,
   "metadata": {
    "collapsed": false,
    "deletable": true,
    "editable": true
   },
   "outputs": [
    {
     "name": "stdout",
     "output_type": "stream",
     "text": [
      "Populating the interactive namespace from numpy and matplotlib\n"
     ]
    },
    {
     "data": {
      "text/html": [
       "<table border=\"1\" class=\"dataframe\">\n",
       "  <thead>\n",
       "    <tr style=\"text-align: right;\">\n",
       "      <th></th>\n",
       "      <th>default</th>\n",
       "      <th>tuned</th>\n",
       "    </tr>\n",
       "  </thead>\n",
       "  <tbody>\n",
       "    <tr>\n",
       "      <th>xgboost</th>\n",
       "      <td>0.197949 (+1.69%)</td>\n",
       "      <td>0.195677 (+0.52%)</td>\n",
       "    </tr>\n",
       "    <tr>\n",
       "      <th>lightgbm</th>\n",
       "      <td>0.198369 (+1.90%)</td>\n",
       "      <td>0.195759 (+0.56%)</td>\n",
       "    </tr>\n",
       "    <tr>\n",
       "      <th>catboost</th>\n",
       "      <td>0.194794 (+0.06%)</td>\n",
       "      <td>0.194668 (+0.00%)</td>\n",
       "    </tr>\n",
       "  </tbody>\n",
       "</table>"
      ],
      "text/plain": [
       "<IPython.core.display.HTML object>"
      ]
     },
     "metadata": {},
     "output_type": "display_data"
    },
    {
     "data": {
      "image/png": "[encoded data removed]",
      "text/plain": [
       "<matplotlib.figure.Figure at 0x105bb40d0>"
      ]
     },
     "metadata": {},
     "output_type": "display_data"
    }
   ],
   "source": [
    "import pandas as pd\n",
    "import numpy as np\n",
    "from IPython.display import HTML, display\n",
    "%pylab inline --no-import-all\n",
    "\n",
    "test_results = np.array([\n",
    "    (xgb_default_test_result, xgb_tuned_test_result),\n",
    "    (lgb_default_test_result, lgb_tuned_test_result),\n",
    "    (cab_default_test_result, cab_tuned_test_result)\n",
    "])\n",
    "\n",
    "diff = 100 * test_results / test_results[2,1] - 100\n",
    "\n",
    "res = [['{:.6f} ({:+.2f}%)'.format(test_results[i, j], diff[i, j]) for j in range(2)] for i in range(3)]\n",
    "\n",
    "display(HTML(pd.DataFrame(res, columns=['default', 'tuned'], index=['xgboost', 'lightgbm', 'catboost']).to_html()))\n",
    "\n",
    "results = [\n",
    "    ('Tuned CatBoost',   cab_tuned_test_result),\n",
    "    ('Default CatBoost', cab_default_test_result),\n",
    "    ('Tuned XGBoost',    xgb_tuned_test_result),\n",
    "    ('Default XGBoost',  xgb_default_test_result),\n",
    "    ('Tuned LightGBM',   lgb_tuned_test_result),\n",
    "    ('Default LightGBM', lgb_default_test_result),\n",
    "]\n",
    "names = ['%s\\n%.5f' % (name, loss) for name, loss in results]\n",
    "\n",
    "plt.figure(figsize=(20, 7))\n",
    "plt.scatter(range(6), zip(*results)[1], s=150)\n",
    "plt.xticks(range(6), names, fontsize=15)\n",
    "plt.yticks(fontsize=12)\n",
    "plt.title('Comparison', fontsize=20)\n",
    "plt.ylabel(experiment.metric, fontsize=16);"
   ]
  }
 ],
 "metadata": {
  "kernelspec": {
   "display_name": "Python 2",
   "language": "python",
   "name": "python2"
  },
  "language_info": {
   "codemirror_mode": {
    "name": "ipython",
    "version": 2
   },
   "file_extension": ".py",
   "mimetype": "text/x-python",
   "name": "python",
   "nbconvert_exporter": "python",
   "pygments_lexer": "ipython2",
   "version": "2.7.13"
  }
 },
 "nbformat": 4,
 "nbformat_minor": 2
}
